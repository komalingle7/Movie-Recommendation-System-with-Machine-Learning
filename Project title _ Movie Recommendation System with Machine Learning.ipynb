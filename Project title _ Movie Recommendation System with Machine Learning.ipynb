{
 "cells": [
  {
   "cell_type": "markdown",
   "id": "acba0982",
   "metadata": {},
   "source": [
    "# Project title : Movie Recommendation System with Machine Learning"
   ]
  },
  {
   "cell_type": "markdown",
   "id": "ea7fa70c",
   "metadata": {},
   "source": [
    "Recommendation systems are among the most popular applications of data science. They are used to predict the rating or preference that a user would give to an item. These systems are integral to modern applications, helping businesses and platforms tailor their offerings to individual user tastes.\n",
    "\n",
    "Real-World Applications\n",
    "Amazon: Suggests products to customers based on their browsing and purchasing history.\n",
    "YouTube: Decides which video to play next on autoplay by analyzing viewing patterns.\n",
    "Facebook: Recommends pages to like and people to follow based on user interactions and interests.\n",
    "Objective\n",
    "In this Data Science project, we will build a basic recommendation system to understand the fundamentals of how these systems work. We will explore both simple and content-based recommendation systems. While our models may not match industry standards in terms of complexity, quality, or accuracy, they will serve as a solid foundation for developing more sophisticated models in the future.\n",
    "\n",
    "Project Outline\n",
    "1. Data Preparation\n",
    "Load and Clean Data: Import the dataset, handle missing values, and ensure consistency.\n",
    "Feature Engineering: Extract and format relevant features, such as movie titles and descriptions.\n",
    "2. Recommendation Approaches\n",
    "Content-Based Filtering: Recommend items similar to those the user has liked, based on item features.\n",
    "Collaborative Filtering: Suggest items based on user-item interactions and similarities.\n",
    "3. Model Training and Evaluation\n",
    "Similarity Calculation: Use techniques like TF-IDF and cosine similarity to measure item similarity.\n",
    "Build and Evaluate: Create models and evaluate their performance using metrics like precision and recall.\n",
    "4. Generate Recommendations\n",
    "Create Recommendation Function: Implement functions to generate and display recommendations.\n",
    "\n",
    "Test the Function: Verify the function with sample inputs to ensure accuracy."
   ]
  },
  {
   "cell_type": "code",
   "execution_count": 1,
   "id": "9b706c5d",
   "metadata": {},
   "outputs": [],
   "source": [
    "import pandas as pd\n",
    "import numpy as np"
   ]
  },
  {
   "cell_type": "code",
   "execution_count": 5,
   "id": "8aac444b",
   "metadata": {},
   "outputs": [
    {
     "name": "stderr",
     "output_type": "stream",
     "text": [
      "C:\\Users\\User\\AppData\\Local\\Temp\\ipykernel_30288\\1564236866.py:1: DtypeWarning: Columns (0,4,5,6,7,8,9,10,11,12,13,14,15,16,17,18,19,20,21,22,23,24,25,26,27,28,29,30,31,32,33,34,35,36,37,38,39,40,41,42,43,44,45,46,47,48,49,50,51,52,53,54,55,56,57,58,59,60,61,62,63,64,65,66,67,68,69,70,71,72,73,74,75,76,77,78,79,80,81,82,83,84,85,86,87,88,89,90,91,92,93,94,95,96,97,98,99,100,101,102,103,104,105,106,107,108,109,110,111,112,113,114,115,116,117,118,119,120,121,122,123,124,125,126,127,128,129,130,131,132,133,134,135,136,137,138,139,140,141,142,143,144,145,146,147,148,149,150,151,152,153,154,155,156,157,158,159,160,161,162,163,164,165,166,167,168,169,170,171,172,173,174,175,176,177,178,179,180,181,182,183,184,185,186,187,188,189,190,191,192,193,194,195,196,197,198,199,200,201,202,203,204,205,206,207,208,209,210,211,212,213,214,215,216,217,218,219,220,221,222,223,224,225,226,227,228,229,230,231,232,233,234,235,236,237,238,239,240,241,242,243,244,245,246,247,248,249,250,251,252,253,254,255,256,257,258,259,260,261,262,263,264,265,266,267,268,269,270,271,272,273,274,275,276,277,278,279,280,281,282,283,284,285,286,287,288,289,290,291,292,293,294,295,296,297,298,299,300,301,302,303,304,305,306,307,308,309,310,311,312,313,314,315,316,317,318,319,320,321,322,323,324,325,326,327,328,329,330,331,332,333,334,335,336,337,338,339,340,341,342,343,344,345,346,347,348,349,350,351,352,353,354,355,356,357,358,359,360,361,362,363,364,365,366,367,368,369,370,371,372,373,374,375,376,377,378,379,380,381,382,383,384,385,386,387,388,389,390,391,392,393,394,395,396,397,398,399,400,401,402,403,404,405,406,407,408,409,410,411,412,413,414,415,416,417,418,419,420,421,422,423,424,425,426,427,428,429,430,431,432,433,434,435,436,437,438,439,440,441,442,443,444,445,446,447,448,449,450,451,452,453,454,455,456,457,458,459,460,461,462,463,464,465,466,467,468,469,470,471,472,473,474,475,476,477,478,479,480,481,482,483,484,485,486,487,488,489,490,491,492,493,494,495,496,497,498,499,500,501,502,503,504,505,506,507,508,509,510,511,512,513,514,515,516,517,518,519,520,521,522,523,524,525,526,527,528,529,530,531,532,533,534,535,536,537,538,539,540,541,542,543,544,545,546,547,548,549,550,551,552,553,554,555,556,557,558,559,560,561,562,563,564,565,566,567,568,569,570,571,572,573,574,575,576,577,578,579,580,581,582,583,584,585,586,587,588,589,590,591,592,593,594,595,596,597,598,599,600,601,602,603,604,605,606,607,608,609,610,611,612,613,614,615,616,617,618,619,620,621,622,623,624,625,626,627,628,629,630,631,632,633,634,635,636,637,638,639,640,641,642,643,644,645,646,647,648,649,650,651,652,653,654,655,656,657,658,659,660,661,662,663,664,665,666,667,668,669,670,671,672,673,674,675,676,677,678,679,680,681,682,683,684,685,686,687,688,689,690,691,692,693,694,695,696,697,698,699,700,701,702,703,704,705,706,707,708,709,710,711,712,713,714,715,716,717,718,719,720,721,722,723,724,725,726,727,728,729,730,731,732,733,734,735,736,737,738,739,740,741,742,743,744,745,746,747,748,749,750,751,752,753,754,755,756,757,758,759,760,761,762,763,764,765,766,767,768,769,770,771,772,773,774,775,776,777,778,779,780,781,782,783,784,785,786,787,788,789,790,791,792,793,794,795,796,797,798,799,800,801,802,803,804,805,806,807,808,809,810,811,812,813,814,815,816,817,818,819,820,821,822,823,824,825,826,827,828,829,830,831,832,833,834,835,836,837,838,839,840,841,842,843,844,845,846,847,848,849,850,851,852,853,854,855,856,857,858,859,860,861,862,863,864,865,866,867,868,869,870,871,872,873,874,875,876,877,878,879,880,881,882,883,884,885,886,887,888,889,890,891,892,893,894,895,896,897,898,899,900,901,902,903,904,905,906,907,908,909,910,911,912,913,914,915,916,917,918,919,920,921,922,923,924,925,926,927,928,929,930,931,932,933,934,935,936,937,938,939,940,941,942,943,944,945,946,947,948,949,950,951,952,953,954,955,956,957,958,959,960,961,962,963,964,965,966,967,968,969,970,971,972,973,974,975,976,977,978,979,980,981,982,983,984,985,986,987,988,989,990,991,992,993,994,995,996,997,998,999,1000,1001,1002,1003,1004,1005,1006,1007,1008,1009,1010,1011,1012,1013,1014,1015,1016,1017,1018,1019,1020,1021,1022,1023,1024,1025,1026,1027,1028,1029,1030,1031,1032,1033,1034,1035,1036,1037,1038,1039,1040,1041,1042,1043,1044,1045,1046,1047,1048,1049,1050,1051,1052,1053,1054,1055,1056,1057,1058,1059,1060,1061,1062,1063,1064,1065,1066,1067,1068,1069,1070,1071,1072,1073,1074,1075,1076,1077,1078,1079,1080,1081,1082,1083,1084,1085,1086,1087,1088,1089,1090,1091,1092,1093,1094,1095,1096,1097,1098,1099,1100,1101,1102,1103,1104,1105,1106,1107,1108,1109,1110,1111,1112,1113,1114,1115,1116,1117,1118,1119,1120,1121,1122,1123,1124,1125,1126,1127,1128,1129,1130,1131,1132,1133,1134,1135,1136,1137,1138,1139,1140,1141,1142,1143,1144,1145,1146,1147,1148,1149,1150,1151,1152,1153,1154,1155,1156,1157,1158,1159,1160,1161,1162,1163,1164,1165,1166,1167,1168,1169,1170,1171,1172,1173,1174,1175,1176,1177,1178,1179,1180,1181,1182,1183,1184,1185,1186,1187,1188,1189,1190,1191,1192,1193,1194,1195,1196,1197,1198,1199,1200,1201,1202,1203,1204,1205,1206,1207,1208,1209,1210,1211,1212,1213,1214,1215,1216,1217,1218,1219,1220,1221,1222,1223,1224,1225,1226,1227,1228,1229,1230,1231,1232,1233,1234,1235,1236,1237,1238,1239,1240,1241,1242,1243,1244,1245,1246,1247,1248,1249,1250,1251,1252,1253,1254,1255,1256,1257,1258,1259,1260,1261,1262,1263,1264) have mixed types. Specify dtype option on import or set low_memory=False.\n",
      "  credits = pd.read_csv(r\"C:\\Users\\User\\Desktop\\MRS\\tmdb_5000_credits.csv\")\n"
     ]
    }
   ],
   "source": [
    "credits = pd.read_csv(r\"C:\\Users\\User\\Desktop\\MRS\\tmdb_5000_credits.csv\")\n",
    "movies = pd.read_csv(r\"C:\\Users\\User\\Desktop\\MRS\\tmdb_5000_movies.csv\")"
   ]
  },
  {
   "cell_type": "code",
   "execution_count": null,
   "id": "a4f32c32",
   "metadata": {},
   "outputs": [],
   "source": []
  },
  {
   "cell_type": "code",
   "execution_count": 6,
   "id": "edd2138a",
   "metadata": {},
   "outputs": [
    {
     "data": {
      "text/html": [
       "<div>\n",
       "<style scoped>\n",
       "    .dataframe tbody tr th:only-of-type {\n",
       "        vertical-align: middle;\n",
       "    }\n",
       "\n",
       "    .dataframe tbody tr th {\n",
       "        vertical-align: top;\n",
       "    }\n",
       "\n",
       "    .dataframe thead th {\n",
       "        text-align: right;\n",
       "    }\n",
       "</style>\n",
       "<table border=\"1\" class=\"dataframe\">\n",
       "  <thead>\n",
       "    <tr style=\"text-align: right;\">\n",
       "      <th></th>\n",
       "      <th>movie_id</th>\n",
       "      <th>title</th>\n",
       "      <th>cast</th>\n",
       "      <th>crew</th>\n",
       "      <th>Unnamed: 4</th>\n",
       "      <th>Unnamed: 5</th>\n",
       "      <th>Unnamed: 6</th>\n",
       "      <th>Unnamed: 7</th>\n",
       "      <th>Unnamed: 8</th>\n",
       "      <th>Unnamed: 9</th>\n",
       "      <th>...</th>\n",
       "      <th>Unnamed: 1255</th>\n",
       "      <th>Unnamed: 1256</th>\n",
       "      <th>Unnamed: 1257</th>\n",
       "      <th>Unnamed: 1258</th>\n",
       "      <th>Unnamed: 1259</th>\n",
       "      <th>Unnamed: 1260</th>\n",
       "      <th>Unnamed: 1261</th>\n",
       "      <th>Unnamed: 1262</th>\n",
       "      <th>Unnamed: 1263</th>\n",
       "      <th>Unnamed: 1264</th>\n",
       "    </tr>\n",
       "  </thead>\n",
       "  <tbody>\n",
       "    <tr>\n",
       "      <th>0</th>\n",
       "      <td>19995</td>\n",
       "      <td>Avatar</td>\n",
       "      <td>[{\"cast_id\": 242, \"character\": \"Jake Sully\", \"...</td>\n",
       "      <td>[{\"credit_id\": \"52fe48009251416c750aca23\", \"de...</td>\n",
       "      <td>NaN</td>\n",
       "      <td>NaN</td>\n",
       "      <td>NaN</td>\n",
       "      <td>NaN</td>\n",
       "      <td>NaN</td>\n",
       "      <td>NaN</td>\n",
       "      <td>...</td>\n",
       "      <td>NaN</td>\n",
       "      <td>NaN</td>\n",
       "      <td>NaN</td>\n",
       "      <td>NaN</td>\n",
       "      <td>NaN</td>\n",
       "      <td>NaN</td>\n",
       "      <td>NaN</td>\n",
       "      <td>NaN</td>\n",
       "      <td>NaN</td>\n",
       "      <td>NaN</td>\n",
       "    </tr>\n",
       "    <tr>\n",
       "      <th>1</th>\n",
       "      <td>285</td>\n",
       "      <td>Pirates of the Caribbean: At World's End</td>\n",
       "      <td>[{\"cast_id\": 4, \"character\": \"Captain Jack Spa...</td>\n",
       "      <td>[{\"credit_id\": \"52fe4232c3a36847f800b579\", \"de...</td>\n",
       "      <td>NaN</td>\n",
       "      <td>NaN</td>\n",
       "      <td>NaN</td>\n",
       "      <td>NaN</td>\n",
       "      <td>NaN</td>\n",
       "      <td>NaN</td>\n",
       "      <td>...</td>\n",
       "      <td>NaN</td>\n",
       "      <td>NaN</td>\n",
       "      <td>NaN</td>\n",
       "      <td>NaN</td>\n",
       "      <td>NaN</td>\n",
       "      <td>NaN</td>\n",
       "      <td>NaN</td>\n",
       "      <td>NaN</td>\n",
       "      <td>NaN</td>\n",
       "      <td>NaN</td>\n",
       "    </tr>\n",
       "    <tr>\n",
       "      <th>2</th>\n",
       "      <td>206647</td>\n",
       "      <td>Spectre</td>\n",
       "      <td>[{\"cast_id\": 1, \"character\": \"James Bond\", \"cr...</td>\n",
       "      <td>[{\"credit_id\": \"54805967c3a36829b5002c41\", \"de...</td>\n",
       "      <td>NaN</td>\n",
       "      <td>NaN</td>\n",
       "      <td>NaN</td>\n",
       "      <td>NaN</td>\n",
       "      <td>NaN</td>\n",
       "      <td>NaN</td>\n",
       "      <td>...</td>\n",
       "      <td>NaN</td>\n",
       "      <td>NaN</td>\n",
       "      <td>NaN</td>\n",
       "      <td>NaN</td>\n",
       "      <td>NaN</td>\n",
       "      <td>NaN</td>\n",
       "      <td>NaN</td>\n",
       "      <td>NaN</td>\n",
       "      <td>NaN</td>\n",
       "      <td>NaN</td>\n",
       "    </tr>\n",
       "    <tr>\n",
       "      <th>3</th>\n",
       "      <td>49026</td>\n",
       "      <td>The Dark Knight Rises</td>\n",
       "      <td>[{\"cast_id\": 2, \"character\": \"Bruce Wayne / Ba...</td>\n",
       "      <td>[{\"credit_id\": \"52fe4781c3a36847f81398c3\", \"de...</td>\n",
       "      <td>NaN</td>\n",
       "      <td>NaN</td>\n",
       "      <td>NaN</td>\n",
       "      <td>NaN</td>\n",
       "      <td>NaN</td>\n",
       "      <td>NaN</td>\n",
       "      <td>...</td>\n",
       "      <td>NaN</td>\n",
       "      <td>NaN</td>\n",
       "      <td>NaN</td>\n",
       "      <td>NaN</td>\n",
       "      <td>NaN</td>\n",
       "      <td>NaN</td>\n",
       "      <td>NaN</td>\n",
       "      <td>NaN</td>\n",
       "      <td>NaN</td>\n",
       "      <td>NaN</td>\n",
       "    </tr>\n",
       "    <tr>\n",
       "      <th>4</th>\n",
       "      <td>49529</td>\n",
       "      <td>John Carter</td>\n",
       "      <td>[{\"cast_id\": 5, \"character\": \"John Carter\", \"c...</td>\n",
       "      <td>[{\"credit_id\": \"52fe479ac3a36847f813eaa3\", \"de...</td>\n",
       "      <td>NaN</td>\n",
       "      <td>NaN</td>\n",
       "      <td>NaN</td>\n",
       "      <td>NaN</td>\n",
       "      <td>NaN</td>\n",
       "      <td>NaN</td>\n",
       "      <td>...</td>\n",
       "      <td>NaN</td>\n",
       "      <td>NaN</td>\n",
       "      <td>NaN</td>\n",
       "      <td>NaN</td>\n",
       "      <td>NaN</td>\n",
       "      <td>NaN</td>\n",
       "      <td>NaN</td>\n",
       "      <td>NaN</td>\n",
       "      <td>NaN</td>\n",
       "      <td>NaN</td>\n",
       "    </tr>\n",
       "  </tbody>\n",
       "</table>\n",
       "<p>5 rows × 1265 columns</p>\n",
       "</div>"
      ],
      "text/plain": [
       "  movie_id                                     title  \\\n",
       "0    19995                                    Avatar   \n",
       "1      285  Pirates of the Caribbean: At World's End   \n",
       "2   206647                                   Spectre   \n",
       "3    49026                     The Dark Knight Rises   \n",
       "4    49529                               John Carter   \n",
       "\n",
       "                                                cast  \\\n",
       "0  [{\"cast_id\": 242, \"character\": \"Jake Sully\", \"...   \n",
       "1  [{\"cast_id\": 4, \"character\": \"Captain Jack Spa...   \n",
       "2  [{\"cast_id\": 1, \"character\": \"James Bond\", \"cr...   \n",
       "3  [{\"cast_id\": 2, \"character\": \"Bruce Wayne / Ba...   \n",
       "4  [{\"cast_id\": 5, \"character\": \"John Carter\", \"c...   \n",
       "\n",
       "                                                crew Unnamed: 4 Unnamed: 5  \\\n",
       "0  [{\"credit_id\": \"52fe48009251416c750aca23\", \"de...        NaN        NaN   \n",
       "1  [{\"credit_id\": \"52fe4232c3a36847f800b579\", \"de...        NaN        NaN   \n",
       "2  [{\"credit_id\": \"54805967c3a36829b5002c41\", \"de...        NaN        NaN   \n",
       "3  [{\"credit_id\": \"52fe4781c3a36847f81398c3\", \"de...        NaN        NaN   \n",
       "4  [{\"credit_id\": \"52fe479ac3a36847f813eaa3\", \"de...        NaN        NaN   \n",
       "\n",
       "  Unnamed: 6 Unnamed: 7 Unnamed: 8 Unnamed: 9  ... Unnamed: 1255  \\\n",
       "0        NaN        NaN        NaN        NaN  ...           NaN   \n",
       "1        NaN        NaN        NaN        NaN  ...           NaN   \n",
       "2        NaN        NaN        NaN        NaN  ...           NaN   \n",
       "3        NaN        NaN        NaN        NaN  ...           NaN   \n",
       "4        NaN        NaN        NaN        NaN  ...           NaN   \n",
       "\n",
       "  Unnamed: 1256 Unnamed: 1257 Unnamed: 1258 Unnamed: 1259 Unnamed: 1260  \\\n",
       "0           NaN           NaN           NaN           NaN           NaN   \n",
       "1           NaN           NaN           NaN           NaN           NaN   \n",
       "2           NaN           NaN           NaN           NaN           NaN   \n",
       "3           NaN           NaN           NaN           NaN           NaN   \n",
       "4           NaN           NaN           NaN           NaN           NaN   \n",
       "\n",
       "  Unnamed: 1261 Unnamed: 1262 Unnamed: 1263 Unnamed: 1264  \n",
       "0           NaN           NaN           NaN           NaN  \n",
       "1           NaN           NaN           NaN           NaN  \n",
       "2           NaN           NaN           NaN           NaN  \n",
       "3           NaN           NaN           NaN           NaN  \n",
       "4           NaN           NaN           NaN           NaN  \n",
       "\n",
       "[5 rows x 1265 columns]"
      ]
     },
     "execution_count": 6,
     "metadata": {},
     "output_type": "execute_result"
    }
   ],
   "source": [
    "credits.head()"
   ]
  },
  {
   "cell_type": "code",
   "execution_count": 7,
   "id": "fb337f59",
   "metadata": {},
   "outputs": [
    {
     "data": {
      "text/html": [
       "<div>\n",
       "<style scoped>\n",
       "    .dataframe tbody tr th:only-of-type {\n",
       "        vertical-align: middle;\n",
       "    }\n",
       "\n",
       "    .dataframe tbody tr th {\n",
       "        vertical-align: top;\n",
       "    }\n",
       "\n",
       "    .dataframe thead th {\n",
       "        text-align: right;\n",
       "    }\n",
       "</style>\n",
       "<table border=\"1\" class=\"dataframe\">\n",
       "  <thead>\n",
       "    <tr style=\"text-align: right;\">\n",
       "      <th></th>\n",
       "      <th>budget</th>\n",
       "      <th>genres</th>\n",
       "      <th>homepage</th>\n",
       "      <th>id</th>\n",
       "      <th>keywords</th>\n",
       "      <th>original_language</th>\n",
       "      <th>original_title</th>\n",
       "      <th>overview</th>\n",
       "      <th>popularity</th>\n",
       "      <th>production_companies</th>\n",
       "      <th>production_countries</th>\n",
       "      <th>release_date</th>\n",
       "      <th>revenue</th>\n",
       "      <th>runtime</th>\n",
       "      <th>spoken_languages</th>\n",
       "      <th>status</th>\n",
       "      <th>tagline</th>\n",
       "      <th>title</th>\n",
       "      <th>vote_average</th>\n",
       "      <th>vote_count</th>\n",
       "    </tr>\n",
       "  </thead>\n",
       "  <tbody>\n",
       "    <tr>\n",
       "      <th>0</th>\n",
       "      <td>237000000</td>\n",
       "      <td>[{\"id\": 28, \"name\": \"Action\"}, {\"id\": 12, \"nam...</td>\n",
       "      <td>http://www.avatarmovie.com/</td>\n",
       "      <td>19995</td>\n",
       "      <td>[{\"id\": 1463, \"name\": \"culture clash\"}, {\"id\":...</td>\n",
       "      <td>en</td>\n",
       "      <td>Avatar</td>\n",
       "      <td>In the 22nd century, a paraplegic Marine is di...</td>\n",
       "      <td>150.437577</td>\n",
       "      <td>[{\"name\": \"Ingenious Film Partners\", \"id\": 289...</td>\n",
       "      <td>[{\"iso_3166_1\": \"US\", \"name\": \"United States o...</td>\n",
       "      <td>12/10/2009</td>\n",
       "      <td>2787965087</td>\n",
       "      <td>162.0</td>\n",
       "      <td>[{\"iso_639_1\": \"en\", \"name\": \"English\"}, {\"iso...</td>\n",
       "      <td>Released</td>\n",
       "      <td>Enter the World of Pandora.</td>\n",
       "      <td>Avatar</td>\n",
       "      <td>7.2</td>\n",
       "      <td>11800</td>\n",
       "    </tr>\n",
       "    <tr>\n",
       "      <th>1</th>\n",
       "      <td>300000000</td>\n",
       "      <td>[{\"id\": 12, \"name\": \"Adventure\"}, {\"id\": 14, \"...</td>\n",
       "      <td>http://disney.go.com/disneypictures/pirates/</td>\n",
       "      <td>285</td>\n",
       "      <td>[{\"id\": 270, \"name\": \"ocean\"}, {\"id\": 726, \"na...</td>\n",
       "      <td>en</td>\n",
       "      <td>Pirates of the Caribbean: At World's End</td>\n",
       "      <td>Captain Barbossa, long believed to be dead, ha...</td>\n",
       "      <td>139.082615</td>\n",
       "      <td>[{\"name\": \"Walt Disney Pictures\", \"id\": 2}, {\"...</td>\n",
       "      <td>[{\"iso_3166_1\": \"US\", \"name\": \"United States o...</td>\n",
       "      <td>5/19/2007</td>\n",
       "      <td>961000000</td>\n",
       "      <td>169.0</td>\n",
       "      <td>[{\"iso_639_1\": \"en\", \"name\": \"English\"}]</td>\n",
       "      <td>Released</td>\n",
       "      <td>At the end of the world, the adventure begins.</td>\n",
       "      <td>Pirates of the Caribbean: At World's End</td>\n",
       "      <td>6.9</td>\n",
       "      <td>4500</td>\n",
       "    </tr>\n",
       "    <tr>\n",
       "      <th>2</th>\n",
       "      <td>245000000</td>\n",
       "      <td>[{\"id\": 28, \"name\": \"Action\"}, {\"id\": 12, \"nam...</td>\n",
       "      <td>http://www.sonypictures.com/movies/spectre/</td>\n",
       "      <td>206647</td>\n",
       "      <td>[{\"id\": 470, \"name\": \"spy\"}, {\"id\": 818, \"name...</td>\n",
       "      <td>en</td>\n",
       "      <td>Spectre</td>\n",
       "      <td>A cryptic message from Bond’s past sends him o...</td>\n",
       "      <td>107.376788</td>\n",
       "      <td>[{\"name\": \"Columbia Pictures\", \"id\": 5}, {\"nam...</td>\n",
       "      <td>[{\"iso_3166_1\": \"GB\", \"name\": \"United Kingdom\"...</td>\n",
       "      <td>10/26/2015</td>\n",
       "      <td>880674609</td>\n",
       "      <td>148.0</td>\n",
       "      <td>[{\"iso_639_1\": \"fr\", \"name\": \"Fran\\u00e7ais\"},...</td>\n",
       "      <td>Released</td>\n",
       "      <td>A Plan No One Escapes</td>\n",
       "      <td>Spectre</td>\n",
       "      <td>6.3</td>\n",
       "      <td>4466</td>\n",
       "    </tr>\n",
       "    <tr>\n",
       "      <th>3</th>\n",
       "      <td>250000000</td>\n",
       "      <td>[{\"id\": 28, \"name\": \"Action\"}, {\"id\": 80, \"nam...</td>\n",
       "      <td>http://www.thedarkknightrises.com/</td>\n",
       "      <td>49026</td>\n",
       "      <td>[{\"id\": 849, \"name\": \"dc comics\"}, {\"id\": 853,...</td>\n",
       "      <td>en</td>\n",
       "      <td>The Dark Knight Rises</td>\n",
       "      <td>Following the death of District Attorney Harve...</td>\n",
       "      <td>112.312950</td>\n",
       "      <td>[{\"name\": \"Legendary Pictures\", \"id\": 923}, {\"...</td>\n",
       "      <td>[{\"iso_3166_1\": \"US\", \"name\": \"United States o...</td>\n",
       "      <td>7/16/2012</td>\n",
       "      <td>1084939099</td>\n",
       "      <td>165.0</td>\n",
       "      <td>[{\"iso_639_1\": \"en\", \"name\": \"English\"}]</td>\n",
       "      <td>Released</td>\n",
       "      <td>The Legend Ends</td>\n",
       "      <td>The Dark Knight Rises</td>\n",
       "      <td>7.6</td>\n",
       "      <td>9106</td>\n",
       "    </tr>\n",
       "    <tr>\n",
       "      <th>4</th>\n",
       "      <td>260000000</td>\n",
       "      <td>[{\"id\": 28, \"name\": \"Action\"}, {\"id\": 12, \"nam...</td>\n",
       "      <td>http://movies.disney.com/john-carter</td>\n",
       "      <td>49529</td>\n",
       "      <td>[{\"id\": 818, \"name\": \"based on novel\"}, {\"id\":...</td>\n",
       "      <td>en</td>\n",
       "      <td>John Carter</td>\n",
       "      <td>John Carter is a war-weary, former military ca...</td>\n",
       "      <td>43.926995</td>\n",
       "      <td>[{\"name\": \"Walt Disney Pictures\", \"id\": 2}]</td>\n",
       "      <td>[{\"iso_3166_1\": \"US\", \"name\": \"United States o...</td>\n",
       "      <td>3/7/2012</td>\n",
       "      <td>284139100</td>\n",
       "      <td>132.0</td>\n",
       "      <td>[{\"iso_639_1\": \"en\", \"name\": \"English\"}]</td>\n",
       "      <td>Released</td>\n",
       "      <td>Lost in our world, found in another.</td>\n",
       "      <td>John Carter</td>\n",
       "      <td>6.1</td>\n",
       "      <td>2124</td>\n",
       "    </tr>\n",
       "  </tbody>\n",
       "</table>\n",
       "</div>"
      ],
      "text/plain": [
       "      budget                                             genres  \\\n",
       "0  237000000  [{\"id\": 28, \"name\": \"Action\"}, {\"id\": 12, \"nam...   \n",
       "1  300000000  [{\"id\": 12, \"name\": \"Adventure\"}, {\"id\": 14, \"...   \n",
       "2  245000000  [{\"id\": 28, \"name\": \"Action\"}, {\"id\": 12, \"nam...   \n",
       "3  250000000  [{\"id\": 28, \"name\": \"Action\"}, {\"id\": 80, \"nam...   \n",
       "4  260000000  [{\"id\": 28, \"name\": \"Action\"}, {\"id\": 12, \"nam...   \n",
       "\n",
       "                                       homepage      id  \\\n",
       "0                   http://www.avatarmovie.com/   19995   \n",
       "1  http://disney.go.com/disneypictures/pirates/     285   \n",
       "2   http://www.sonypictures.com/movies/spectre/  206647   \n",
       "3            http://www.thedarkknightrises.com/   49026   \n",
       "4          http://movies.disney.com/john-carter   49529   \n",
       "\n",
       "                                            keywords original_language  \\\n",
       "0  [{\"id\": 1463, \"name\": \"culture clash\"}, {\"id\":...                en   \n",
       "1  [{\"id\": 270, \"name\": \"ocean\"}, {\"id\": 726, \"na...                en   \n",
       "2  [{\"id\": 470, \"name\": \"spy\"}, {\"id\": 818, \"name...                en   \n",
       "3  [{\"id\": 849, \"name\": \"dc comics\"}, {\"id\": 853,...                en   \n",
       "4  [{\"id\": 818, \"name\": \"based on novel\"}, {\"id\":...                en   \n",
       "\n",
       "                             original_title  \\\n",
       "0                                    Avatar   \n",
       "1  Pirates of the Caribbean: At World's End   \n",
       "2                                   Spectre   \n",
       "3                     The Dark Knight Rises   \n",
       "4                               John Carter   \n",
       "\n",
       "                                            overview  popularity  \\\n",
       "0  In the 22nd century, a paraplegic Marine is di...  150.437577   \n",
       "1  Captain Barbossa, long believed to be dead, ha...  139.082615   \n",
       "2  A cryptic message from Bond’s past sends him o...  107.376788   \n",
       "3  Following the death of District Attorney Harve...  112.312950   \n",
       "4  John Carter is a war-weary, former military ca...   43.926995   \n",
       "\n",
       "                                production_companies  \\\n",
       "0  [{\"name\": \"Ingenious Film Partners\", \"id\": 289...   \n",
       "1  [{\"name\": \"Walt Disney Pictures\", \"id\": 2}, {\"...   \n",
       "2  [{\"name\": \"Columbia Pictures\", \"id\": 5}, {\"nam...   \n",
       "3  [{\"name\": \"Legendary Pictures\", \"id\": 923}, {\"...   \n",
       "4        [{\"name\": \"Walt Disney Pictures\", \"id\": 2}]   \n",
       "\n",
       "                                production_countries release_date     revenue  \\\n",
       "0  [{\"iso_3166_1\": \"US\", \"name\": \"United States o...   12/10/2009  2787965087   \n",
       "1  [{\"iso_3166_1\": \"US\", \"name\": \"United States o...    5/19/2007   961000000   \n",
       "2  [{\"iso_3166_1\": \"GB\", \"name\": \"United Kingdom\"...   10/26/2015   880674609   \n",
       "3  [{\"iso_3166_1\": \"US\", \"name\": \"United States o...    7/16/2012  1084939099   \n",
       "4  [{\"iso_3166_1\": \"US\", \"name\": \"United States o...     3/7/2012   284139100   \n",
       "\n",
       "   runtime                                   spoken_languages    status  \\\n",
       "0    162.0  [{\"iso_639_1\": \"en\", \"name\": \"English\"}, {\"iso...  Released   \n",
       "1    169.0           [{\"iso_639_1\": \"en\", \"name\": \"English\"}]  Released   \n",
       "2    148.0  [{\"iso_639_1\": \"fr\", \"name\": \"Fran\\u00e7ais\"},...  Released   \n",
       "3    165.0           [{\"iso_639_1\": \"en\", \"name\": \"English\"}]  Released   \n",
       "4    132.0           [{\"iso_639_1\": \"en\", \"name\": \"English\"}]  Released   \n",
       "\n",
       "                                          tagline  \\\n",
       "0                     Enter the World of Pandora.   \n",
       "1  At the end of the world, the adventure begins.   \n",
       "2                           A Plan No One Escapes   \n",
       "3                                 The Legend Ends   \n",
       "4            Lost in our world, found in another.   \n",
       "\n",
       "                                      title  vote_average  vote_count  \n",
       "0                                    Avatar           7.2       11800  \n",
       "1  Pirates of the Caribbean: At World's End           6.9        4500  \n",
       "2                                   Spectre           6.3        4466  \n",
       "3                     The Dark Knight Rises           7.6        9106  \n",
       "4                               John Carter           6.1        2124  "
      ]
     },
     "execution_count": 7,
     "metadata": {},
     "output_type": "execute_result"
    }
   ],
   "source": [
    "movies.head()"
   ]
  },
  {
   "cell_type": "code",
   "execution_count": 8,
   "id": "abb1d72f",
   "metadata": {},
   "outputs": [
    {
     "name": "stdout",
     "output_type": "stream",
     "text": [
      "Credits: (4813, 1265)\n",
      "Movies Dataframe: (4803, 20)\n"
     ]
    }
   ],
   "source": [
    "print(\"Credits:\",credits.shape)\n",
    "print(\"Movies Dataframe:\",movies.shape)"
   ]
  },
  {
   "cell_type": "code",
   "execution_count": 9,
   "id": "a0169725",
   "metadata": {},
   "outputs": [],
   "source": [
    "credits_column_renamed = credits.rename(index=str, columns={\"movie_id\": \"id\"})"
   ]
  },
  {
   "cell_type": "code",
   "execution_count": 10,
   "id": "e90b3120",
   "metadata": {},
   "outputs": [],
   "source": [
    "movies_merge = movies.merge(credits_column_renamed, on='id')"
   ]
  },
  {
   "cell_type": "code",
   "execution_count": 11,
   "id": "7ce9546e",
   "metadata": {},
   "outputs": [
    {
     "name": "stdout",
     "output_type": "stream",
     "text": [
      "     budget                                             genres  \\\n",
      "0         0  [{\"id\": 35, \"name\": \"Comedy\"}, {\"id\": 14, \"nam...   \n",
      "1  48000000  [{\"id\": 14, \"name\": \"Fantasy\"}, {\"id\": 35, \"na...   \n",
      "2  58000000  [{\"id\": 10402, \"name\": \"Music\"}, {\"id\": 18, \"n...   \n",
      "3  55000000                    [{\"id\": 37, \"name\": \"Western\"}]   \n",
      "4  48000000  [{\"id\": 53, \"name\": \"Thriller\"}, {\"id\": 28, \"n...   \n",
      "\n",
      "                           homepage      id  \\\n",
      "0                               NaN   11232   \n",
      "1                               NaN    1636   \n",
      "2                               NaN    2148   \n",
      "3  http://www.310toyumathefilm.com/    5176   \n",
      "4       http://www.taken3movie.com/  260346   \n",
      "\n",
      "                                            keywords original_language  \\\n",
      "0  [{\"id\": 1808, \"name\": \"lover (female)\"}, {\"id\"...                en   \n",
      "1  [{\"id\": 2038, \"name\": \"love of one's life\"}, {...                en   \n",
      "2  [{\"id\": 1416, \"name\": \"jazz\"}, {\"id\": 3017, \"n...                en   \n",
      "3  [{\"id\": 1582, \"name\": \"saloon\"}, {\"id\": 1701, ...                en   \n",
      "4  [{\"id\": 9748, \"name\": \"revenge\"}, {\"id\": 9826,...                en   \n",
      "\n",
      "    original_title                                           overview  \\\n",
      "0   Kate & Leopold  When her scientist ex-boyfriend discovers a po...   \n",
      "1        Bedazzled  Elliot Richardson, suicidal techno geek, is gi...   \n",
      "2  The Cotton Club  The story of the people that frequented Harlem...   \n",
      "3     3:10 to Yuma  In Arizona in the late 1800's, infamous outlaw...   \n",
      "4          Taken 3  Ex-government operative Bryan Mills finds his ...   \n",
      "\n",
      "   popularity                               production_companies  ...  \\\n",
      "0   11.940711  [{\"name\": \"Miramax Films\", \"id\": 14}, {\"name\":...  ...   \n",
      "1   19.348007  [{\"name\": \"Twentieth Century Fox Film Corporat...  ...   \n",
      "2    8.590750  [{\"name\": \"Orion Pictures\", \"id\": 41}, {\"name\"...  ...   \n",
      "3   48.801089  [{\"name\": \"Tree Line Films\", \"id\": 84}, {\"name...  ...   \n",
      "4   88.844777  [{\"name\": \"Twentieth Century Fox Film Corporat...  ...   \n",
      "\n",
      "  Unnamed: 1255 Unnamed: 1256  Unnamed: 1257  Unnamed: 1258 Unnamed: 1259  \\\n",
      "0           NaN           NaN            NaN            NaN           NaN   \n",
      "1           NaN           NaN            NaN            NaN           NaN   \n",
      "2           NaN           NaN            NaN            NaN           NaN   \n",
      "3           NaN           NaN            NaN            NaN           NaN   \n",
      "4           NaN           NaN            NaN            NaN           NaN   \n",
      "\n",
      "  Unnamed: 1260 Unnamed: 1261 Unnamed: 1262  Unnamed: 1263  Unnamed: 1264  \n",
      "0           NaN           NaN           NaN            NaN            NaN  \n",
      "1           NaN           NaN           NaN            NaN            NaN  \n",
      "2           NaN           NaN           NaN            NaN            NaN  \n",
      "3           NaN           NaN           NaN            NaN            NaN  \n",
      "4           NaN           NaN           NaN            NaN            NaN  \n",
      "\n",
      "[5 rows x 1284 columns]\n"
     ]
    }
   ],
   "source": [
    "print(movies_merge.head())"
   ]
  },
  {
   "cell_type": "code",
   "execution_count": null,
   "id": "bc9db583",
   "metadata": {},
   "outputs": [],
   "source": [
    "movies_cleaned = movies_merge.drop(columns=['homepage', 'title_x', 'title_y', 'status','production_countries'])\n",
    "print(movies_cleaned.head())\n",
    "print(movies_cleaned.info())\n",
    "print(movies_cleaned.head(1)['overview'])"
   ]
  },
  {
   "cell_type": "code",
   "execution_count": 19,
   "id": "14f6226b",
   "metadata": {},
   "outputs": [],
   "source": [
    "movies_cleaned = movies_merge.drop(columns=['homepage', 'title_x', 'title_y', 'status','production_countries'])"
   ]
  },
  {
   "cell_type": "code",
   "execution_count": 20,
   "id": "6381624c",
   "metadata": {},
   "outputs": [
    {
     "name": "stdout",
     "output_type": "stream",
     "text": [
      "     budget                                             genres      id  \\\n",
      "0         0  [{\"id\": 35, \"name\": \"Comedy\"}, {\"id\": 14, \"nam...   11232   \n",
      "1  48000000  [{\"id\": 14, \"name\": \"Fantasy\"}, {\"id\": 35, \"na...    1636   \n",
      "2  58000000  [{\"id\": 10402, \"name\": \"Music\"}, {\"id\": 18, \"n...    2148   \n",
      "3  55000000                    [{\"id\": 37, \"name\": \"Western\"}]    5176   \n",
      "4  48000000  [{\"id\": 53, \"name\": \"Thriller\"}, {\"id\": 28, \"n...  260346   \n",
      "\n",
      "                                            keywords original_language  \\\n",
      "0  [{\"id\": 1808, \"name\": \"lover (female)\"}, {\"id\"...                en   \n",
      "1  [{\"id\": 2038, \"name\": \"love of one's life\"}, {...                en   \n",
      "2  [{\"id\": 1416, \"name\": \"jazz\"}, {\"id\": 3017, \"n...                en   \n",
      "3  [{\"id\": 1582, \"name\": \"saloon\"}, {\"id\": 1701, ...                en   \n",
      "4  [{\"id\": 9748, \"name\": \"revenge\"}, {\"id\": 9826,...                en   \n",
      "\n",
      "    original_title                                           overview  \\\n",
      "0   Kate & Leopold  When her scientist ex-boyfriend discovers a po...   \n",
      "1        Bedazzled  Elliot Richardson, suicidal techno geek, is gi...   \n",
      "2  The Cotton Club  The story of the people that frequented Harlem...   \n",
      "3     3:10 to Yuma  In Arizona in the late 1800's, infamous outlaw...   \n",
      "4          Taken 3  Ex-government operative Bryan Mills finds his ...   \n",
      "\n",
      "   popularity                               production_companies release_date  \\\n",
      "0   11.940711  [{\"name\": \"Miramax Films\", \"id\": 14}, {\"name\":...   12/25/2001   \n",
      "1   19.348007  [{\"name\": \"Twentieth Century Fox Film Corporat...   10/19/2000   \n",
      "2    8.590750  [{\"name\": \"Orion Pictures\", \"id\": 41}, {\"name\"...   12/14/1984   \n",
      "3   48.801089  [{\"name\": \"Tree Line Films\", \"id\": 84}, {\"name...     9/6/2007   \n",
      "4   88.844777  [{\"name\": \"Twentieth Century Fox Film Corporat...   12/16/2014   \n",
      "\n",
      "   ...  Unnamed: 1255  Unnamed: 1256 Unnamed: 1257 Unnamed: 1258  \\\n",
      "0  ...            NaN            NaN           NaN           NaN   \n",
      "1  ...            NaN            NaN           NaN           NaN   \n",
      "2  ...            NaN            NaN           NaN           NaN   \n",
      "3  ...            NaN            NaN           NaN           NaN   \n",
      "4  ...            NaN            NaN           NaN           NaN   \n",
      "\n",
      "   Unnamed: 1259  Unnamed: 1260 Unnamed: 1261 Unnamed: 1262 Unnamed: 1263  \\\n",
      "0            NaN            NaN           NaN           NaN           NaN   \n",
      "1            NaN            NaN           NaN           NaN           NaN   \n",
      "2            NaN            NaN           NaN           NaN           NaN   \n",
      "3            NaN            NaN           NaN           NaN           NaN   \n",
      "4            NaN            NaN           NaN           NaN           NaN   \n",
      "\n",
      "  Unnamed: 1264  \n",
      "0           NaN  \n",
      "1           NaN  \n",
      "2           NaN  \n",
      "3           NaN  \n",
      "4           NaN  \n",
      "\n",
      "[5 rows x 1279 columns]\n"
     ]
    }
   ],
   "source": [
    "print(movies_cleaned.head())\n"
   ]
  },
  {
   "cell_type": "code",
   "execution_count": 21,
   "id": "52932070",
   "metadata": {},
   "outputs": [
    {
     "name": "stdout",
     "output_type": "stream",
     "text": [
      "<class 'pandas.core.frame.DataFrame'>\n",
      "Int64Index: 3276 entries, 0 to 3275\n",
      "Columns: 1279 entries, budget to Unnamed: 1264\n",
      "dtypes: float64(3), int64(3), object(1273)\n",
      "memory usage: 32.0+ MB\n",
      "None\n"
     ]
    }
   ],
   "source": [
    "print(movies_cleaned.info())"
   ]
  },
  {
   "cell_type": "code",
   "execution_count": 22,
   "id": "5fd0a8f3",
   "metadata": {},
   "outputs": [
    {
     "name": "stdout",
     "output_type": "stream",
     "text": [
      "0    When her scientist ex-boyfriend discovers a po...\n",
      "Name: overview, dtype: object\n"
     ]
    }
   ],
   "source": [
    "print(movies_cleaned.head(1)['overview'])"
   ]
  },
  {
   "cell_type": "markdown",
   "id": "1f13db44",
   "metadata": {},
   "source": [
    "Content Based Recommendation System: - \n",
    "\n",
    "Now lets make a recommendations based on the movie’s plot summaries given in the overview column. So if our user gives us a movie title, our goal is to recommend movies that share similar plot summaries."
   ]
  },
  {
   "cell_type": "code",
   "execution_count": 16,
   "id": "1c3953a2",
   "metadata": {},
   "outputs": [],
   "source": [
    "from sklearn.feature_extraction.text import TfidfVectorizer"
   ]
  },
  {
   "cell_type": "code",
   "execution_count": 17,
   "id": "05463bc2",
   "metadata": {},
   "outputs": [],
   "source": [
    "tfv = TfidfVectorizer(min_df=3,  max_features=None,\n",
    "            strip_accents='unicode', analyzer='word',token_pattern=r'\\w{1,}',\n",
    "            ngram_range=(1, 3),\n",
    "            stop_words = 'english')"
   ]
  },
  {
   "cell_type": "code",
   "execution_count": 28,
   "id": "f94741a5",
   "metadata": {},
   "outputs": [
    {
     "ename": "ValueError",
     "evalue": "np.nan is an invalid document, expected byte or unicode string.",
     "output_type": "error",
     "traceback": [
      "\u001b[1;31m---------------------------------------------------------------------------\u001b[0m",
      "\u001b[1;31mValueError\u001b[0m                                Traceback (most recent call last)",
      "\u001b[1;32m~\\AppData\\Local\\Temp\\ipykernel_30288\\3018504312.py\u001b[0m in \u001b[0;36m<module>\u001b[1;34m\u001b[0m\n\u001b[0;32m      1\u001b[0m \u001b[1;31m# Fitting the TF-IDF on the 'overview' text\u001b[0m\u001b[1;33m\u001b[0m\u001b[1;33m\u001b[0m\u001b[0m\n\u001b[1;32m----> 2\u001b[1;33m \u001b[0mtfv_matrix\u001b[0m \u001b[1;33m=\u001b[0m \u001b[0mtfv\u001b[0m\u001b[1;33m.\u001b[0m\u001b[0mfit_transform\u001b[0m\u001b[1;33m(\u001b[0m\u001b[0mmovies_cleaned\u001b[0m\u001b[1;33m[\u001b[0m\u001b[1;34m'overview'\u001b[0m\u001b[1;33m]\u001b[0m\u001b[1;33m)\u001b[0m\u001b[1;33m\u001b[0m\u001b[1;33m\u001b[0m\u001b[0m\n\u001b[0m\u001b[0;32m      3\u001b[0m \u001b[0mprint\u001b[0m\u001b[1;33m(\u001b[0m\u001b[0mtfv_matrix\u001b[0m\u001b[1;33m)\u001b[0m\u001b[1;33m\u001b[0m\u001b[1;33m\u001b[0m\u001b[0m\n\u001b[0;32m      4\u001b[0m \u001b[0mprint\u001b[0m\u001b[1;33m(\u001b[0m\u001b[0mtfv_matrix\u001b[0m\u001b[1;33m.\u001b[0m\u001b[0mshape\u001b[0m\u001b[1;33m)\u001b[0m\u001b[1;33m\u001b[0m\u001b[1;33m\u001b[0m\u001b[0m\n",
      "\u001b[1;32m~\\anaconda3\\lib\\site-packages\\sklearn\\feature_extraction\\text.py\u001b[0m in \u001b[0;36mfit_transform\u001b[1;34m(self, raw_documents, y)\u001b[0m\n\u001b[0;32m   2075\u001b[0m         \"\"\"\n\u001b[0;32m   2076\u001b[0m         \u001b[0mself\u001b[0m\u001b[1;33m.\u001b[0m\u001b[0m_check_params\u001b[0m\u001b[1;33m(\u001b[0m\u001b[1;33m)\u001b[0m\u001b[1;33m\u001b[0m\u001b[1;33m\u001b[0m\u001b[0m\n\u001b[1;32m-> 2077\u001b[1;33m         \u001b[0mX\u001b[0m \u001b[1;33m=\u001b[0m \u001b[0msuper\u001b[0m\u001b[1;33m(\u001b[0m\u001b[1;33m)\u001b[0m\u001b[1;33m.\u001b[0m\u001b[0mfit_transform\u001b[0m\u001b[1;33m(\u001b[0m\u001b[0mraw_documents\u001b[0m\u001b[1;33m)\u001b[0m\u001b[1;33m\u001b[0m\u001b[1;33m\u001b[0m\u001b[0m\n\u001b[0m\u001b[0;32m   2078\u001b[0m         \u001b[0mself\u001b[0m\u001b[1;33m.\u001b[0m\u001b[0m_tfidf\u001b[0m\u001b[1;33m.\u001b[0m\u001b[0mfit\u001b[0m\u001b[1;33m(\u001b[0m\u001b[0mX\u001b[0m\u001b[1;33m)\u001b[0m\u001b[1;33m\u001b[0m\u001b[1;33m\u001b[0m\u001b[0m\n\u001b[0;32m   2079\u001b[0m         \u001b[1;31m# X is already a transformed view of raw_documents so\u001b[0m\u001b[1;33m\u001b[0m\u001b[1;33m\u001b[0m\u001b[0m\n",
      "\u001b[1;32m~\\anaconda3\\lib\\site-packages\\sklearn\\feature_extraction\\text.py\u001b[0m in \u001b[0;36mfit_transform\u001b[1;34m(self, raw_documents, y)\u001b[0m\n\u001b[0;32m   1328\u001b[0m                     \u001b[1;32mbreak\u001b[0m\u001b[1;33m\u001b[0m\u001b[1;33m\u001b[0m\u001b[0m\n\u001b[0;32m   1329\u001b[0m \u001b[1;33m\u001b[0m\u001b[0m\n\u001b[1;32m-> 1330\u001b[1;33m         \u001b[0mvocabulary\u001b[0m\u001b[1;33m,\u001b[0m \u001b[0mX\u001b[0m \u001b[1;33m=\u001b[0m \u001b[0mself\u001b[0m\u001b[1;33m.\u001b[0m\u001b[0m_count_vocab\u001b[0m\u001b[1;33m(\u001b[0m\u001b[0mraw_documents\u001b[0m\u001b[1;33m,\u001b[0m \u001b[0mself\u001b[0m\u001b[1;33m.\u001b[0m\u001b[0mfixed_vocabulary_\u001b[0m\u001b[1;33m)\u001b[0m\u001b[1;33m\u001b[0m\u001b[1;33m\u001b[0m\u001b[0m\n\u001b[0m\u001b[0;32m   1331\u001b[0m \u001b[1;33m\u001b[0m\u001b[0m\n\u001b[0;32m   1332\u001b[0m         \u001b[1;32mif\u001b[0m \u001b[0mself\u001b[0m\u001b[1;33m.\u001b[0m\u001b[0mbinary\u001b[0m\u001b[1;33m:\u001b[0m\u001b[1;33m\u001b[0m\u001b[1;33m\u001b[0m\u001b[0m\n",
      "\u001b[1;32m~\\anaconda3\\lib\\site-packages\\sklearn\\feature_extraction\\text.py\u001b[0m in \u001b[0;36m_count_vocab\u001b[1;34m(self, raw_documents, fixed_vocab)\u001b[0m\n\u001b[0;32m   1199\u001b[0m         \u001b[1;32mfor\u001b[0m \u001b[0mdoc\u001b[0m \u001b[1;32min\u001b[0m \u001b[0mraw_documents\u001b[0m\u001b[1;33m:\u001b[0m\u001b[1;33m\u001b[0m\u001b[1;33m\u001b[0m\u001b[0m\n\u001b[0;32m   1200\u001b[0m             \u001b[0mfeature_counter\u001b[0m \u001b[1;33m=\u001b[0m \u001b[1;33m{\u001b[0m\u001b[1;33m}\u001b[0m\u001b[1;33m\u001b[0m\u001b[1;33m\u001b[0m\u001b[0m\n\u001b[1;32m-> 1201\u001b[1;33m             \u001b[1;32mfor\u001b[0m \u001b[0mfeature\u001b[0m \u001b[1;32min\u001b[0m \u001b[0manalyze\u001b[0m\u001b[1;33m(\u001b[0m\u001b[0mdoc\u001b[0m\u001b[1;33m)\u001b[0m\u001b[1;33m:\u001b[0m\u001b[1;33m\u001b[0m\u001b[1;33m\u001b[0m\u001b[0m\n\u001b[0m\u001b[0;32m   1202\u001b[0m                 \u001b[1;32mtry\u001b[0m\u001b[1;33m:\u001b[0m\u001b[1;33m\u001b[0m\u001b[1;33m\u001b[0m\u001b[0m\n\u001b[0;32m   1203\u001b[0m                     \u001b[0mfeature_idx\u001b[0m \u001b[1;33m=\u001b[0m \u001b[0mvocabulary\u001b[0m\u001b[1;33m[\u001b[0m\u001b[0mfeature\u001b[0m\u001b[1;33m]\u001b[0m\u001b[1;33m\u001b[0m\u001b[1;33m\u001b[0m\u001b[0m\n",
      "\u001b[1;32m~\\anaconda3\\lib\\site-packages\\sklearn\\feature_extraction\\text.py\u001b[0m in \u001b[0;36m_analyze\u001b[1;34m(doc, analyzer, tokenizer, ngrams, preprocessor, decoder, stop_words)\u001b[0m\n\u001b[0;32m    106\u001b[0m \u001b[1;33m\u001b[0m\u001b[0m\n\u001b[0;32m    107\u001b[0m     \u001b[1;32mif\u001b[0m \u001b[0mdecoder\u001b[0m \u001b[1;32mis\u001b[0m \u001b[1;32mnot\u001b[0m \u001b[1;32mNone\u001b[0m\u001b[1;33m:\u001b[0m\u001b[1;33m\u001b[0m\u001b[1;33m\u001b[0m\u001b[0m\n\u001b[1;32m--> 108\u001b[1;33m         \u001b[0mdoc\u001b[0m \u001b[1;33m=\u001b[0m \u001b[0mdecoder\u001b[0m\u001b[1;33m(\u001b[0m\u001b[0mdoc\u001b[0m\u001b[1;33m)\u001b[0m\u001b[1;33m\u001b[0m\u001b[1;33m\u001b[0m\u001b[0m\n\u001b[0m\u001b[0;32m    109\u001b[0m     \u001b[1;32mif\u001b[0m \u001b[0manalyzer\u001b[0m \u001b[1;32mis\u001b[0m \u001b[1;32mnot\u001b[0m \u001b[1;32mNone\u001b[0m\u001b[1;33m:\u001b[0m\u001b[1;33m\u001b[0m\u001b[1;33m\u001b[0m\u001b[0m\n\u001b[0;32m    110\u001b[0m         \u001b[0mdoc\u001b[0m \u001b[1;33m=\u001b[0m \u001b[0manalyzer\u001b[0m\u001b[1;33m(\u001b[0m\u001b[0mdoc\u001b[0m\u001b[1;33m)\u001b[0m\u001b[1;33m\u001b[0m\u001b[1;33m\u001b[0m\u001b[0m\n",
      "\u001b[1;32m~\\anaconda3\\lib\\site-packages\\sklearn\\feature_extraction\\text.py\u001b[0m in \u001b[0;36mdecode\u001b[1;34m(self, doc)\u001b[0m\n\u001b[0;32m    224\u001b[0m \u001b[1;33m\u001b[0m\u001b[0m\n\u001b[0;32m    225\u001b[0m         \u001b[1;32mif\u001b[0m \u001b[0mdoc\u001b[0m \u001b[1;32mis\u001b[0m \u001b[0mnp\u001b[0m\u001b[1;33m.\u001b[0m\u001b[0mnan\u001b[0m\u001b[1;33m:\u001b[0m\u001b[1;33m\u001b[0m\u001b[1;33m\u001b[0m\u001b[0m\n\u001b[1;32m--> 226\u001b[1;33m             raise ValueError(\n\u001b[0m\u001b[0;32m    227\u001b[0m                 \u001b[1;34m\"np.nan is an invalid document, expected byte or unicode string.\"\u001b[0m\u001b[1;33m\u001b[0m\u001b[1;33m\u001b[0m\u001b[0m\n\u001b[0;32m    228\u001b[0m             )\n",
      "\u001b[1;31mValueError\u001b[0m: np.nan is an invalid document, expected byte or unicode string."
     ]
    }
   ],
   "source": [
    "# Fitting the TF-IDF on the 'overview' text\n",
    "tfv_matrix = tfv.fit_transform(movies_cleaned['overview'])\n",
    "print(tfv_matrix)\n",
    "print(tfv_matrix.shape)"
   ]
  },
  {
   "cell_type": "code",
   "execution_count": 29,
   "id": "e09c06c4",
   "metadata": {},
   "outputs": [
    {
     "name": "stdout",
     "output_type": "stream",
     "text": [
      "1\n"
     ]
    }
   ],
   "source": [
    "print(movies_cleaned['overview'].isna().sum())"
   ]
  },
  {
   "cell_type": "code",
   "execution_count": 30,
   "id": "62057a5c",
   "metadata": {},
   "outputs": [],
   "source": [
    "# Fill NaN values with an empty string\n",
    "movies_cleaned['overview'].fillna('', inplace=True)"
   ]
  },
  {
   "cell_type": "code",
   "execution_count": 31,
   "id": "aeb0789d",
   "metadata": {},
   "outputs": [],
   "source": [
    "# Drop rows with NaN values in the 'overview' column\n",
    "movies_cleaned.dropna(subset=['overview'], inplace=True)"
   ]
  },
  {
   "cell_type": "code",
   "execution_count": 32,
   "id": "37d33ab7",
   "metadata": {},
   "outputs": [
    {
     "name": "stdout",
     "output_type": "stream",
     "text": [
      "<class 'str'>    3276\n",
      "Name: overview, dtype: int64\n"
     ]
    }
   ],
   "source": [
    "print(movies_cleaned['overview'].apply(type).value_counts())"
   ]
  },
  {
   "cell_type": "code",
   "execution_count": 33,
   "id": "93fc6779",
   "metadata": {},
   "outputs": [],
   "source": [
    "movies_cleaned['overview'] = movies_cleaned['overview'].astype(str)"
   ]
  },
  {
   "cell_type": "code",
   "execution_count": 34,
   "id": "6a1e553d",
   "metadata": {},
   "outputs": [],
   "source": [
    "from sklearn.feature_extraction.text import TfidfVectorizer"
   ]
  },
  {
   "cell_type": "code",
   "execution_count": 35,
   "id": "707137b0",
   "metadata": {},
   "outputs": [],
   "source": [
    "# Assuming you have already defined tfv as a TfidfVectorizer instance\n",
    "tfv = TfidfVectorizer()"
   ]
  },
  {
   "cell_type": "code",
   "execution_count": 36,
   "id": "03c57c6e",
   "metadata": {},
   "outputs": [],
   "source": [
    "# Handle missing values\n",
    "movies_cleaned['overview'].fillna('', inplace=True)\n"
   ]
  },
  {
   "cell_type": "code",
   "execution_count": 37,
   "id": "60075636",
   "metadata": {},
   "outputs": [],
   "source": [
    "# Ensure all entries are strings\n",
    "movies_cleaned['overview'] = movies_cleaned['overview'].astype(str)"
   ]
  },
  {
   "cell_type": "code",
   "execution_count": 38,
   "id": "22cffadf",
   "metadata": {},
   "outputs": [],
   "source": [
    "# Fit and transform the data\n",
    "tfv_matrix = tfv.fit_transform(movies_cleaned['overview'])"
   ]
  },
  {
   "cell_type": "code",
   "execution_count": 39,
   "id": "292be774",
   "metadata": {},
   "outputs": [
    {
     "name": "stdout",
     "output_type": "stream",
     "text": [
      "  (0, 7424)\t0.11298420645874493\n",
      "  (0, 710)\t0.13951473057861022\n",
      "  (0, 6207)\t0.11604170845739324\n",
      "  (0, 17130)\t0.07907700711009275\n",
      "  (0, 322)\t0.15603475637625414\n",
      "  (0, 11272)\t0.0817642040770832\n",
      "  (0, 7418)\t0.07876978933225338\n",
      "  (0, 13089)\t0.1044798686374166\n",
      "  (0, 4670)\t0.10869666323512633\n",
      "  (0, 7223)\t0.04860069018620823\n",
      "  (0, 7757)\t0.0972452726461527\n",
      "  (0, 2330)\t0.0543773397848142\n",
      "  (0, 7406)\t0.06285791678734366\n",
      "  (0, 5751)\t0.09679544412618696\n",
      "  (0, 14034)\t0.06551701283116608\n",
      "  (0, 7127)\t0.1599302507011789\n",
      "  (0, 17197)\t0.041021976995716934\n",
      "  (0, 14628)\t0.13645722857996193\n",
      "  (0, 10323)\t0.08683694042671004\n",
      "  (0, 189)\t0.15274116285385456\n",
      "  (0, 15600)\t0.07411277678419216\n",
      "  (0, 14137)\t0.1451204226386621\n",
      "  (0, 6185)\t0.09198206331879683\n",
      "  (0, 13042)\t0.1599302507011789\n",
      "  (0, 15371)\t0.08813225006748676\n",
      "  :\t:\n",
      "  (3275, 12157)\t0.13331677664517405\n",
      "  (3275, 5490)\t0.10656630990980957\n",
      "  (3275, 8429)\t0.13819446416234352\n",
      "  (3275, 6039)\t0.08898355110258703\n",
      "  (3275, 8978)\t0.10656630990980957\n",
      "  (3275, 7028)\t0.11417993443434876\n",
      "  (3275, 17019)\t0.10624719523549864\n",
      "  (3275, 6377)\t0.053602489883424996\n",
      "  (3275, 7172)\t0.06111186593955506\n",
      "  (3275, 10718)\t0.06734678850862078\n",
      "  (3275, 15623)\t0.09396936233716562\n",
      "  (3275, 10871)\t0.08986389693349234\n",
      "  (3275, 11040)\t0.06635421567228271\n",
      "  (3275, 2348)\t0.05268168251091374\n",
      "  (3275, 7876)\t0.03288324630085412\n",
      "  (3275, 11038)\t0.04707314532771222\n",
      "  (3275, 7418)\t0.040293478995136967\n",
      "  (3275, 7223)\t0.14916563107008016\n",
      "  (3275, 14034)\t0.06702844841190307\n",
      "  (3275, 15600)\t0.050548340760931045\n",
      "  (3275, 6185)\t0.047052015343498094\n",
      "  (3275, 808)\t0.028731001260933475\n",
      "  (3275, 15772)\t0.05597137198097463\n",
      "  (3275, 7326)\t0.10777871416823595\n",
      "  (3275, 17061)\t0.05089842827004405\n",
      "(3276, 17468)\n"
     ]
    }
   ],
   "source": [
    "# Output results\n",
    "print(tfv_matrix)\n",
    "print(tfv_matrix.shape)"
   ]
  },
  {
   "cell_type": "code",
   "execution_count": 40,
   "id": "3cc20637",
   "metadata": {},
   "outputs": [],
   "source": [
    "from sklearn.metrics.pairwise import sigmoid_kernel"
   ]
  },
  {
   "cell_type": "code",
   "execution_count": 41,
   "id": "9f116ef9",
   "metadata": {},
   "outputs": [
    {
     "name": "stdout",
     "output_type": "stream",
     "text": [
      "[0.7616182  0.76159524 0.76159469 ... 0.76159521 0.76159474 0.76159503]\n"
     ]
    }
   ],
   "source": [
    "# Compute the sigmoid kernel\n",
    "sig = sigmoid_kernel(tfv_matrix, tfv_matrix)\n",
    "print(sig[0])"
   ]
  },
  {
   "cell_type": "markdown",
   "id": "afc12d68",
   "metadata": {},
   "source": [
    "## Reverse mapping of indices and movie titles"
   ]
  },
  {
   "cell_type": "code",
   "execution_count": 42,
   "id": "9119d6af",
   "metadata": {},
   "outputs": [
    {
     "name": "stdout",
     "output_type": "stream",
     "text": [
      "original_title\n",
      "Kate & Leopold                  0\n",
      "Bedazzled                       1\n",
      "The Cotton Club                 2\n",
      "3:10 to Yuma                    3\n",
      "Taken 3                         4\n",
      "                             ... \n",
      "El Mariachi                  3271\n",
      "Newlyweds                    3272\n",
      "Signed, Sealed, Delivered    3273\n",
      "Shanghai Calling             3274\n",
      "My Date with Drew            3275\n",
      "Length: 3276, dtype: int64\n"
     ]
    }
   ],
   "source": [
    "# Reverse mapping of indices and movie titles\n",
    "indices = pd.Series(movies_cleaned.index, index=movies_cleaned['original_title']).drop_duplicates()\n",
    "print(indices)"
   ]
  },
  {
   "cell_type": "code",
   "execution_count": 43,
   "id": "799e33e7",
   "metadata": {},
   "outputs": [
    {
     "name": "stdout",
     "output_type": "stream",
     "text": [
      "3272\n"
     ]
    }
   ],
   "source": [
    "print(indices['Newlyweds'])"
   ]
  },
  {
   "cell_type": "code",
   "execution_count": 45,
   "id": "40f5382e",
   "metadata": {},
   "outputs": [
    {
     "name": "stdout",
     "output_type": "stream",
     "text": [
      "original_title\n",
      "Kate & Leopold                  0\n",
      "Bedazzled                       1\n",
      "The Cotton Club                 2\n",
      "3:10 to Yuma                    3\n",
      "Taken 3                         4\n",
      "                             ... \n",
      "El Mariachi                  3271\n",
      "Newlyweds                    3272\n",
      "Signed, Sealed, Delivered    3273\n",
      "Shanghai Calling             3274\n",
      "My Date with Drew            3275\n",
      "Length: 3276, dtype: int64\n",
      "3272\n"
     ]
    },
    {
     "ename": "IndexError",
     "evalue": "index 4799 is out of bounds for axis 0 with size 3276",
     "output_type": "error",
     "traceback": [
      "\u001b[1;31m---------------------------------------------------------------------------\u001b[0m",
      "\u001b[1;31mIndexError\u001b[0m                                Traceback (most recent call last)",
      "\u001b[1;32m~\\AppData\\Local\\Temp\\ipykernel_30288\\1604325888.py\u001b[0m in \u001b[0;36m<module>\u001b[1;34m\u001b[0m\n\u001b[0;32m      2\u001b[0m \u001b[0mprint\u001b[0m\u001b[1;33m(\u001b[0m\u001b[0mindices\u001b[0m\u001b[1;33m)\u001b[0m\u001b[1;33m\u001b[0m\u001b[1;33m\u001b[0m\u001b[0m\n\u001b[0;32m      3\u001b[0m \u001b[0mprint\u001b[0m\u001b[1;33m(\u001b[0m\u001b[0mindices\u001b[0m\u001b[1;33m[\u001b[0m\u001b[1;34m'Newlyweds'\u001b[0m\u001b[1;33m]\u001b[0m\u001b[1;33m)\u001b[0m\u001b[1;33m\u001b[0m\u001b[1;33m\u001b[0m\u001b[0m\n\u001b[1;32m----> 4\u001b[1;33m \u001b[0mprint\u001b[0m\u001b[1;33m(\u001b[0m\u001b[0msig\u001b[0m\u001b[1;33m[\u001b[0m\u001b[1;36m4799\u001b[0m\u001b[1;33m]\u001b[0m\u001b[1;33m)\u001b[0m\u001b[1;33m\u001b[0m\u001b[1;33m\u001b[0m\u001b[0m\n\u001b[0m\u001b[0;32m      5\u001b[0m \u001b[0mprint\u001b[0m\u001b[1;33m(\u001b[0m\u001b[0mlist\u001b[0m\u001b[1;33m(\u001b[0m\u001b[0menumerate\u001b[0m\u001b[1;33m(\u001b[0m\u001b[0msig\u001b[0m\u001b[1;33m[\u001b[0m\u001b[0mindices\u001b[0m\u001b[1;33m[\u001b[0m\u001b[1;34m'Newlyweds'\u001b[0m\u001b[1;33m]\u001b[0m\u001b[1;33m]\u001b[0m\u001b[1;33m)\u001b[0m\u001b[1;33m)\u001b[0m\u001b[1;33m)\u001b[0m\u001b[1;33m\u001b[0m\u001b[1;33m\u001b[0m\u001b[0m\n\u001b[0;32m      6\u001b[0m \u001b[0mprint\u001b[0m\u001b[1;33m(\u001b[0m\u001b[0msorted\u001b[0m\u001b[1;33m(\u001b[0m\u001b[0mlist\u001b[0m\u001b[1;33m(\u001b[0m\u001b[0menumerate\u001b[0m\u001b[1;33m(\u001b[0m\u001b[0msig\u001b[0m\u001b[1;33m[\u001b[0m\u001b[0mindices\u001b[0m\u001b[1;33m[\u001b[0m\u001b[1;34m'Newlyweds'\u001b[0m\u001b[1;33m]\u001b[0m\u001b[1;33m]\u001b[0m\u001b[1;33m)\u001b[0m\u001b[1;33m)\u001b[0m\u001b[1;33m,\u001b[0m \u001b[0mkey\u001b[0m\u001b[1;33m=\u001b[0m\u001b[1;32mlambda\u001b[0m \u001b[0mx\u001b[0m\u001b[1;33m:\u001b[0m \u001b[0mx\u001b[0m\u001b[1;33m[\u001b[0m\u001b[1;36m1\u001b[0m\u001b[1;33m]\u001b[0m\u001b[1;33m,\u001b[0m \u001b[0mreverse\u001b[0m\u001b[1;33m=\u001b[0m\u001b[1;32mTrue\u001b[0m\u001b[1;33m)\u001b[0m\u001b[1;33m)\u001b[0m\u001b[1;33m\u001b[0m\u001b[1;33m\u001b[0m\u001b[0m\n",
      "\u001b[1;31mIndexError\u001b[0m: index 4799 is out of bounds for axis 0 with size 3276"
     ]
    }
   ],
   "source": [
    "indices = pd.Series(movies_cleaned.index, index=movies_cleaned['original_title']).drop_duplicates()\n",
    "print(indices)\n",
    "print(indices['Newlyweds'])\n",
    "print(sig[4799])\n",
    "print(list(enumerate(sig[indices['Newlyweds']])))\n",
    "print(sorted(list(enumerate(sig[indices['Newlyweds']])), key=lambda x: x[1], reverse=True))"
   ]
  },
  {
   "cell_type": "code",
   "execution_count": 46,
   "id": "3ddaed82",
   "metadata": {},
   "outputs": [
    {
     "name": "stdout",
     "output_type": "stream",
     "text": [
      "original_title\n",
      "Kate & Leopold                  0\n",
      "Bedazzled                       1\n",
      "The Cotton Club                 2\n",
      "3:10 to Yuma                    3\n",
      "Taken 3                         4\n",
      "                             ... \n",
      "El Mariachi                  3271\n",
      "Newlyweds                    3272\n",
      "Signed, Sealed, Delivered    3273\n",
      "Shanghai Calling             3274\n",
      "My Date with Drew            3275\n",
      "Length: 3276, dtype: int64\n",
      "[0.76159426 0.7615944  0.7615945  ... 0.76159486 0.76159458 0.76159439]\n",
      "[(0, 0.7615942631812533), (1, 0.7615944012876541), (2, 0.7615944980079399), (3, 0.761594461091149), (4, 0.761594700548365), (5, 0.7615945657923853), (6, 0.7615943016298923), (7, 0.7615946000145005), (8, 0.7615943656596972), (9, 0.7615944710041125), (10, 0.7615945098571912), (11, 0.7615947829626022), (12, 0.7615947669319096), (13, 0.761594748746191), (14, 0.7615941559557649), (15, 0.7615943281059172), (16, 0.761595644529789), (17, 0.7615943939732779), (18, 0.7615945622793554), (19, 0.7615945861661553), (20, 0.761594388208148), (21, 0.7615942905010443), (22, 0.7615941559557649), (23, 0.7615947146439781), (24, 0.7615943438330481), (25, 0.7615945608928678), (26, 0.7615944459056273), (27, 0.7615945243421826), (28, 0.7615947090319493), (29, 0.7615945000855285), (30, 0.7615942141118752), (31, 0.7615946596085666), (32, 0.7615945064834124), (33, 0.7615941559557649), (34, 0.7615950814428047), (35, 0.7615942708652101), (36, 0.7615942355145152), (37, 0.7615948344334819), (38, 0.7615942633627681), (39, 0.761594746582577), (40, 0.7615943920737202), (41, 0.7615941559557649), (42, 0.7615945842507982), (43, 0.7615946825300066), (44, 0.7615946688683228), (45, 0.761594554035607), (46, 0.7615945752909662), (47, 0.7615944936875434), (48, 0.7615945625296532), (49, 0.7615943731621844), (50, 0.7615943518505122), (51, 0.7615944465412893), (52, 0.7615951034531121), (53, 0.7615944586783263), (54, 0.7615946896417043), (55, 0.7615968763785089), (56, 0.7615941559557649), (57, 0.7615942469807061), (58, 0.7615942239239651), (59, 0.7615945599273424), (60, 0.7615942153133172), (61, 0.7615945852975017), (62, 0.7615950118265319), (63, 0.7615945939002498), (64, 0.7615946991666513), (65, 0.7615960425175764), (66, 0.7615944883775159), (67, 0.761594657344475), (68, 0.7615945541051836), (69, 0.7615945517495739), (70, 0.761594995906231), (71, 0.7615944590161225), (72, 0.7615942112599299), (73, 0.7615944016731045), (74, 0.7615954053692643), (75, 0.7615944131998229), (76, 0.7615942327797712), (77, 0.76159438557343), (78, 0.7615944294233894), (79, 0.761594510234106), (80, 0.761594587104296), (81, 0.7615944241268029), (82, 0.7615944189603538), (83, 0.7615947904002385), (84, 0.761594755367523), (85, 0.7615948164731935), (86, 0.7615944020192064), (87, 0.7615948956198049), (88, 0.7615946067329699), (89, 0.7615945016423715), (90, 0.7615949460946674), (91, 0.7615943122141435), (92, 0.761594414513359), (93, 0.7615946981512371), (94, 0.7615963857714747), (95, 0.7615941559557649), (96, 0.7615944136665348), (97, 0.7615945685982173), (98, 0.7615945298288669), (99, 0.7615946405466869), (100, 0.7615950640370173), (101, 0.7615945272199587), (102, 0.7615946299198887), (103, 0.7615944272630599), (104, 0.7615943514757921), (105, 0.7615947257570661), (106, 0.761594702233018), (107, 0.7615947134005745), (108, 0.7615944305516403), (109, 0.7615945292169206), (110, 0.7615942249407678), (111, 0.76159458377969), (112, 0.7615944868218814), (113, 0.761594553724387), (114, 0.7615942271534887), (115, 0.7615942068016632), (116, 0.7615948427480737), (117, 0.761594857838644), (118, 0.761594454979346), (119, 0.7615945960543316), (120, 0.7615942326144369), (121, 0.761594496381512), (122, 0.7615946183872356), (123, 0.7615943316170333), (124, 0.761594641367145), (125, 0.7615948356173114), (126, 0.7615948119032454), (127, 0.7615946093291007), (128, 0.7615943207160673), (129, 0.7615943760567868), (130, 0.7615945179126616), (131, 0.7615944840381644), (132, 0.7615943931578724), (133, 0.7615943677498326), (134, 0.761594231943356), (135, 0.7615943816893611), (136, 0.7615942629605505), (137, 0.7615942227600656), (138, 0.7615945025956994), (139, 0.7615946738192145), (140, 0.7615944107635587), (141, 0.7615950953705931), (142, 0.7615944332694603), (143, 0.7615957487153088), (144, 0.7615944429009246), (145, 0.7615943085288518), (146, 0.7615943642804157), (147, 0.7615947187426347), (148, 0.7615944409537136), (149, 0.7615947467720751), (150, 0.7615943582296749), (151, 0.7615944067182923), (152, 0.7615948955403582), (153, 0.761594587555161), (154, 0.7615944755163069), (155, 0.7615951968213257), (156, 0.7615946820470554), (157, 0.7615944216926626), (158, 0.761594307053213), (159, 0.7615949498382191), (160, 0.7615943957455965), (161, 0.7615943991435136), (162, 0.7615946150170689), (163, 0.7615944772385184), (164, 0.7615942763640353), (165, 0.7615943063468926), (166, 0.7615943539621781), (167, 0.76159473025317), (168, 0.7615943802753271), (169, 0.7615945551166459), (170, 0.7615947189482386), (171, 0.7615945319447716), (172, 0.7615943186364187), (173, 0.7615945938786532), (174, 0.7615942528465847), (175, 0.7615946867635235), (176, 0.7615944865432984), (177, 0.7615943483003429), (178, 0.7615943270093288), (179, 0.7615943864612217), (180, 0.7615943320683295), (181, 0.7615945407532937), (182, 0.7615941559557649), (183, 0.7615951893203207), (184, 0.7615945425731699), (185, 0.7615945720947926), (186, 0.7615945387743763), (187, 0.7615944204046063), (188, 0.7615944592171756), (189, 0.761594225803645), (190, 0.761596055962472), (191, 0.7615944407434954), (192, 0.7615950142677496), (193, 0.7615947656841318), (194, 0.761594421101186), (195, 0.7615945230151081), (196, 0.7615943911569235), (197, 0.7615946490494145), (198, 0.7615943448207398), (199, 0.7615945225141652), (200, 0.7615950973966371), (201, 0.761594577821725), (202, 0.7615942460066689), (203, 0.7615944531597277), (204, 0.7615944809699874), (205, 0.7615944136547996), (206, 0.7615952760765852), (207, 0.7615968752907237), (208, 0.7615945081748279), (209, 0.761594431340537), (210, 0.7615943697315164), (211, 0.7615943905655381), (212, 0.7615943590291545), (213, 0.7615942836122025), (214, 0.7615946539005145), (215, 0.7615944953178071), (216, 0.7615943463124195), (217, 0.7615942709280061), (218, 0.7615942532759581), (219, 0.7615945101185178), (220, 0.7615942432976133), (221, 0.7615957732270975), (222, 0.7615943003823822), (223, 0.7615944705127202), (224, 0.7615961284617259), (225, 0.7615944515176389), (226, 0.7615945332390941), (227, 0.7615943366924166), (228, 0.7615945446821795), (229, 0.7615944877790664), (230, 0.7615946904601191), (231, 0.7615945108743533), (232, 0.7615944302804227), (233, 0.7615948360050516), (234, 0.7615947310129397), (235, 0.7615941559557649), (236, 0.7615943965621232), (237, 0.7615946447909481), (238, 0.761594415556249), (239, 0.7615952467712195), (240, 0.7615943795437922), (241, 0.7615946413570489), (242, 0.76159439326392), (243, 0.7615941559557649), (244, 0.7615944448304576), (245, 0.7615943363228564), (246, 0.7615946333570455), (247, 0.7615947866709806), (248, 0.7615946606057146), (249, 0.7615945461894603), (250, 0.7615942662528093), (251, 0.761595972629587), (252, 0.7615944970398291), (253, 0.7615945680179761), (254, 0.761594358546538), (255, 0.7615950295930327), (256, 0.7615948430332343), (257, 0.7615942632206467), (258, 0.7615947798098922), (259, 0.761595116856506), (260, 0.761594356987252), (261, 0.7615945423940651), (262, 0.7615945383872654), (263, 0.7615947921668736), (264, 0.7615945271094458), (265, 0.7615950241298426), (266, 0.7615945768793212), (267, 0.7615945576191562), (268, 0.7615949213511379), (269, 0.7615947949510037), (270, 0.7615943198103067), (271, 0.7615944452073014), (272, 0.761594384084534), (273, 0.761594710931159), (274, 0.7615948601509192), (275, 0.7615943420528013), (276, 0.7615943806899825), (277, 0.7615943735463155), (278, 0.7615950280337367), (279, 0.7615944281689105), (280, 0.7615943775782648), (281, 0.76159467590317), (282, 0.7615947907222412), (283, 0.7615943984875425), (284, 0.7615945784723142), (285, 0.7615947694468558), (286, 0.7615950990507334), (287, 0.7615944620315467), (288, 0.7615944832394557), (289, 0.7615943644090584), (290, 0.7615945897607929), (291, 0.7615943913649268), (292, 0.7615946514965367), (293, 0.761594421723459), (294, 0.7615943577301905), (295, 0.7615951880123044), (296, 0.76159483282629), (297, 0.7615945216675046), (298, 0.7615944214279455), (299, 0.7615950104473465), (300, 0.7615945845212697), (301, 0.7615941559557649), (302, 0.7615947898154928), (303, 0.7615944306953611), (304, 0.7615941559557649), (305, 0.7615946011923778), (306, 0.7615947070253007), (307, 0.7615944604073168), (308, 0.7615945106437758), (309, 0.7615945556396286), (310, 0.7615946672070615), (311, 0.7615943547707047), (312, 0.7615952399840661), (313, 0.7615945271360413), (314, 0.7615946547905446), (315, 0.7615943358632787), (316, 0.7615942680552946), (317, 0.7615944204791694), (318, 0.7615945290070902), (319, 0.7615946685666514), (320, 0.7615942391791962), (321, 0.7615943129374166), (322, 0.7615945183473665), (323, 0.7615946778100308), (324, 0.7615944252911968), (325, 0.761594494641212), (326, 0.7615942230773372), (327, 0.7615943767830686), (328, 0.7615943487971478), (329, 0.7615945062203409), (330, 0.7615942288415904), (331, 0.7615947694430936), (332, 0.7615943481205256), (333, 0.7615948855945043), (334, 0.7615942916374664), (335, 0.7615944477134441), (336, 0.7615947858597735), (337, 0.7615945839122769), (338, 0.7615943623938681), (339, 0.7615944027898318), (340, 0.7615945973616358), (341, 0.7615947829443297), (342, 0.7615944088653815), (343, 0.761594418971762), (344, 0.7615950345045953), (345, 0.7615944292795431), (346, 0.7615953607026631), (347, 0.7615964034293956), (348, 0.7615959976508475), (349, 0.761594613124005), (350, 0.7615947984961323), (351, 0.7615944290015687), (352, 0.7615944257026593), (353, 0.7615943263307628), (354, 0.7615948787537045), (355, 0.7615941559557649), (356, 0.761594419081549), (357, 0.7615949161693374), (358, 0.7615945622337286), (359, 0.7615943567108971), (360, 0.7615942364352876), (361, 0.7615944310489142), (362, 0.7615949542179408), (363, 0.7615943494489513), (364, 0.761594482671513), (365, 0.7615943776377859), (366, 0.7615948657342224), (367, 0.7615943625751291), (368, 0.7615947647292073), (369, 0.761596087149287), (370, 0.7615942232947247), (371, 0.7615944903568419), (372, 0.7615954878797604), (373, 0.761594711284901), (374, 0.76159470319168), (375, 0.7615946078199329), (376, 0.7615945124059469), (377, 0.7615944159131819), (378, 0.7615944813865688), (379, 0.7615945368167082), (380, 0.761594761372991), (381, 0.7615943044716038), (382, 0.7615947291926786), (383, 0.7615946508834087), (384, 0.7615942631409955), (385, 0.7615944781382343), (386, 0.7615942165358268), (387, 0.7615942505891574), (388, 0.7615943166334506), (389, 0.7615944795478158), (390, 0.7615949420225496), (391, 0.7615943200975502), (392, 0.7615941559557649), (393, 0.7615942767459054), (394, 0.7615949473265103), (395, 0.7615945568481929), (396, 0.7615943920172238), (397, 0.761594507697735), (398, 0.7615944759200013), (399, 0.7615943717306163), (400, 0.7615945595719784), (401, 0.7615943605246763), (402, 0.7615943441713228), (403, 0.7615943545913145), (404, 0.761594644752521), (405, 0.7615944807726439), (406, 0.7615946043052225), (407, 0.7615946713219126), (408, 0.7615945468144145), (409, 0.7615942367721363), (410, 0.7615947244074369), (411, 0.7615943655056278), (412, 0.7615945502010684), (413, 0.7615946621612354), (414, 0.7615950912430622), (415, 0.7615944377261761), (416, 0.761594801168268), (417, 0.7615944578256136), (418, 0.7615948058655798), (419, 0.7615942093350144), (420, 0.7615943834332648), (421, 0.7615942221870721), (422, 0.7615946645668915), (423, 0.7615942077544218), (424, 0.7615949418161448), (425, 0.7615941559557649), (426, 0.7615941559557649), (427, 0.7615957287509902), (428, 0.7615945022743252), (429, 0.7615945178682969), (430, 0.7615948571491348), (431, 0.7615952262894083), (432, 0.7615949101479099), (433, 0.7615946182383145), (434, 0.7615945831712003), (435, 0.7615948705799824), (436, 0.7615945429322523), (437, 0.7615949628965097), (438, 0.7615944477183074), (439, 0.7615952200053282), (440, 0.7615947621784454), (441, 0.7615944727492118), (442, 0.7615941559557649), (443, 0.761594724991981), (444, 0.761594286867439), (445, 0.7615944574087641), (446, 0.761594758943841), (447, 0.7615942090722955), (448, 0.7615945948456795), (449, 0.761594494283522), (450, 0.761594503813477), (451, 0.7615945157183632), (452, 0.7615946464994426), (453, 0.7615944209492935), (454, 0.7615943433934765), (455, 0.7615946306314465), (456, 0.7615955884460264), (457, 0.7615941559557649), (458, 0.7615946078067793), (459, 0.7615941559557649), (460, 0.7615943996177188), (461, 0.7615942978268853), (462, 0.7615941559557649), (463, 0.7615943240321073), (464, 0.7615944248807953), (465, 0.7615948929067622), (466, 0.7615942301847598), (467, 0.7615947008065553), (468, 0.7615946631412482), (469, 0.7615944209025602), (470, 0.7615942208326016), (471, 0.7615946858915617), (472, 0.7615943511301968), (473, 0.7615941559557649), (474, 0.7615947682908931), (475, 0.7615948628729021), (476, 0.7615945932675616), (477, 0.761595331897895), (478, 0.7615944061058673), (479, 0.7615942321245811), (480, 0.7615943142396364), (481, 0.7615946942517198), (482, 0.7615944205249086), (483, 0.7615944262081984), (484, 0.7615942212362183), (485, 0.7615944638077641), (486, 0.7615947042258668), (487, 0.7615949859542639), (488, 0.7615962277923806), (489, 0.7615942065311365), (490, 0.761594654900911), (491, 0.7615946798304876), (492, 0.7615943149373452), (493, 0.7615942647372378), (494, 0.7615943911707694), (495, 0.7615947317099451), (496, 0.7615945058803976), (497, 0.7615947277443528), (498, 0.7615944948842488), (499, 0.7615942804342386), (500, 0.7615943879488014), (501, 0.7615947981212835), (502, 0.7615945274208122), (503, 0.7615948055399602), (504, 0.7615942161118144), (505, 0.7615942535751548), (506, 0.7615943290190845), (507, 0.7615946905355806), (508, 0.761594256605953), (509, 0.7615945025964969), (510, 0.761594270642362), (511, 0.7615945165847452), (512, 0.7615945576643102), (513, 0.7615949945247222), (514, 0.7615942507818556), (515, 0.7615945503513354), (516, 0.7615946382024937), (517, 0.7615946487340197), (518, 0.761595181704025), (519, 0.7615944762404875), (520, 0.7615944091442524), (521, 0.7615944423865759), (522, 0.7615942796846256), (523, 0.7615942272207283), (524, 0.7615944641699024), (525, 0.7615947121495708), (526, 0.7615942972776526), (527, 0.7615950591731486), (528, 0.7615946550599948), (529, 0.7615947837863495), (530, 0.7615946019497779), (531, 0.7615943351340893), (532, 0.7615945932753827), (533, 0.7615943886739013), (534, 0.7615946746791227), (535, 0.7615949653980771), (536, 0.7615951156150467), (537, 0.7615944476576901), (538, 0.7615948759176535), (539, 0.7615945478966863), (540, 0.7615944058784834), (541, 0.7615941559557649), (542, 0.7615943790315531), (543, 0.7615954840689452), (544, 0.7615942178146472), (545, 0.7615943076086175), (546, 0.7615951471495234), (547, 0.7615946299122967), (548, 0.761595325417158), (549, 0.76159459252023), (550, 0.7615945478479016), (551, 0.7615948968778765), (552, 0.7615948478711694), (553, 0.7615944708717923), (554, 0.7615946561135385), (555, 0.7615957319643545), (556, 0.761594260313156), (557, 0.7615951534432955), (558, 0.7615944354987363), (559, 0.7615944025277379), (560, 0.7615974831554625), (561, 0.7615947497934394), (562, 0.7615942724462466), (563, 0.7615959077101089), (564, 0.7615944854953183), (565, 0.7615947850902877), (566, 0.761594257019222), (567, 0.7615942184372405), (568, 0.7615945011774806), (569, 0.7615947113918387), (570, 0.7615947562663393), (571, 0.7615944961778142), (572, 0.7615941559557649), (573, 0.761594305242725), (574, 0.7615943803866041), (575, 0.7615947000256709), (576, 0.7615947589948786), (577, 0.761594441401371), (578, 0.7615944809243207), (579, 0.7615942835785238), (580, 0.7615942186221675), (581, 0.7615944248791998), (582, 0.7615946105704765), (583, 0.7615942069936245), (584, 0.761594574662753), (585, 0.7615944870533997), (586, 0.7615943878838505), (587, 0.7615945127857116), (588, 0.7615951075115415), (589, 0.7615944415092921), (590, 0.7615947116272191), (591, 0.7615948618988013), (592, 0.7615950780533076), (593, 0.7615945568204405), (594, 0.7615948295753616), (595, 0.7615944831741954), (596, 0.7615945746173642), (597, 0.7615947111495981), (598, 0.7615943811586902), (599, 0.761594945205827), (600, 0.7615944623732831), (601, 0.7615949745903279), (602, 0.7615942549225942), (603, 0.7615944047964284), (604, 0.7615945566082518), (605, 0.7615944513125897), (606, 0.7615945708753799), (607, 0.7615944498335523), (608, 0.7615943698650638), (609, 0.7615944440802432), (610, 0.7615941559557649), (611, 0.7615943708998958), (612, 0.7615944157019117), (613, 0.7615943444091678), (614, 0.7615954404402164), (615, 0.7615944429380779), (616, 0.7615953089975976), (617, 0.7615950456425152), (618, 0.7615941559557649), (619, 0.7615948475908043), (620, 0.7615945456774564), (621, 0.7615944869924218), (622, 0.7615945933053245), (623, 0.7615942077066576), (624, 0.7615944281092548), (625, 0.7615943589496339), (626, 0.761594243150026), (627, 0.7615944666714166), (628, 0.7615944559262497), (629, 0.7615945721291363), (630, 0.7615942581404667), (631, 0.7615943695901096), (632, 0.7615945577805048), (633, 0.7615943069388156), (634, 0.7615945473411025), (635, 0.7615944810674649), (636, 0.7615945966201745), (637, 0.7615946185331963), (638, 0.761595713243884), (639, 0.7615942896116437), (640, 0.7615946801854186), (641, 0.761594458104266), (642, 0.7615941559557649), (643, 0.7615944997229863), (644, 0.7615942136697769), (645, 0.761594240593058), (646, 0.761594372020231), (647, 0.7615944457449055), (648, 0.761594764587693), (649, 0.7615942087136731), (650, 0.7615944798704173), (651, 0.7615952302361897), (652, 0.7615947113477154), (653, 0.7615952508198973), (654, 0.7615946104879439), (655, 0.7615947955924562), (656, 0.7615949515516641), (657, 0.7615944915925527), (658, 0.7615942279478896), (659, 0.7615943697100208), (660, 0.7615946173592677), (661, 0.7615946495759081), (662, 0.7615949662375766), (663, 0.761594443136855), (664, 0.7615943111895566), (665, 0.7615942942319095), (666, 0.7615947102002485), (667, 0.7615950422502049), (668, 0.7615942209439893), (669, 0.7615943679738526), (670, 0.7615947295996346), (671, 0.7615945722010276), (672, 0.7615948731113439), (673, 0.7615945092304643), (674, 0.7615944796245723), (675, 0.7615944437993883), (676, 0.7615945298970471), (677, 0.761595179006296), (678, 0.7615944168322907), (679, 0.7615944017447038), (680, 0.7615950004289501), (681, 0.7615946731034581), (682, 0.7615946175565005), (683, 0.7615944096919597), (684, 0.761594408040456), (685, 0.7615941559557649), (686, 0.7615947798146624), (687, 0.7615944613379197), (688, 0.7615942619896111), (689, 0.7615944807645071), (690, 0.7615945806539542), (691, 0.7615948222125781), (692, 0.7615949595169288), (693, 0.7615942883622449), (694, 0.7615946447535294), (695, 0.7615947516810213), (696, 0.7615947614898122), (697, 0.7615943818550897), (698, 0.7615942017595059), (699, 0.7615941559557649), (700, 0.7615944484319974), (701, 0.7615942245806039), (702, 0.7615945642365709), (703, 0.761594438109477), (704, 0.7615942989977371), (705, 0.7615941559557649), (706, 0.7615944296408017), (707, 0.7615945611547998), (708, 0.7615949141357135), (709, 0.7615949404803127), (710, 0.7615948018094078), (711, 0.761594568771572), (712, 0.7615941559557649), (713, 0.7615946483327038), (714, 0.7615946723762119), (715, 0.7615943887518514), (716, 0.7615943406554743), (717, 0.7615945060186027), (718, 0.7615949058670832), (719, 0.7615948363541802), (720, 0.7615945629995476), (721, 0.7615948177682265), (722, 0.7615943485059137), (723, 0.7615941559557649), (724, 0.7615949039055122), (725, 0.761594311576951), (726, 0.7615946267092517), (727, 0.761594460802871), (728, 0.7615942175089366), (729, 0.7615954078160119), (730, 0.7615944537420591), (731, 0.7615946361578714), (732, 0.7615943835830055), (733, 0.7615942090745168), (734, 0.7615944345366575), (735, 0.7615949958885838), (736, 0.7615942856165846), (737, 0.761594945151633), (738, 0.7615951599601064), (739, 0.7615942202577975), (740, 0.7615945763642339), (741, 0.7615947739973883), (742, 0.7615947508104197), (743, 0.7615946239109461), (744, 0.7615946218558123), (745, 0.7615947029502185), (746, 0.7615946665394184), (747, 0.7615944851824609), (748, 0.7615946286100743), (749, 0.7615944315616341), (750, 0.7615943745048281), (751, 0.761594563048176), (752, 0.7615941559557649), (753, 0.761594598704124), (754, 0.7615944412908007), (755, 0.7615943054713469), (756, 0.7615943710423058), (757, 0.7615948754037418), (758, 0.761594236846876), (759, 0.7615948190865255), (760, 0.7615951070489532), (761, 0.7615943390219858), (762, 0.7615943957116089), (763, 0.7615943973942718), (764, 0.7615945177902512), (765, 0.7615947103843346), (766, 0.7615943267878377), (767, 0.7615944022478991), (768, 0.7615943820631638), (769, 0.7615947051147098), (770, 0.76159468157029), (771, 0.7615950008919686), (772, 0.7615947109184207), (773, 0.7615943195877479), (774, 0.7615945007876181), (775, 0.7615945437787073), (776, 0.7615944105976036), (777, 0.7615943552202299), (778, 0.7615942317498707), (779, 0.7615952449830534), (780, 0.7615943287165627), (781, 0.7615943850248523), (782, 0.7615945679099891), (783, 0.7615946543225438), (784, 0.7615947437096002), (785, 0.7615942346854012), (786, 0.761594328100138), (787, 0.7615941559557649), (788, 0.7615949119829097), (789, 0.761594719869649), (790, 0.7615941559557649), (791, 0.7615945486072707), (792, 0.7615944668648177), (793, 0.7615945130298049), (794, 0.7615947026217513), (795, 0.7615946045427835), (796, 0.7615941559557649), (797, 0.7615947252740884), (798, 0.7615945352279181), (799, 0.7615946987300393), (800, 0.7615946663308291), (801, 0.7615946397007077), (802, 0.7615943666870612), (803, 0.7615944275098376), (804, 0.7615943015865216), (805, 0.7615950295512969), (806, 0.7615946000346561), (807, 0.7615943566827339), (808, 0.7615943786744712), (809, 0.761594973876155), (810, 0.7615957571975276), (811, 0.7615945636181811), (812, 0.7615943914004738), (813, 0.7615944198318139), (814, 0.7615945737938199), (815, 0.7615942677884309), (816, 0.761594598736935), (817, 0.7615944222562534), (818, 0.761594613461052), (819, 0.7615942906139411), (820, 0.7615946088470916), (821, 0.7615944227486355), (822, 0.7615952297550279), (823, 0.7615945516547484), (824, 0.7615943967264716), (825, 0.7615942886424258), (826, 0.7615944699813321), (827, 0.761594307095527), (828, 0.7615945080732712), (829, 0.7615943848721305), (830, 0.7615943971711154), (831, 0.7615948808085478), (832, 0.7615946657466154), (833, 0.7615944451094747), (834, 0.7615943950251134), (835, 0.7615944600240397), (836, 0.7615949461954036), (837, 0.7615945215284033), (838, 0.7615948177582641), (839, 0.7615947043108424), (840, 0.7615959895966051), (841, 0.7615949474458527), (842, 0.7615946636895861), (843, 0.7615948056929375), (844, 0.7615944905774447), (845, 0.7615949022127154), (846, 0.7615947037435142), (847, 0.7615942842581997), (848, 0.7615945110811626), (849, 0.7615948230226355), (850, 0.7615946200211603), (851, 0.7615944927447419), (852, 0.7615944020107559), (853, 0.7615955397557097), (854, 0.7615942947740627), (855, 0.7615942779821481), (856, 0.761595137274514), (857, 0.7615944477535227), (858, 0.7615941559557649), (859, 0.7615949937754232), (860, 0.7615944701786919), (861, 0.7615947126215312), (862, 0.7615948551701921), (863, 0.7615946547640051), (864, 0.7615950357666256), (865, 0.7615945728711275), (866, 0.7615944952016774), (867, 0.7615945698254696), (868, 0.7615943129285777), (869, 0.7615945938499881), (870, 0.7615944203010349), (871, 0.7615942069202786), (872, 0.7615949493170552), (873, 0.7615941559557649), (874, 0.7615945358736773), (875, 0.7615943647530252), (876, 0.7615948436585258), (877, 0.76159463882383), (878, 0.7615946115867401), (879, 0.7615941559557649), (880, 0.7615943399959163), (881, 0.7615943496302133), (882, 0.7615944328554327), (883, 0.7615947060296688), (884, 0.7615943640516928), (885, 0.7615942403723867), (886, 0.7615952614329814), (887, 0.7615944109364172), (888, 0.7615942028436546), (889, 0.7615943007765534), (890, 0.7615942441969611), (891, 0.7615945626676943), (892, 0.7615946219136251), (893, 0.7615947964877613), (894, 0.7615943430330046), (895, 0.7615942215890945), (896, 0.7615947821079625), (897, 0.7615942973851522), (898, 0.7615944512579522), (899, 0.7615946958547233), (900, 0.7615943862555828), (901, 0.7615942842538104), (902, 0.7615941886350088), (903, 0.761594598319914), (904, 0.7615947368123852), (905, 0.7615946420773707), (906, 0.7615944449961392), (907, 0.7615946909797515), (908, 0.761594597355558), (909, 0.7615947490622762), (910, 0.761594572539979), (911, 0.761594445826104), (912, 0.7615942140726552), (913, 0.7615942922704649), (914, 0.7615944639716922), (915, 0.7615950378720577), (916, 0.7615951345425482), (917, 0.7615941559557649), (918, 0.7615945416869117), (919, 0.7615943270018778), (920, 0.7615942805353166), (921, 0.7615942363334187), (922, 0.7615948029234152), (923, 0.7615946447013868), (924, 0.761594516626726), (925, 0.7615944297995721), (926, 0.7615947641377405), (927, 0.7615944818909621), (928, 0.761594239210691), (929, 0.7615948658292487), (930, 0.7615943431413869), (931, 0.7615946988557237), (932, 0.7615948104074725), (933, 0.7615958478312413), (934, 0.7615945324268399), (935, 0.7615946531100686), (936, 0.7615944724221066), (937, 0.7615948999493912), (938, 0.7615945446700638), (939, 0.7615944666144243), (940, 0.7615942700160148), (941, 0.7615947249354991), (942, 0.7615946573824919), (943, 0.7615950838189749), (944, 0.7615944453049464), (945, 0.7615944135039799), (946, 0.7615942537248452), (947, 0.7615945366071243), (948, 0.7615953538808515), (949, 0.7615943409058713), (950, 0.761595153468317), (951, 0.7615949353757563), (952, 0.7615942949511795), (953, 0.7615945852397827), (954, 0.7615963170717139), (955, 0.7615946323540227), (956, 0.7615946699171848), (957, 0.7615946398255977), (958, 0.7615945672709648), (959, 0.7615943913243366), (960, 0.7615945186628262), (961, 0.7615942593185537), (962, 0.7615953081573832), (963, 0.7615942349949075), (964, 0.7615946208516581), (965, 0.7615945070970944), (966, 0.7615944356977575), (967, 0.7615943542416832), (968, 0.7615949191553701), (969, 0.7615949283245107), (970, 0.7615943999263137), (971, 0.7615946451619748), (972, 0.7615947339942348), (973, 0.7615943725237067), (974, 0.7615945326919034), (975, 0.7615947098512829), (976, 0.7615945251048419), (977, 0.7615946530973792), (978, 0.7615943092075241), (979, 0.7615947570322253), (980, 0.7615944025985969), (981, 0.7615943601546606), (982, 0.7615944542389994), (983, 0.7615946266516367), (984, 0.7615945788267009), (985, 0.7615946132912074), (986, 0.7615947794712399), (987, 0.7615942779637617), (988, 0.7615941559557649), (989, 0.7615945164216932), (990, 0.7615945050223826), (991, 0.7615946729431984), (992, 0.7615946695010314), (993, 0.7615943660400115), (994, 0.7615945751071707), (995, 0.7615943365892797), (996, 0.761594778143045), (997, 0.7615942647376867), (998, 0.7615942723038871), (999, 0.7615944474077839), (1000, 0.7615943669540436), (1001, 0.761594818521471), (1002, 0.761594206975206), (1003, 0.7615945127044651), (1004, 0.7615946967788061), (1005, 0.7615949360385937), (1006, 0.7615944165712216), (1007, 0.7615945687716651), (1008, 0.7615944761331808), (1009, 0.7615942231932971), (1010, 0.7615945368617478), (1011, 0.7615943995360247), (1012, 0.7615945265505608), (1013, 0.7615942007477912), (1014, 0.7615948632537657), (1015, 0.7615942921675963), (1016, 0.7615941559557649), (1017, 0.7615944652358534), (1018, 0.7615942219928065), (1019, 0.7615943956734041), (1020, 0.7615948362081875), (1021, 0.7615948781654296), (1022, 0.7615946452851666), (1023, 0.761594612635074), (1024, 0.7615948289154032), (1025, 0.7615946249072054), (1026, 0.7615950663215992), (1027, 0.7615946755976462), (1028, 0.761594879835226), (1029, 0.7615945865284934), (1030, 0.7615950533827616), (1031, 0.7615945475259939), (1032, 0.761594906711939), (1033, 0.761594606169206), (1034, 0.7615947455611114), (1035, 0.7615944111491334), (1036, 0.7615943528613336), (1037, 0.7615944589105107), (1038, 0.7615942678307056), (1039, 0.7615945622209709), (1040, 0.761594240462188), (1041, 0.7615945669633977), (1042, 0.7615946310970301), (1043, 0.7615942945798921), (1044, 0.7615946173916478), (1045, 0.761594348022945), (1046, 0.7615952831110142), (1047, 0.7615949465871922), (1048, 0.7615943529319377), (1049, 0.7615948971596401), (1050, 0.7615944174343261), (1051, 0.7615945331555687), (1052, 0.7615942589615761), (1053, 0.7615945751765956), (1054, 0.7615944301832678), (1055, 0.7615941559557649), (1056, 0.761594255405704), (1057, 0.7615946728764879), (1058, 0.7615948120190272), (1059, 0.761594455268886), (1060, 0.7615945218523836), (1061, 0.7615945270569331), (1062, 0.7615945603944975), (1063, 0.7615944701172842), (1064, 0.7615948602531933), (1065, 0.761594434120849), (1066, 0.76159420551108), (1067, 0.7615943591762951), (1068, 0.7615942788041156), (1069, 0.7615948580584248), (1070, 0.7615944448696851), (1071, 0.7615943852192286), (1072, 0.7615945928137715), (1073, 0.7615954268110996), (1074, 0.7615941559557649), (1075, 0.7615942851972087), (1076, 0.7615947017275473), (1077, 0.7615951264878211), (1078, 0.761594400688879), (1079, 0.761594497822284), (1080, 0.7615950825482921), (1081, 0.7615949027289588), (1082, 0.7615942286240887), (1083, 0.7615944464646534), (1084, 0.7615944946781004), (1085, 0.7615952948884193), (1086, 0.7615942053560366), (1087, 0.7615946641219569), (1088, 0.7615948567101206), (1089, 0.7615943700727617), (1090, 0.7615942709401543), (1091, 0.7615953875482481), (1092, 0.7615941559557649), (1093, 0.7615950862388825), (1094, 0.7615944484362822), (1095, 0.7615944550026845), (1096, 0.7615947079364178), (1097, 0.7615942482268492), (1098, 0.7615947590493551), (1099, 0.7615946460743027), (1100, 0.7615949047278873), (1101, 0.7615943942944342), (1102, 0.76159446950375), (1103, 0.7615945026320827), (1104, 0.7615955187237524), (1105, 0.7615947673394798), (1106, 0.7615947551044654), (1107, 0.7615946255592319), (1108, 0.7615963798361165), (1109, 0.7615946745843173), (1110, 0.7615942944698118), (1111, 0.7615945756382627), (1112, 0.7615944298169693), (1113, 0.7615947410223531), (1114, 0.7615943224300394), (1115, 0.7615944238450739), (1116, 0.7615946512009545), (1117, 0.7615953746193426), (1118, 0.7615959405508701), (1119, 0.7615944601715364), (1120, 0.7615944088906874), (1121, 0.7615943952884461), (1122, 0.7615942280413505), (1123, 0.7615952365355649), (1124, 0.7615947519638853), (1125, 0.7615943290206566), (1126, 0.7615946597569632), (1127, 0.7615948612815225), (1128, 0.7615942449167779), (1129, 0.761594793187124), (1130, 0.7615945951256995), (1131, 0.7615948170476308), (1132, 0.7615943880592828), (1133, 0.7615950600805771), (1134, 0.7615942081561474), (1135, 0.7615946131704736), (1136, 0.7615942694290109), (1137, 0.761594560752172), (1138, 0.7615952520014515), (1139, 0.7615944567013705), (1140, 0.761594462542463), (1141, 0.7615945367743624), (1142, 0.7615944146487104), (1143, 0.7615944994240808), (1144, 0.7615948240955512), (1145, 0.7615943503438771), (1146, 0.7615947718592317), (1147, 0.7615943540929309), (1148, 0.7615945144502358), (1149, 0.7615946526229568), (1150, 0.7615942093846428), (1151, 0.7615945227188619), (1152, 0.7615954003546729), (1153, 0.761594390694205), (1154, 0.7615943834867275), (1155, 0.7615942429467575), (1156, 0.761594470174337), (1157, 0.7615946376886162), (1158, 0.7615945822642805), (1159, 0.7615948159710328), (1160, 0.761594587508682), (1161, 0.7615945485143654), (1162, 0.7615943206929686), (1163, 0.7615943847118641), (1164, 0.7615947480189813), (1165, 0.7615944287539546), (1166, 0.7615950594817251), (1167, 0.7615944329520429), (1168, 0.7615946413355632), (1169, 0.7615945197170253), (1170, 0.7615943360263409), (1171, 0.7615948876716649), (1172, 0.7615942393596966), (1173, 0.7615946061046331), (1174, 0.7615942099479364), (1175, 0.761594903126866), (1176, 0.7615943295258862), (1177, 0.761595022939137), (1178, 0.761594473523619), (1179, 0.7615947147636043), (1180, 0.7615943768174948), (1181, 0.7615943500827466), (1182, 0.7615943778688874), (1183, 0.761594312984405), (1184, 0.7615942317140425), (1185, 0.7615947391770143), (1186, 0.7615948432965879), (1187, 0.7615945372370214), (1188, 0.7615941559557649), (1189, 0.7615945937909279), (1190, 0.7615944374260244), (1191, 0.7615945106512079), (1192, 0.7615944699380172), (1193, 0.7615947857926165), (1194, 0.7615943730125003), (1195, 0.7615945131722657), (1196, 0.7615947982414342), (1197, 0.7615945154844621), (1198, 0.7615943941132927), (1199, 0.7615945320497172), (1200, 0.7615948276261192), (1201, 0.7615941559557649), (1202, 0.7615946499794506), (1203, 0.7615945937628567), (1204, 0.7615948165779359), (1205, 0.7615944982098574), (1206, 0.7615947258578375), (1207, 0.7615942764016372), (1208, 0.761594296284906), (1209, 0.7615945647532039), (1210, 0.76159463824098), (1211, 0.7615946130956138), (1212, 0.7615947486356358), (1213, 0.7615946978755193), (1214, 0.7615946689156712), (1215, 0.7615943863009766), (1216, 0.7615950193109233), (1217, 0.7615944656619864), (1218, 0.7615947644215872), (1219, 0.7615941559557649), (1220, 0.7615942352620546), (1221, 0.7615948083288377), (1222, 0.7615943870396198), (1223, 0.7615947298666482), (1224, 0.7615948632493988), (1225, 0.7615945098723683), (1226, 0.7615943956852349), (1227, 0.7615942797110964), (1228, 0.7615941559557649), (1229, 0.7615945464297118), (1230, 0.7615944036164743), (1231, 0.7615947603578583), (1232, 0.7615948230983823), (1233, 0.7615942738958603), (1234, 0.7615947044557532), (1235, 0.7615943994809513), (1236, 0.7615945698718726), (1237, 0.7615949185441636), (1238, 0.7615945298230817), (1239, 0.7615944233755244), (1240, 0.7615945969163281), (1241, 0.7615943039236687), (1242, 0.7615945008654544), (1243, 0.7615947210359278), (1244, 0.7615943630550307), (1245, 0.761594528227784), (1246, 0.7615942089948875), (1247, 0.761594562702782), (1248, 0.7615943572719411), (1249, 0.7615941559557649), (1250, 0.7615947896750802), (1251, 0.7615944165768914), (1252, 0.7615942308839787), (1253, 0.7615946099417846), (1254, 0.7615947351304944), (1255, 0.7615943390941899), (1256, 0.7615946638066962), (1257, 0.761594227890852), (1258, 0.7615945379197767), (1259, 0.7615943719050692), (1260, 0.7615941559557649), (1261, 0.7615944608644207), (1262, 0.7615942602368044), (1263, 0.7615942886928143), (1264, 0.7615948203393541), (1265, 0.7615949301416982), (1266, 0.7615943438841182), (1267, 0.761595059581994), (1268, 0.7615947321084089), (1269, 0.761594594125723), (1270, 0.7615946048982302), (1271, 0.7615945305411832), (1272, 0.7615944133483041), (1273, 0.7615941559557649), (1274, 0.7615970721260155), (1275, 0.7615947269398556), (1276, 0.7615945966356695), (1277, 0.7615948356044637), (1278, 0.7615944765564095), (1279, 0.761594593622055), (1280, 0.7615945330244073), (1281, 0.7615949383353181), (1282, 0.7615941559557649), (1283, 0.7615943832878116), (1284, 0.7615945270631455), (1285, 0.7615944969073674), (1286, 0.7615947951203266), (1287, 0.7615942591321099), (1288, 0.7615944675376207), (1289, 0.7615942118292616), (1290, 0.7615949099375876), (1291, 0.7615943049605982), (1292, 0.7615948067376483), (1293, 0.7615942882302467), (1294, 0.7615943794619044), (1295, 0.7615943035899696), (1296, 0.7615955215493555), (1297, 0.7615944104579554), (1298, 0.7615944222447268), (1299, 0.7615941985912551), (1300, 0.7615943975055486), (1301, 0.761594543926507), (1302, 0.7615947598464319), (1303, 0.761595275043473), (1304, 0.7615946755862198), (1305, 0.7615945991387375), (1306, 0.7615945658430763), (1307, 0.7615943063446503), (1308, 0.7615948691288212), (1309, 0.761594481680173), (1310, 0.7615944654535836), (1311, 0.7615947552844746), (1312, 0.7615945363950619), (1313, 0.7615944972877161), (1314, 0.7615946542193188), (1315, 0.7615944375473467), (1316, 0.7615943076216699), (1317, 0.7615941559557649), (1318, 0.7615944273042325), (1319, 0.7615945183969965), (1320, 0.7615944770467382), (1321, 0.761594305489968), (1322, 0.7615943670676575), (1323, 0.7615943130383822), (1324, 0.7615945809696474), (1325, 0.7615947299729687), (1326, 0.7615944612189418), (1327, 0.7615947346999019), (1328, 0.761594322475702), (1329, 0.7615946092437973), (1330, 0.7615945278828885), (1331, 0.76159471376228), (1332, 0.7615942912699731), (1333, 0.7615942591570589), (1334, 0.7615945302707533), (1335, 0.7615948821363872), (1336, 0.7615944379489648), (1337, 0.7615943851975016), (1338, 0.7615945980963118), (1339, 0.7615944404687198), (1340, 0.7615942551126771), (1341, 0.7615948787870621), (1342, 0.7615946231276213), (1343, 0.7615945659370749), (1344, 0.7615945085012502), (1345, 0.7615946666345061), (1346, 0.7615944456503496), (1347, 0.7615946496408742), (1348, 0.7615945116295847), (1349, 0.7615944045597752), (1350, 0.7615944315705132), (1351, 0.7615943479474193), (1352, 0.7615946392231259), (1353, 0.7615945076611468), (1354, 0.7615945464200667), (1355, 0.761594816031713), (1356, 0.7615946765293544), (1357, 0.7615944996307253), (1358, 0.7615944569358339), (1359, 0.7615943521506789), (1360, 0.7615943569010539), (1361, 0.7615941559557649), (1362, 0.7615946440412803), (1363, 0.7615953559150785), (1364, 0.7615944103492895), (1365, 0.761594751223152), (1366, 0.7615943845317882), (1367, 0.7615947034902899), (1368, 0.7615946361170894), (1369, 0.7615946192206519), (1370, 0.7615948013087049), (1371, 0.7615945958773794), (1372, 0.7615945160805836), (1373, 0.7615944295975354), (1374, 0.7615945426715699), (1375, 0.7615946153881611), (1376, 0.761594207987268), (1377, 0.7615943213626286), (1378, 0.761594679992978), (1379, 0.7615944485027761), (1380, 0.7615950763412289), (1381, 0.7615949506424096), (1382, 0.7615943203946289), (1383, 0.7615944808222983), (1384, 0.7615942384698853), (1385, 0.7615942867989145), (1386, 0.7615945830294952), (1387, 0.7615947522326743), (1388, 0.7615941559557649), (1389, 0.7615947422966973), (1390, 0.7615944930725941), (1391, 0.7615945543638499), (1392, 0.7615949214847153), (1393, 0.7615943537103205), (1394, 0.7615943454650749), (1395, 0.7615943830217812), (1396, 0.7615942835818212), (1397, 0.7615944058761033), (1398, 0.7615943932553209), (1399, 0.7615949212278306), (1400, 0.761594455215818), (1401, 0.761594739916382), (1402, 0.7615947070484077), (1403, 0.7615942723328911), (1404, 0.7615943582983118), (1405, 0.7615948253582647), (1406, 0.7615947509310481), (1407, 0.7615951984925639), (1408, 0.7615950350028236), (1409, 0.7615942098698987), (1410, 0.7615944742039085), (1411, 0.7615943135439494), (1412, 0.7615946107322523), (1413, 0.7615947835876828), (1414, 0.7615948591750277), (1415, 0.7615949142431775), (1416, 0.7615944429625879), (1417, 0.7615944901818132), (1418, 0.7615943959451572), (1419, 0.761594557471737), (1420, 0.7615945118620057), (1421, 0.7615945288041401), (1422, 0.7615943058357327), (1423, 0.7615950745218676), (1424, 0.7615944149103402), (1425, 0.761594547619622), (1426, 0.7615944723471174), (1427, 0.7615947184939046), (1428, 0.7615945527103422), (1429, 0.7615953683583878), (1430, 0.7615945724384209), (1431, 0.7615946012096869), (1432, 0.7615944056192634), (1433, 0.7615946351667002), (1434, 0.7615942719961474), (1435, 0.7615948308325737), (1436, 0.7615945194540672), (1437, 0.7615944666732206), (1438, 0.7615943724855101), (1439, 0.7615944705347548), (1440, 0.7615944142808921), (1441, 0.7615941559557649), (1442, 0.7615945507443243), (1443, 0.7615942829057487), (1444, 0.7615947068669224), (1445, 0.7615947227642115), (1446, 0.7615946955631673), (1447, 0.7615942854954388), (1448, 0.7615944770103978), (1449, 0.7615943407501559), (1450, 0.7615944769403591), (1451, 0.7615946477280554), (1452, 0.7615943860893386), (1453, 0.7615944618824876), (1454, 0.7615949315133363), (1455, 0.7615946235753048), (1456, 0.7615945718357847), (1457, 0.7615944378574229), (1458, 0.7615944974998655), (1459, 0.761594389812057), (1460, 0.7615943749103962), (1461, 0.7615942254242902), (1462, 0.7615942997335403), (1463, 0.7615946755290504), (1464, 0.7615954054838556), (1465, 0.7615944930781787), (1466, 0.7615942408413012), (1467, 0.7615949601634837), (1468, 0.7615944044287711), (1469, 0.7615943836582298), (1470, 0.7615946574246866), (1471, 0.7615945443362562), (1472, 0.7615947003464096), (1473, 0.7615945180457782), (1474, 0.761594631043735), (1475, 0.7615945197993981), (1476, 0.7615943655510153), (1477, 0.7615946525486846), (1478, 0.761594819028391), (1479, 0.7615942056947018), (1480, 0.7615944632033469), (1481, 0.7615947521123583), (1482, 0.761594550402974), (1483, 0.7615949435991562), (1484, 0.7615946256531414), (1485, 0.7615944860301869), (1486, 0.7615945248296582), (1487, 0.7615949323933578), (1488, 0.7615945637543045), (1489, 0.7615948330627469), (1490, 0.7615944979809537), (1491, 0.7615946470271593), (1492, 0.7615945625897512), (1493, 0.7615947885817416), (1494, 0.7615943830913273), (1495, 0.761594681609854), (1496, 0.7615948785889215), (1497, 0.7615943261824072), (1498, 0.7615943260343958), (1499, 0.7615943981259131), (1500, 0.7615941559557649), (1501, 0.761594777529549), (1502, 0.7615949466751529), (1503, 0.76159457019333), (1504, 0.7615945089298585), (1505, 0.7615948507388162), (1506, 0.7615946710068632), (1507, 0.7615942333878747), (1508, 0.7615942686533791), (1509, 0.7615946135455933), (1510, 0.7615945783639394), (1511, 0.7615943152107264), (1512, 0.7615943951246449), (1513, 0.7615948298326085), (1514, 0.7615952666156616), (1515, 0.7615961456243151), (1516, 0.7615949809248432), (1517, 0.7615945113419113), (1518, 0.7615945476910313), (1519, 0.7615943101124322), (1520, 0.7615946473410538), (1521, 0.7615947055947738), (1522, 0.7615941559557649), (1523, 0.761594349864445), (1524, 0.7615942392409316), (1525, 0.7615947438529502), (1526, 0.7615942719757998), (1527, 0.761594791391841), (1528, 0.761594292094119), (1529, 0.7615943969147867), (1530, 0.7615946435199052), (1531, 0.7615947630160731), (1532, 0.7615944006391075), (1533, 0.7615945394562604), (1534, 0.7615945715491974), (1535, 0.7615941559557649), (1536, 0.7615945677233671), (1537, 0.7615950793689803), (1538, 0.7615946585710359), (1539, 0.7615948087792557), (1540, 0.7615943007536259), (1541, 0.7615945480143935), (1542, 0.7615941559557649), (1543, 0.7615955761670932), (1544, 0.7615943041298308), (1545, 0.7615947242344339), (1546, 0.7615941559557649), (1547, 0.7615944732900926), (1548, 0.7615950605645959), (1549, 0.7615952374047089), (1550, 0.761594365604979), (1551, 0.761594769614037), (1552, 0.7615945084345713), (1553, 0.761594506060487), (1554, 0.7615945614207165), (1555, 0.7615949111788265), (1556, 0.7615944257855438), (1557, 0.7615943003869687), (1558, 0.7615942813335548), (1559, 0.7615948469619769), (1560, 0.7615948110000987), (1561, 0.7615944138192686), (1562, 0.7615945319692989), (1563, 0.761594519415236), (1564, 0.7615944145765611), (1565, 0.7615947694170997), (1566, 0.7615941559557649), (1567, 0.7615943512103939), (1568, 0.7615943542284298), (1569, 0.7615944992893688), (1570, 0.7615949845311941), (1571, 0.761594357885033), (1572, 0.7615943622174357), (1573, 0.7615942930400543), (1574, 0.7615947497840124), (1575, 0.761594378996681), (1576, 0.7615945295467947), (1577, 0.7615944614827078), (1578, 0.7615944457534665), (1579, 0.7615943693982238), (1580, 0.7615946630335494), (1581, 0.7615945772830657), (1582, 0.7615944514405449), (1583, 0.7615946399252647), (1584, 0.761595458387011), (1585, 0.7615946350226379), (1586, 0.7615943987456564), (1587, 0.7615944216740183), (1588, 0.7615943460884849), (1589, 0.7615945077037632), (1590, 0.7615947523771147), (1591, 0.7615943934739628), (1592, 0.7615944178169685), (1593, 0.7615943060055066), (1594, 0.7615943903249784), (1595, 0.7615946787635023), (1596, 0.7615941559557649), (1597, 0.7615944833789403), (1598, 0.7615941559557649), (1599, 0.7615942477260331), (1600, 0.7615948964281447), (1601, 0.761594821356906), (1602, 0.7615946141498074), (1603, 0.7615942843918388), (1604, 0.7615942229031625), (1605, 0.7615944709624831), (1606, 0.7615943985741114), (1607, 0.7615943768335076), (1608, 0.7615944548354316), (1609, 0.761594441425018), (1610, 0.7615944609037041), (1611, 0.7615942082169223), (1612, 0.7615943957257313), (1613, 0.7615947143319479), (1614, 0.7615947716031667), (1615, 0.7615947190450308), (1616, 0.7615953439245685), (1617, 0.7615944587974302), (1618, 0.7615941559557649), (1619, 0.7615946864913782), (1620, 0.7615949979392926), (1621, 0.7615945793559838), (1622, 0.7615947652743602), (1623, 0.7615943103514627), (1624, 0.7615943226489823), (1625, 0.7615943445561849), (1626, 0.7615946227664383), (1627, 0.7615944425349213), (1628, 0.7615946870491094), (1629, 0.761594651208608), (1630, 0.7615943818721183), (1631, 0.7615946828504372), (1632, 0.761594349247981), (1633, 0.7615944411752111), (1634, 0.7615946056222135), (1635, 0.7615943636224891), (1636, 0.7615945115309002), (1637, 0.7615947385249344), (1638, 0.7615944957959058), (1639, 0.7615945765647177), (1640, 0.7615941559557649), (1641, 0.7615943944978109), (1642, 0.761594448302492), (1643, 0.7615944659066975), (1644, 0.7615946228518219), (1645, 0.7615946833556806), (1646, 0.7615945610590101), (1647, 0.7615951588859325), (1648, 0.7615945179408891), (1649, 0.7615944587123743), (1650, 0.7615946804196838), (1651, 0.7615941559557649), (1652, 0.7615944910649317), (1653, 0.7615941559557649), (1654, 0.7615948534389575), (1655, 0.7615946681023735), (1656, 0.7615945478764266), (1657, 0.7615943165488892), (1658, 0.7615949274900803), (1659, 0.7615944104530343), (1660, 0.7615944718319017), (1661, 0.7615944713550533), (1662, 0.7615944335744101), (1663, 0.7615941559557649), (1664, 0.7615946331321342), (1665, 0.7615948444530982), (1666, 0.7615943604467142), (1667, 0.7615948780986579), (1668, 0.7615945462710997), (1669, 0.7615943256840678), (1670, 0.7615947092661219), (1671, 0.761594440521886), (1672, 0.7615964218640071), (1673, 0.7615983538019573), (1674, 0.761594444594978), (1675, 0.7615948958806305), (1676, 0.7615944141037362), (1677, 0.7615944331276536), (1678, 0.761594513198151), (1679, 0.7615944796591961), (1680, 0.7615945729946019), (1681, 0.7615944589167496), (1682, 0.7615945235962178), (1683, 0.7615947593936035), (1684, 0.7615944022766311), (1685, 0.7615945489259844), (1686, 0.7615947169328272), (1687, 0.7615945607759321), (1688, 0.7615945941516596), (1689, 0.7615946843445841), (1690, 0.7615944339136368), (1691, 0.7615946114261891), (1692, 0.761594703543069), (1693, 0.7615941559557649), (1694, 0.7615945711039108), (1695, 0.7615951411572395), (1696, 0.7615945135036547), (1697, 0.7615943344643842), (1698, 0.7615945607439425), (1699, 0.7615942186503836), (1700, 0.7615942658857493), (1701, 0.7615944961377972), (1702, 0.7615945276448053), (1703, 0.7615942326103121), (1704, 0.7615952463438771), (1705, 0.761594372319637), (1706, 0.761594221748072), (1707, 0.7615945704786087), (1708, 0.761595113126743), (1709, 0.7615946780583109), (1710, 0.7615945281747153), (1711, 0.7615944679657618), (1712, 0.7615947439106578), (1713, 0.7615948521680093), (1714, 0.7615945064407921), (1715, 0.761594392133859), (1716, 0.7615944169704221), (1717, 0.7615945799479072), (1718, 0.7615944438040084), (1719, 0.7615947018380996), (1720, 0.7615952566189287), (1721, 0.7615942267580345), (1722, 0.7615945441176524), (1723, 0.7615943297133595), (1724, 0.7615942079282085), (1725, 0.7615948757698374), (1726, 0.7615942240296478), (1727, 0.7615942077989878), (1728, 0.7615945142734704), (1729, 0.7615947964728556), (1730, 0.7615942201809555), (1731, 0.7615949102342155), (1732, 0.7615947480216592), (1733, 0.7615949632896528), (1734, 0.7615943113743856), (1735, 0.7615946542866098), (1736, 0.7615944677155485), (1737, 0.7615946619576376), (1738, 0.761594343355514), (1739, 0.7615954301207846), (1740, 0.7615942360630201), (1741, 0.7615947406356447), (1742, 0.7615943801460869), (1743, 0.7615941559557649), (1744, 0.761594557266313), (1745, 0.7615942663260966), (1746, 0.7615948811447509), (1747, 0.7615942955408037), (1748, 0.7615942633729771), (1749, 0.7615945287058171), (1750, 0.761594394334333), (1751, 0.7615941559557649), (1752, 0.7615944810156544), (1753, 0.7615943906477258), (1754, 0.7615944103882861), (1755, 0.7615945233693755), (1756, 0.7615949342162845), (1757, 0.7615943291542009), (1758, 0.7615946427291274), (1759, 0.761594393344598), (1760, 0.7615948197071025), (1761, 0.7615944860314643), (1762, 0.7615941559557649), (1763, 0.7615946972253007), (1764, 0.7615948016197728), (1765, 0.7615945434221914), (1766, 0.761594683737341), (1767, 0.7615947303187652), (1768, 0.7615945002035489), (1769, 0.761594525877822), (1770, 0.7615944078143505), (1771, 0.7615946239728709), (1772, 0.7615944914170896), (1773, 0.7615943553717143), (1774, 0.7615943648498341), (1775, 0.761594446156324), (1776, 0.7615942687946905), (1777, 0.7615946909965892), (1778, 0.7615945446967604), (1779, 0.7615962750027644), (1780, 0.7615944598711045), (1781, 0.7615944026260826), (1782, 0.7615945876578606), (1783, 0.7615946080955166), (1784, 0.7615946272543551), (1785, 0.7615950478841242), (1786, 0.7615943384228667), (1787, 0.7615946055185658), (1788, 0.7615944390666258), (1789, 0.7615944080634413), (1790, 0.7615948396173903), (1791, 0.7615944222153148), (1792, 0.7615943664802275), (1793, 0.7615943985394444), (1794, 0.7615948324050927), (1795, 0.7615948539362897), (1796, 0.7615945977929215), (1797, 0.7615952981690335), (1798, 0.7615945756203241), (1799, 0.7615947311356519), (1800, 0.7615943888369692), (1801, 0.7615942378399148), (1802, 0.7615944946120796), (1803, 0.7615942632213493), (1804, 0.7615948847999106), (1805, 0.761594634914082), (1806, 0.7615944857898275), (1807, 0.761594981660018), (1808, 0.7615954803692346), (1809, 0.7615941559557649), (1810, 0.7615944334948876), (1811, 0.7615948314132305), (1812, 0.7615944712138372), (1813, 0.7615945529564107), (1814, 0.7615947757325041), (1815, 0.7615946535911762), (1816, 0.7615945554410584), (1817, 0.7615950149992482), (1818, 0.7615949613477018), (1819, 0.7615948455332608), (1820, 0.7615949076029195), (1821, 0.7615944733583446), (1822, 0.7615943016075479), (1823, 0.7615943349605444), (1824, 0.7615944566966761), (1825, 0.7615944729466727), (1826, 0.7615945328656849), (1827, 0.7615941559557649), (1828, 0.7615945297786423), (1829, 0.7615942301830508), (1830, 0.7615944784294281), (1831, 0.7615945145095184), (1832, 0.7615947477878515), (1833, 0.7615941559557649), (1834, 0.7615951273543085), (1835, 0.7615943113118788), (1836, 0.761594240651859), (1837, 0.7615941559557649), (1838, 0.7615946709828193), (1839, 0.7615946900214969), (1840, 0.7615944418088554), (1841, 0.7615943262214877), (1842, 0.7615947725518322), (1843, 0.7615948923494189), (1844, 0.7615946931046611), (1845, 0.7615945831806947), (1846, 0.761594476187109), (1847, 0.7615942773065076), (1848, 0.7615943066196228), (1849, 0.7615945005383603), (1850, 0.7615944499730074), (1851, 0.7615942740725881), (1852, 0.7615947848250686), (1853, 0.7615966086923601), (1854, 0.761594505214274), (1855, 0.7615943297512214), (1856, 0.7615944829654938), (1857, 0.7615948418728271), (1858, 0.7615944795930283), (1859, 0.7615941559557649), (1860, 0.7615948885566208), (1861, 0.7615947545545564), (1862, 0.7615945124147168), (1863, 0.7615945640355618), (1864, 0.7615946994840846), (1865, 0.7615944144137707), (1866, 0.7615945289816523), (1867, 0.7615941559557649), (1868, 0.7615943932626045), (1869, 0.7615944823051066), (1870, 0.7615943712036128), (1871, 0.7615941559557649), (1872, 0.7615949768946632), (1873, 0.761594446839744), (1874, 0.7615954293994093), (1875, 0.7615952441902553), (1876, 0.7615944267236985), (1877, 0.7615942025908634), (1878, 0.7615945631389212), (1879, 0.7615948760465387), (1880, 0.7615951282312274), (1881, 0.7615943022401566), (1882, 0.761594820009202), (1883, 0.761594488745686), (1884, 0.7615948557810339), (1885, 0.7615946277586596), (1886, 0.7615946976452801), (1887, 0.7615942132977738), (1888, 0.7615946088315113), (1889, 0.7615943854812869), (1890, 0.7615947441242809), (1891, 0.7615950192008232), (1892, 0.7615947409802339), (1893, 0.7615946777395906), (1894, 0.7615947308295291), (1895, 0.7615944787536068), (1896, 0.7615948044716346), (1897, 0.7615946001519092), (1898, 0.761594852829217), (1899, 0.7615942269696236), (1900, 0.7615947361218194), (1901, 0.7615947562543119), (1902, 0.7615944786159339), (1903, 0.7615942539626988), (1904, 0.7615946632173581), (1905, 0.7615950107414555), (1906, 0.7615945710058272), (1907, 0.7615948591595156), (1908, 0.7615944881332746), (1909, 0.7615945291837268), (1910, 0.7615942162132817), (1911, 0.7615945530195447), (1912, 0.7615945885647997), (1913, 0.7615946222698174), (1914, 0.7615947690581042), (1915, 0.7615943899689025), (1916, 0.7615942435827812), (1917, 0.761594425687589), (1918, 0.7615950359468953), (1919, 0.7615941559557649), (1920, 0.7615945598098127), (1921, 0.7615945249259682), (1922, 0.7615944441571041), (1923, 0.7615949404418412), (1924, 0.7615946555927632), (1925, 0.7615943447795006), (1926, 0.7615947135579428), (1927, 0.7615945101056223), (1928, 0.7615946038058119), (1929, 0.761594823043121), (1930, 0.7615942346776452), (1931, 0.7615946002955849), (1932, 0.7615943068992574), (1933, 0.761594513910607), (1934, 0.7615946039306665), (1935, 0.761594351047768), (1936, 0.7615944902313883), (1937, 0.7615943359157356), (1938, 0.7615947077222236), (1939, 0.761594910661235), (1940, 0.7615951428926478), (1941, 0.761594325525839), (1942, 0.7615947319660878), (1943, 0.7615944438023102), (1944, 0.7615947921164111), (1945, 0.7615948769959794), (1946, 0.7615962429554788), (1947, 0.7615945996386404), (1948, 0.7615945422658813), (1949, 0.7615945522820771), (1950, 0.7615944163042973), (1951, 0.7615946660207704), (1952, 0.7615944848272949), (1953, 0.7615946860165225), (1954, 0.7615945753967848), (1955, 0.7615941559557649), (1956, 0.7615948176155867), (1957, 0.7615947232247269), (1958, 0.7615946135660284), (1959, 0.7615944250767774), (1960, 0.7615942795099937), (1961, 0.7615942762983746), (1962, 0.7615942207935851), (1963, 0.7615944747739936), (1964, 0.7615945645083776), (1965, 0.7615944458881382), (1966, 0.7615946405611025), (1967, 0.7615942190850751), (1968, 0.7615943087771668), (1969, 0.7615943878868279), (1970, 0.7615947210240498), (1971, 0.7615943644329625), (1972, 0.7615943682072299), (1973, 0.7615944322009752), (1974, 0.7615946598069493), (1975, 0.7615951295107715), (1976, 0.7615948989959123), (1977, 0.7615945770650031), (1978, 0.7615949317071119), (1979, 0.7615944818867175), (1980, 0.7615946086437131), (1981, 0.7615953759294818), (1982, 0.7615946557309696), (1983, 0.7615951112033439), (1984, 0.7615946844542358), (1985, 0.7615944285623204), (1986, 0.7615946223462409), (1987, 0.7615942550258309), (1988, 0.7615945908589795), (1989, 0.7615959496560427), (1990, 0.7615945290035058), (1991, 0.7615946161191982), (1992, 0.7615944030729422), (1993, 0.7615946048192256), (1994, 0.7615943948728929), (1995, 0.7615942523166603), (1996, 0.7615946553269722), (1997, 0.7615944648722774), (1998, 0.7615945736450016), (1999, 0.7615941559557649), (2000, 0.7615951141687707), (2001, 0.7615945237219769), (2002, 0.7615946329981041), (2003, 0.7615943621322657), (2004, 0.7615944701850261), (2005, 0.7615944937127003), (2006, 0.7615947796083444), (2007, 0.7615945048243561), (2008, 0.7615948787077462), (2009, 0.7615967620346649), (2010, 0.7615947703946867), (2011, 0.761594398057931), (2012, 0.7615944725641504), (2013, 0.7615944961589682), (2014, 0.7615943793372623), (2015, 0.761595118308297), (2016, 0.7615950844103526), (2017, 0.7615943650577106), (2018, 0.7615942429700195), (2019, 0.7615943500860981), (2020, 0.7615943189309136), (2021, 0.761594613164983), (2022, 0.7615945826664072), (2023, 0.7615948182753085), (2024, 0.7615947807696037), (2025, 0.7615945606458658), (2026, 0.7615953792590215), (2027, 0.7615948808280963), (2028, 0.7615945290818003), (2029, 0.761594817745886), (2030, 0.7615945646263402), (2031, 0.7615946422588654), (2032, 0.7615946858643938), (2033, 0.7615948264717963), (2034, 0.7615943882628465), (2035, 0.7615943539728686), (2036, 0.7615952217328206), (2037, 0.7615944769432268), (2038, 0.7615945637760668), (2039, 0.7615942942975023), (2040, 0.7615943290857826), (2041, 0.7615944329829207), (2042, 0.7615948533626111), (2043, 0.7615943064765847), (2044, 0.7615946088665274), (2045, 0.7615944233235342), (2046, 0.7615946356429675), (2047, 0.7615945304563579), (2048, 0.7615945782294566), (2049, 0.7615941559557649), (2050, 0.7615943502757068), (2051, 0.7615949964747133), (2052, 0.7615943367847391), (2053, 0.7615944860645418), (2054, 0.7615942134643283), (2055, 0.7615944816973578), (2056, 0.7615949179613363), (2057, 0.7615941559557649), (2058, 0.7615943228027796), (2059, 0.7615942609960097), (2060, 0.7615943934773002), (2061, 0.7615945889545501), (2062, 0.761594417331021), (2063, 0.7615942409497585), (2064, 0.7615942798608959), (2065, 0.7615945984137964), (2066, 0.7615943625600221), (2067, 0.7615956755266651), (2068, 0.7615942190229628), (2069, 0.7615945530355646), (2070, 0.7615944551885747), (2071, 0.7615944813094098), (2072, 0.7615945037185196), (2073, 0.761594467945123), (2074, 0.7615945244711183), (2075, 0.7615943354104133), (2076, 0.7615945400168489), (2077, 0.7615944675448234), (2078, 0.7615948818671683), (2079, 0.7615943567793828), (2080, 0.7615944568655509), (2081, 0.7615944694345551), (2082, 0.7615956917457419), (2083, 0.7615947614336145), (2084, 0.7615946884306779), (2085, 0.761594537978328), (2086, 0.7615946169632422), (2087, 0.7615946468399015), (2088, 0.7615946366827737), (2089, 0.7615945965015233), (2090, 0.7615942807896499), (2091, 0.7615945200525885), (2092, 0.7615946187547539), (2093, 0.7615942988448173), (2094, 0.7615955192269662), (2095, 0.761594613051498), (2096, 0.7615949726138491), (2097, 0.7615945606932906), (2098, 0.7615942937669639), (2099, 0.7615944050909734), (2100, 0.7615946079706577), (2101, 0.7615946118012376), (2102, 0.7615946282723194), (2103, 0.7615945557000492), (2104, 0.7615947823529701), (2105, 0.7615944951402336), (2106, 0.7615947783291304), (2107, 0.7615945373085332), (2108, 0.7615943970210022), (2109, 0.761594583180409), (2110, 0.761594360960836), (2111, 0.7615947183097476), (2112, 0.761594536366501), (2113, 0.7615942828265335), (2114, 0.761594859219353), (2115, 0.7615946475979105), (2116, 0.7615942042395485), (2117, 0.7615943943162897), (2118, 0.7615948059405667), (2119, 0.7615948427875121), (2120, 0.761594807673878), (2121, 0.7615941559557649), (2122, 0.7615949454726516), (2123, 0.7615944582529562), (2124, 0.7615947116612723), (2125, 0.7615943576808867), (2126, 0.7615943889985701), (2127, 0.7615944833401296), (2128, 0.7615946495081307), (2129, 0.761595871307743), (2130, 0.7615942809082329), (2131, 0.7615944308625126), (2132, 0.761594586775592), (2133, 0.7615946580955407), (2134, 0.7615943667708095), (2135, 0.7615944862309348), (2136, 0.7615941559557649), (2137, 0.7615948021359153), (2138, 0.7615948753337954), (2139, 0.7615966601670493), (2140, 0.7615945507084299), (2141, 0.761594515214016), (2142, 0.7615947613671412), (2143, 0.7615948802442898), (2144, 0.7615945443300582), (2145, 0.7615945737599158), (2146, 0.7615944738655713), (2147, 0.7615943682737967), (2148, 0.7615946575762645), (2149, 0.7615952898818343), (2150, 0.76159434575234), (2151, 0.7615945434457232), (2152, 0.7615946447468183), (2153, 0.7615945921643632), (2154, 0.7615946432219143), (2155, 0.7615946937662805), (2156, 0.7615944284467915), (2157, 0.76159427530302), (2158, 0.7615948273929105), (2159, 0.7615959849853446), (2160, 0.7615945391261114), (2161, 0.7615944522113618), (2162, 0.7615947210008915), (2163, 0.7615943726535326), (2164, 0.7615945356945253), (2165, 0.7615943438493984), (2166, 0.7615945825697734), (2167, 0.7615944598298066), (2168, 0.7615951659997937), (2169, 0.7615948733337329), (2170, 0.7615943358900845), (2171, 0.7615946295945168), (2172, 0.7615948960626946), (2173, 0.7615946124484518), (2174, 0.7615942597967869), (2175, 0.7615946027704737), (2176, 0.7615950630686409), (2177, 0.7615942063404197), (2178, 0.7615943793693339), (2179, 0.761594354135688), (2180, 0.7615946535128528), (2181, 0.7615945779599029), (2182, 0.76159448346308), (2183, 0.7615947339992594), (2184, 0.7615949646187009), (2185, 0.7615942781499899), (2186, 0.7615943410949392), (2187, 0.7615944319754666), (2188, 0.7615943919029338), (2189, 0.7615946323334257), (2190, 0.7615948566200607), (2191, 0.7615942049607737), (2192, 0.7615948010902908), (2193, 0.7615945867080949), (2194, 0.7615954150833947), (2195, 0.7615943430907405), (2196, 0.7615948691841243), (2197, 0.7615942585273056), (2198, 0.7615944855828094), (2199, 0.7615942516967827), (2200, 0.7615942466834968), (2201, 0.7615946697329444), (2202, 0.7615942881613375), (2203, 0.7615944992247783), (2204, 0.7615942624674145), (2205, 0.7615945526229411), (2206, 0.7615944265655958), (2207, 0.7615946139603019), (2208, 0.761594523718889), (2209, 0.7615944317081103), (2210, 0.761594255950538), (2211, 0.7615945802617333), (2212, 0.7615945591994092), (2213, 0.7615945924685178), (2214, 0.761594345056009), (2215, 0.7615951797129534), (2216, 0.7615943757861502), (2217, 0.7615946163914511), (2218, 0.7615945943645489), (2219, 0.7615943482432477), (2220, 0.7615942565619609), (2221, 0.7615943234535583), (2222, 0.7615941559557649), (2223, 0.7615946036418451), (2224, 0.761594493623843), (2225, 0.7615946106133307), (2226, 0.7615946041233425), (2227, 0.7615944085259346), (2228, 0.7615946373856233), (2229, 0.7615946257107498), (2230, 0.7615950851762618), (2231, 0.7615951153585285), (2232, 0.7615946263613899), (2233, 0.7615945067790043), (2234, 0.7615947102168461), (2235, 0.7615942829060296), (2236, 0.7615943581928126), (2237, 0.7615958652599045), (2238, 0.7615945368172712), (2239, 0.761594583519069), (2240, 0.7615946121428452), (2241, 0.7615941559557649), (2242, 0.7615943182250435), (2243, 0.7615949341587893), (2244, 0.7615945976095704), (2245, 0.7615945427995195), (2246, 0.7615944841608344), (2247, 0.7615943548944926), (2248, 0.7615947267244909), (2249, 0.7615941559557649), (2250, 0.7615951468252663), (2251, 0.7615945016246453), (2252, 0.7615946887692906), (2253, 0.7615947647917708), (2254, 0.7615953513291172), (2255, 0.7615950482322871), (2256, 0.7615956582355168), (2257, 0.7615942711701134), (2258, 0.7615947165218575), (2259, 0.7615945735617586), (2260, 0.7615941559557649), (2261, 0.761594368709716), (2262, 0.7615946096954883), (2263, 0.7615945239018418), (2264, 0.7615943081430653), (2265, 0.761594305882614), (2266, 0.7615943081045287), (2267, 0.7615944468666623), (2268, 0.7615943456983763), (2269, 0.7615943169241168), (2270, 0.7615941559557649), (2271, 0.7615945779250645), (2272, 0.7615945145795889), (2273, 0.7615941559557649), (2274, 0.7615944928961924), (2275, 0.761594629654534), (2276, 0.7615947909861369), (2277, 0.7615942697246628), (2278, 0.7615946914894975), (2279, 0.7615946415008411), (2280, 0.7615946337428379), (2281, 0.7615942642005922), (2282, 0.7615948216091959), (2283, 0.7615949928941415), (2284, 0.7615945929579074), (2285, 0.7615943585869108), (2286, 0.7615941559557649), (2287, 0.761594954763928), (2288, 0.7615943906671919), (2289, 0.7615947034745731), (2290, 0.7615944591759733), (2291, 0.761594609262885), (2292, 0.7615953742387889), (2293, 0.7615956846777223), (2294, 0.7615944281253009), (2295, 0.7615947738063895), (2296, 0.7615945976757583), (2297, 0.7615944139765534), (2298, 0.7615942907073274), (2299, 0.7615945973745406), (2300, 0.7615944068808241), (2301, 0.7615947060160928), (2302, 0.7615944008578988), (2303, 0.7615949525864751), (2304, 0.7615944742214086), (2305, 0.7615941559557649), (2306, 0.7615944942030022), (2307, 0.761594820092498), (2308, 0.7615942741865457), (2309, 0.7615942013618521), (2310, 0.7615950640974958), (2311, 0.7615948218243743), (2312, 0.7615945838799019), (2313, 0.7615950736882261), (2314, 0.7615942707948382), (2315, 0.7615945140323993), (2316, 0.7615945858407406), (2317, 0.7615945400275423), (2318, 0.7615941559557649), (2319, 0.7615946546344148), (2320, 0.7615942629953145), (2321, 0.7615944635019595), (2322, 0.7615946191638219), (2323, 0.7615946344481864), (2324, 0.761594436833232), (2325, 0.7615943653007857), (2326, 0.7615945879076318), (2327, 0.761594259342909), (2328, 0.7615946925278523), (2329, 0.7615944563286212), (2330, 0.7615941559557649), (2331, 0.7615943874028945), (2332, 0.7615944598231545), (2333, 0.7615944318765879), (2334, 0.7615947252546622), (2335, 0.7615943054920635), (2336, 0.7615943126566689), (2337, 0.7615948167711484), (2338, 0.7615945569547501), (2339, 0.7615941559557649), (2340, 0.761594350192271), (2341, 0.7615951176858727), (2342, 0.7615943137153284), (2343, 0.7615944013790293), (2344, 0.7615945135939898), (2345, 0.7615948129157791), (2346, 0.7615950053346603), (2347, 0.7615942812584464), (2348, 0.7615946066044459), (2349, 0.7615944382749681), (2350, 0.7615947162121781), (2351, 0.7615952815177321), (2352, 0.7615945847767012), (2353, 0.7615945035563935), (2354, 0.7615945007490907), (2355, 0.7615942077237616), (2356, 0.7615944601517618), (2357, 0.7615944732928125), (2358, 0.7615943644442178), (2359, 0.7615944261700309), (2360, 0.7615944304701814), (2361, 0.761594403421511), (2362, 0.7615942796218186), (2363, 0.761594300514826), (2364, 0.7615943115345274), (2365, 0.761594535710112), (2366, 0.7615946448288199), (2367, 0.7615945527645928), (2368, 0.7615946471391956), (2369, 0.7615946912997141), (2370, 0.7615947973440962), (2371, 0.7615941559557649), (2372, 0.7615943688901146), (2373, 0.7615944790213903), (2374, 0.7615944065480058), (2375, 0.7615944391072684), (2376, 0.761594904611405), (2377, 0.7615957732693043), (2378, 0.7615941559557649), (2379, 0.7615943690733432), (2380, 0.7615951121396096), (2381, 0.7615945891199905), (2382, 0.7615947151936007), (2383, 0.7615944968771715), (2384, 0.7615947199348102), (2385, 0.7615950147018924), (2386, 0.7615945990435309), (2387, 0.7615944229280708), (2388, 0.7615949256990983), (2389, 0.7615944779137089), (2390, 0.7615946445600552), (2391, 0.7615947763130488), (2392, 0.7615942739996915), (2393, 0.7615942511486771), (2394, 0.7615946341340623), (2395, 0.7615950372967407), (2396, 0.7615945238773675), (2397, 0.7615945290368851), (2398, 0.7615946115214516), (2399, 0.7615955374758145), (2400, 0.7615945222819333), (2401, 0.7615946103149134), (2402, 0.7615953466406323), (2403, 0.7615946665720864), (2404, 0.7615944549631359), (2405, 0.7615947436694879), (2406, 0.7615942140263313), (2407, 0.7615943286227327), (2408, 0.7615947778370991), (2409, 0.7615944469756498), (2410, 0.7615941559557649), (2411, 0.7615948304831317), (2412, 0.7615942356184505), (2413, 0.761594203981721), (2414, 0.7615945981016559), (2415, 0.7615942691159133), (2416, 0.7615956617989312), (2417, 0.7615942873747701), (2418, 0.7615950043727464), (2419, 0.7615942774019604), (2420, 0.7615946386441539), (2421, 0.761595182128476), (2422, 0.7615947132463229), (2423, 0.761594396801653), (2424, 0.7615942017926444), (2425, 0.7615945727319671), (2426, 0.7615946264905848), (2427, 0.7615950648238186), (2428, 0.7615947771234163), (2429, 0.7615944864910319), (2430, 0.7615943105121753), (2431, 0.7615952548939493), (2432, 0.7615947275373258), (2433, 0.7615951720297307), (2434, 0.7615946306535682), (2435, 0.7615943919755714), (2436, 0.761594869544014), (2437, 0.7615945332075752), (2438, 0.7615942741432687), (2439, 0.7615948407255733), (2440, 0.7615944608881973), (2441, 0.7615944866300297), (2442, 0.7615943820976899), (2443, 0.761595391538141), (2444, 0.7615947284970852), (2445, 0.7615946763780962), (2446, 0.7615943184250376), (2447, 0.7615946381344056), (2448, 0.7615948889854094), (2449, 0.7615942667865283), (2450, 0.7615941970628134), (2451, 0.7615943412789319), (2452, 0.7615942546281455), (2453, 0.7615944635872205), (2454, 0.7615943259730205), (2455, 0.7615948619107971), (2456, 0.7615946599761845), (2457, 0.7615946240881978), (2458, 0.7615943768025755), (2459, 0.7615946849781965), (2460, 0.7615955154685913), (2461, 0.7615945669374093), (2462, 0.7615943433917838), (2463, 0.7615971934675192), (2464, 0.7615946320081972), (2465, 0.7615943583511777), (2466, 0.7615946868969603), (2467, 0.7615945825715099), (2468, 0.7615942725657342), (2469, 0.7615945198396361), (2470, 0.7615946718874234), (2471, 0.7615944136801533), (2472, 0.7615941559557649), (2473, 0.7615948519761445), (2474, 0.7615946163330624), (2475, 0.7615946181739214), (2476, 0.7615942608936763), (2477, 0.7615941559557649), (2478, 0.761594774528335), (2479, 0.7615943191597283), (2480, 0.7615943012020465), (2481, 0.761594354441482), (2482, 0.7615945418472831), (2483, 0.7615943910239704), (2484, 0.7615944703627058), (2485, 0.7615943067102922), (2486, 0.7615942659248107), (2487, 0.7615944410489078), (2488, 0.7615946326888536), (2489, 0.7615950427145188), (2490, 0.7615941559557649), (2491, 0.7615946104914053), (2492, 0.7615945109946495), (2493, 0.7615942124381352), (2494, 0.7615943949689516), (2495, 0.7615944611805998), (2496, 0.7615943899979793), (2497, 0.7615945495519377), (2498, 0.7615947533362747), (2499, 0.7615949052912457), (2500, 0.7615948410224768), (2501, 0.7615947487110043), (2502, 0.7615951275820506), (2503, 0.7615944676841058), (2504, 0.7615950800769627), (2505, 0.7615941559557649), (2506, 0.7615947891144922), (2507, 0.7615943837656183), (2508, 0.7615944128520589), (2509, 0.7615945420231468), (2510, 0.7615945832747544), (2511, 0.7615944471711779), (2512, 0.7615946439391396), (2513, 0.7615945094624834), (2514, 0.7615941559557649), (2515, 0.7615946182891842), (2516, 0.7615941559557649), (2517, 0.7615946049202037), (2518, 0.7615946678882844), (2519, 0.7615941559557649), (2520, 0.7615947266279461), (2521, 0.7615944181616813), (2522, 0.7615944987644787), (2523, 0.7615944604007019), (2524, 0.7615942209636147), (2525, 0.7615951045629902), (2526, 0.7615942511407798), (2527, 0.761594809459605), (2528, 0.761595949855776), (2529, 0.7615946419466025), (2530, 0.7615947768823583), (2531, 0.76159424956186), (2532, 0.7615944941495482), (2533, 0.761595006427955), (2534, 0.7615948794785515), (2535, 0.7615944448920408), (2536, 0.7615954871160712), (2537, 0.761594435637302), (2538, 0.761594393891148), (2539, 0.7615947801024369), (2540, 0.7615945348147657), (2541, 0.7615944961139915), (2542, 0.7615945647062823), (2543, 0.7615963598664516), (2544, 0.7615948093677606), (2545, 0.7615946129386865), (2546, 0.7615944289442265), (2547, 0.7615946536915046), (2548, 0.7615949864820659), (2549, 0.7615947400657959), (2550, 0.7615946892377621), (2551, 0.7615943017268938), (2552, 0.7615946725617259), (2553, 0.7615943936739991), (2554, 0.7615946383190446), (2555, 0.7615942927214868), (2556, 0.761594990996148), (2557, 0.7615943093171804), (2558, 0.7615949004147047), (2559, 0.7615941559557649), (2560, 0.7615945762647672), (2561, 0.7615945852339181), (2562, 0.7615947673956773), (2563, 0.7615947560224647), (2564, 0.7615945668680214), (2565, 0.7615943298933303), (2566, 0.7615943902983058), (2567, 0.7615960396133141), (2568, 0.7615945318055233), (2569, 0.7615941980774962), (2570, 0.7615946910649529), (2571, 0.7615942535877908), (2572, 0.7615952564460517), (2573, 0.7615945308278897), (2574, 0.761594704342377), (2575, 0.7615942545900714), (2576, 0.7615945363693095), (2577, 0.7615941559557649), (2578, 0.761594456797671), (2579, 0.7615944356499711), (2580, 0.7615941559557649), (2581, 0.7615943349126737), (2582, 0.7615948625076978), (2583, 0.7615944777767683), (2584, 0.761594492222081), (2585, 0.7615949022272795), (2586, 0.7615950999233289), (2587, 0.7615943807990988), (2588, 0.7615946997366349), (2589, 0.7615945351858273), (2590, 0.7615945736188949), (2591, 0.7615952014772194), (2592, 0.7615946775048076), (2593, 0.761594519161922), (2594, 0.7615958040102179), (2595, 0.7615943781520812), (2596, 0.7615944337336695), (2597, 0.7615946549525288), (2598, 0.7615943515904647), (2599, 0.761594706125742), (2600, 0.7615944337299477), (2601, 0.761594330213033), (2602, 0.7615949625696721), (2603, 0.7615944761449924), (2604, 0.7615944384429583), (2605, 0.7615944097409475), (2606, 0.7615945122350145), (2607, 0.7615941559557649), (2608, 0.7615946126859813), (2609, 0.7615943790156062), (2610, 0.7615946254766612), (2611, 0.7615948434814993), (2612, 0.761594892406255), (2613, 0.7615944498376584), (2614, 0.7615941559557649), (2615, 0.7615943953436402), (2616, 0.7615943318830771), (2617, 0.7615942133407061), (2618, 0.7615944009030433), (2619, 0.7615948447492417), (2620, 0.7615950846180728), (2621, 0.7615945533175964), (2622, 0.7615965409048828), (2623, 0.7615944142356246), (2624, 0.7615942559574914), (2625, 0.7615952485435687), (2626, 0.7615946314361562), (2627, 0.7615942776382482), (2628, 0.7615946346159748), (2629, 0.7615942931863731), (2630, 0.7615945982341898), (2631, 0.7615945589378215), (2632, 0.761594740501993), (2633, 0.7615944836380832), (2634, 0.7615944279309943), (2635, 0.7615946302058764), (2636, 0.761595462719677), (2637, 0.7615958571968573), (2638, 0.7615948281163591), (2639, 0.7615942832870806), (2640, 0.7615943343374729), (2641, 0.7615944927466339), (2642, 0.7615943036657511), (2643, 0.7615947573261499), (2644, 0.7615944900406896), (2645, 0.7615949526753591), (2646, 0.7615947091463124), (2647, 0.7615944947685411), (2648, 0.761594241132457), (2649, 0.761595229788676), (2650, 0.7615941996615991), (2651, 0.7615947266644592), (2652, 0.7615948545147735), (2653, 0.7615945115261233), (2654, 0.761594838734828), (2655, 0.7615946447606602), (2656, 0.7615949756897952), (2657, 0.7615944158616067), (2658, 0.7615945127313912), (2659, 0.7615947144765002), (2660, 0.7615947424548979), (2661, 0.7615946299410659), (2662, 0.7615945572793579), (2663, 0.7615945942529844), (2664, 0.7615948529278485), (2665, 0.7615943378791263), (2666, 0.7615947620405016), (2667, 0.7615947997316739), (2668, 0.7615945199324228), (2669, 0.7615946202605981), (2670, 0.7615941559557649), (2671, 0.7615949899829478), (2672, 0.7615944519538445), (2673, 0.7615945465545094), (2674, 0.7615943590215676), (2675, 0.7615943339219442), (2676, 0.7615946615226826), (2677, 0.7615945943993288), (2678, 0.7615947066070725), (2679, 0.761594596537422), (2680, 0.7615942891869175), (2681, 0.7615952795682975), (2682, 0.7615946279881584), (2683, 0.7615945102196893), (2684, 0.7615942797642195), (2685, 0.7615947594625079), (2686, 0.7615944763418633), (2687, 0.7615942151171766), (2688, 0.7615943759266215), (2689, 0.7615948234781051), (2690, 0.7615947582964915), (2691, 0.7615941559557649), (2692, 0.7615946052685638), (2693, 0.761594529186051), (2694, 0.7615941559557649), (2695, 0.7615944920842687), (2696, 0.7615943935835047), (2697, 0.7615947934933786), (2698, 0.7615944154454612), (2699, 0.7615942814228067), (2700, 0.7615943231769912), (2701, 0.7615943893161428), (2702, 0.7615951337056579), (2703, 0.7615942726843664), (2704, 0.7615947983561082), (2705, 0.7615945337696223), (2706, 0.7615942171001491), (2707, 0.761594464031696), (2708, 0.7615944000332041), (2709, 0.7615949180219164), (2710, 0.7615947457495416), (2711, 0.7615941559557649), (2712, 0.761594870401753), (2713, 0.7615948143270361), (2714, 0.76159461608615), (2715, 0.7615947835183673), (2716, 0.761594364123755), (2717, 0.7615948607222538), (2718, 0.7615944074193973), (2719, 0.7615944786443253), (2720, 0.7615948404292044), (2721, 0.7615946938661591), (2722, 0.7615945252269731), (2723, 0.761594433608621), (2724, 0.7615942818990427), (2725, 0.7615943144426548), (2726, 0.7615943657310591), (2727, 0.7615942274596255), (2728, 0.7615949358854702), (2729, 0.7615942280932031), (2730, 0.7615944882311803), (2731, 0.7615949259061672), (2732, 0.7615947367358794), (2733, 0.7615948424758943), (2734, 0.7615950406153996), (2735, 0.7615946693338322), (2736, 0.7615944595697932), (2737, 0.7615954589194222), (2738, 0.7615942300670939), (2739, 0.7615942451294855), (2740, 0.761594382102821), (2741, 0.7615942935879122), (2742, 0.7615942535103011), (2743, 0.7615945772453598), (2744, 0.7615949669343021), (2745, 0.7615941559557649), (2746, 0.7615950638775206), (2747, 0.7615943029994078), (2748, 0.7615943214132768), (2749, 0.7615948858995616), (2750, 0.761594455492202), (2751, 0.7615944520931744), (2752, 0.7615944700062166), (2753, 0.7615945274675225), (2754, 0.7615944417469404), (2755, 0.761595651289309), (2756, 0.7615942133708238), (2757, 0.7615941559557649), (2758, 0.7615942456679231), (2759, 0.761594394098216), (2760, 0.7615948405401158), (2761, 0.7615946544646541), (2762, 0.7615946721567859), (2763, 0.7615944589623731), (2764, 0.7615944288578367), (2765, 0.7615947954327819), (2766, 0.7615944791520127), (2767, 0.7615944782135373), (2768, 0.761594424093426), (2769, 0.7615945726243587), (2770, 0.7615942363315793), (2771, 0.7615943111148918), (2772, 0.7615942728954526), (2773, 0.7615947436064688), (2774, 0.7615945428859819), (2775, 0.7615944166474506), (2776, 0.7615948008059953), (2777, 0.761595348966644), (2778, 0.7615951037657047), (2779, 0.7615944884100848), (2780, 0.7615944631955655), (2781, 0.7615944155297496), (2782, 0.7615943194910336), (2783, 0.7615944882380211), (2784, 0.7615948029817684), (2785, 0.761594760758971), (2786, 0.7615949146315252), (2787, 0.7615944313789392), (2788, 0.7615945868578301), (2789, 0.7615943788541071), (2790, 0.7615947655177868), (2791, 0.7615944773428078), (2792, 0.761595840903738), (2793, 0.7615944577730136), (2794, 0.7615945840571714), (2795, 0.7615944583687903), (2796, 0.7615945026858768), (2797, 0.7615942906468016), (2798, 0.7615942378362504), (2799, 0.7615944461543269), (2800, 0.7615942824578565), (2801, 0.7615949882016868), (2802, 0.76159489998721), (2803, 0.7615945287237877), (2804, 0.7615944708434422), (2805, 0.7615947121600312), (2806, 0.7615947508886186), (2807, 0.7615943669112407), (2808, 0.7615942402600194), (2809, 0.7615943451458979), (2810, 0.7615942898440284), (2811, 0.7615944414444058), (2812, 0.7615945205464686), (2813, 0.7615948406822437), (2814, 0.7615946676009588), (2815, 0.7615949962530592), (2816, 0.7615945548029444), (2817, 0.7615945288230604), (2818, 0.7615947305844672), (2819, 0.7615948042047743), (2820, 0.7615947196215032), (2821, 0.761594609264423), (2822, 0.7615946472186172), (2823, 0.7615943072916207), (2824, 0.761594310008362), (2825, 0.7615944980453951), (2826, 0.7615947177162715), (2827, 0.7615942005320502), (2828, 0.7615951416943753), (2829, 0.7615944529839942), (2830, 0.76159505270413), (2831, 0.7615943622609574), (2832, 0.7615945548855607), (2833, 0.7615943891845013), (2834, 0.7615944977190103), (2835, 0.7615945936026597), (2836, 0.7615947809455323), (2837, 0.7615945822263303), (2838, 0.7615945126254112), (2839, 0.7615941559557649), (2840, 0.7615945169542063), (2841, 0.7615947132547212), (2842, 0.7615945640548569), (2843, 0.7615943591306187), (2844, 0.7615943056767975), (2845, 0.7615945031171878), (2846, 0.7615944512448752), (2847, 0.7615943623290288), (2848, 0.7615946221656927), (2849, 0.7615943268853922), (2850, 0.7615951233083279), (2851, 0.7615944194214452), (2852, 0.7615944998365223), (2853, 0.7615944604413415), (2854, 0.7615945980688799), (2855, 0.7615945655219978), (2856, 0.7615944864222617), (2857, 0.7615947129407084), (2858, 0.7615946186949059), (2859, 0.7615944081196652), (2860, 0.7615942450444765), (2861, 0.7615954209566594), (2862, 0.7615944145769252), (2863, 0.7615941559557649), (2864, 0.7615941559557649), (2865, 0.7615946693860675), (2866, 0.7615942930483653), (2867, 0.7615943611229361), (2868, 0.7615944226266016), (2869, 0.7615942860397351), (2870, 0.7615946214685608), (2871, 0.7615945413798534), (2872, 0.7615948706869727), (2873, 0.7615946391906223), (2874, 0.7615943577372242), (2875, 0.7615949122804725), (2876, 0.7615951181097135), (2877, 0.7615943416041193), (2878, 0.7615942388941928), (2879, 0.7615945492765283), (2880, 0.7615943045889727), (2881, 0.7615945797456731), (2882, 0.7615945408271158), (2883, 0.7615946410190754), (2884, 0.76159459621469), (2885, 0.761594344423951), (2886, 0.7615945855817893), (2887, 0.7615948924024092), (2888, 0.7615946822167267), (2889, 0.761594232579733), (2890, 0.7615948520451178), (2891, 0.7615948299063916), (2892, 0.7615943459111313), (2893, 0.761594314953367), (2894, 0.7615944980637417), (2895, 0.7615943942093883), (2896, 0.7615943828655932), (2897, 0.7615942503141833), (2898, 0.7615943616794741), (2899, 0.7615943951438136), (2900, 0.7615943558188074), (2901, 0.7615949791808253), (2902, 0.7615944363907556), (2903, 0.7615943081572689), (2904, 0.7615944581014187), (2905, 0.7615943419140913), (2906, 0.7615945413284751), (2907, 0.7615947480534009), (2908, 0.7615943506491294), (2909, 0.7615949557051198), (2910, 0.7615947710551143), (2911, 0.7615958202553419), (2912, 0.7615944199154372), (2913, 0.7615944416278384), (2914, 0.7615943978904525), (2915, 0.761594477956969), (2916, 0.7615945348788347), (2917, 0.7615951161015102), (2918, 0.7615945389834943), (2919, 0.7615942419438948), (2920, 0.7615945260063446), (2921, 0.761594713782932), (2922, 0.7615942517295946), (2923, 0.7615943222051166), (2924, 0.7615941559557649), (2925, 0.7615944733059018), (2926, 0.7615943213609316), (2927, 0.7615947494275747), (2928, 0.7615949011755738), (2929, 0.7615954581794024), (2930, 0.7615941559557649), (2931, 0.7615945208813567), (2932, 0.7615945180012413), (2933, 0.7615942728338374), (2934, 0.7615945884391324), (2935, 0.7615945359362545), (2936, 0.761595069607685), (2937, 0.7615943861388272), (2938, 0.7615943913009326), (2939, 0.7615947521370661), (2940, 0.7615949542456681), (2941, 0.7615950169190343), (2942, 0.7615943483271389), (2943, 0.7615945352605208), (2944, 0.7615947113067272), (2945, 0.7615948036177281), (2946, 0.761594208760161), (2947, 0.7615943941222927), (2948, 0.7615944914316023), (2949, 0.7615942194445158), (2950, 0.7615943054410019), (2951, 0.7615941559557649), (2952, 0.7615945881512167), (2953, 0.7615984829632282), (2954, 0.7615947813382473), (2955, 0.7615946573522305), (2956, 0.7615943124902087), (2957, 0.7615941559557649), (2958, 0.761594315470941), (2959, 0.7615948185317802), (2960, 0.7615943083677169), (2961, 0.761595165572595), (2962, 0.7615944144629823), (2963, 0.7615945628971292), (2964, 0.7615952065731275), (2965, 0.7615947911987841), (2966, 0.7615941559557649), (2967, 0.7615941559557649), (2968, 0.7615952323548467), (2969, 0.7615945127723982), (2970, 0.7615950455484414), (2971, 0.7615945196629833), (2972, 0.7615948252378764), (2973, 0.7615948390266835), (2974, 0.7615941559557649), (2975, 0.7615946778148467), (2976, 0.7615941559557649), (2977, 0.7615951192474668), (2978, 0.7615943799964783), (2979, 0.7615946906036815), (2980, 0.7615945715290814), (2981, 0.7615948783672788), (2982, 0.7615944912493748), (2983, 0.7615949247000068), (2984, 0.7615946406780305), (2985, 0.7615946003871866), (2986, 0.7615949118112387), (2987, 0.7615945042249965), (2988, 0.761594338921208), (2989, 0.7615956381150325), (2990, 0.7615947096259937), (2991, 0.761594576030566), (2992, 0.7615943682517694), (2993, 0.7615946220211766), (2994, 0.7615943159343276), (2995, 0.7615945503487936), (2996, 0.7615949953609483), (2997, 0.7615945485843185), (2998, 0.7615942050514788), (2999, 0.761594706468234), (3000, 0.7615944022592244), (3001, 0.7615946657889352), (3002, 0.7615947353598369), (3003, 0.7615946482289253), (3004, 0.7615941559557649), (3005, 0.7615943840601626), (3006, 0.7615945940489632), (3007, 0.7615943168559092), (3008, 0.7615942358859673), (3009, 0.7615945119334999), (3010, 0.7615943117326147), (3011, 0.7615944092297188), (3012, 0.7615943847989253), (3013, 0.7615947838770816), (3014, 0.7615942358534844), (3015, 0.7615945766879891), (3016, 0.761594727194656), (3017, 0.761594359651746), (3018, 0.761594373236786), (3019, 0.7615942402133562), (3020, 0.7615945173490711), (3021, 0.7615945045611703), (3022, 0.761594434643863), (3023, 0.7615944026372624), (3024, 0.7615947111772017), (3025, 0.7615942348719721), (3026, 0.7615950017837404), (3027, 0.7615942867354517), (3028, 0.7615945274143403), (3029, 0.761594552834196), (3030, 0.761594794709091), (3031, 0.7615941559557649), (3032, 0.7615946122645851), (3033, 0.7615949451866074), (3034, 0.7615946517557337), (3035, 0.76159456866778), (3036, 0.7615945807894986), (3037, 0.7615946095422611), (3038, 0.7615945009021716), (3039, 0.761594736140489), (3040, 0.7615942194947074), (3041, 0.7615947711053352), (3042, 0.7615949774135126), (3043, 0.7615943651844289), (3044, 0.7615943748197749), (3045, 0.7615943502293759), (3046, 0.761595540590854), (3047, 0.7615943266292444), (3048, 0.7615945082427038), (3049, 0.7615944007659808), (3050, 0.7615941559557649), (3051, 0.7615943851719552), (3052, 0.7615945046328734), (3053, 0.7615946961227245), (3054, 0.76159478826008), (3055, 0.7615945002007712), (3056, 0.7615946635453433), (3057, 0.7615943712034023), (3058, 0.7615943889789605), (3059, 0.7615942700087657), (3060, 0.7615946169861801), (3061, 0.7615946528966375), (3062, 0.7615943944957863), (3063, 0.7615942355716816), (3064, 0.761594699636216), (3065, 0.7615945174631853), (3066, 0.7615954739245802), (3067, 0.7615944226117595), (3068, 0.7615942426922789), (3069, 0.7615958148162492), (3070, 0.7615943994916994), (3071, 0.7615942168792627), (3072, 0.7615943958796835), (3073, 0.7615942464555021), (3074, 0.7615948270578945), (3075, 0.7615948156714973), (3076, 0.7615944989812289), (3077, 0.7615944209386635), (3078, 0.761594781662135), (3079, 0.761594512288988), (3080, 0.7615943237352509), (3081, 0.7615942918774143), (3082, 0.7615942871656294), (3083, 0.7615942816377983), (3084, 0.7615943942228168), (3085, 0.7615941559557649), (3086, 0.7615946071009927), (3087, 0.7615946649251877), (3088, 0.7615945330160275), (3089, 0.7615961187750793), (3090, 0.761594577403811), (3091, 0.7615941559557649), (3092, 0.7615948278394222), (3093, 0.7615952714841758), (3094, 0.7615945967926439), (3095, 0.7615945181908822), (3096, 0.7615945210631924), (3097, 0.7615945752707948), (3098, 0.7615942833387876), (3099, 0.7615948510619546), (3100, 0.7615948004316423), (3101, 0.7615944665870227), (3102, 0.7615943407882589), (3103, 0.761594583083771), (3104, 0.7615942766702668), (3105, 0.7615944314939962), (3106, 0.7615942358123723), (3107, 0.7615942461350584), (3108, 0.7615944305307261), (3109, 0.7615943509311626), (3110, 0.7615948167700297), (3111, 0.7615943223734647), (3112, 0.7615948985939717), (3113, 0.7615944085108415), (3114, 0.7615967814948109), (3115, 0.7615945718160226), (3116, 0.7615942298815122), (3117, 0.7615948063744175), (3118, 0.7615950092836326), (3119, 0.7615944980707935), (3120, 0.7615944907875968), (3121, 0.7615945607919403), (3122, 0.761594968342164), (3123, 0.7615942168391763), (3124, 0.7615943219438327), (3125, 0.7615945652459539), (3126, 0.7615946652949976), (3127, 0.7615946424677056), (3128, 0.7615946700706285), (3129, 0.7615944647039277), (3130, 0.761594417858167), (3131, 0.761595471197831), (3132, 0.761594626600993), (3133, 0.7615947606356043), (3134, 0.7615946161227383), (3135, 0.761594772926635), (3136, 0.7615950212175608), (3137, 0.7615945256056269), (3138, 0.7615950431389777), (3139, 0.7615945248917393), (3140, 0.7615949334873552), (3141, 0.7615946105452767), (3142, 0.761594782466056), (3143, 0.7615941559557649), (3144, 0.7615943280891202), (3145, 0.761594887272743), (3146, 0.7615947035699216), (3147, 0.7615945818065863), (3148, 0.7615946764739396), (3149, 0.761594342207315), (3150, 0.7615945886367997), (3151, 0.7615945047809648), (3152, 0.7615946925137174), (3153, 0.7615945800000142), (3154, 0.7615949400561918), (3155, 0.7615946089188348), (3156, 0.7615948281820217), (3157, 0.761594454449535), (3158, 0.7615944558094145), (3159, 0.7615947011524099), (3160, 0.761594461306074), (3161, 0.7615942672534088), (3162, 0.7615945134903401), (3163, 0.7615951985694267), (3164, 0.7615948168611488), (3165, 0.7615945413618433), (3166, 0.7615950852217491), (3167, 0.7615943544329262), (3168, 0.7615942116956227), (3169, 0.7615941559557649), (3170, 0.7615950040036086), (3171, 0.7615946203653678), (3172, 0.7615944652658799), (3173, 0.7615945410820741), (3174, 0.7615944626951148), (3175, 0.7615944485941859), (3176, 0.761594813968397), (3177, 0.7615947107622807), (3178, 0.7615941559557649), (3179, 0.7615945447444978), (3180, 0.7615947570642664), (3181, 0.7615946277830912), (3182, 0.7615945107358556), (3183, 0.761594687876919), (3184, 0.7615952461129254), (3185, 0.7615942368769506), (3186, 0.7615945095298616), (3187, 0.7615944575418561), (3188, 0.7615942449604474), (3189, 0.761595083939526), (3190, 0.7615945668788882), (3191, 0.7615947719392938), (3192, 0.7615946482838375), (3193, 0.7615941559557649), (3194, 0.7615945129418745), (3195, 0.7615946502361643), (3196, 0.7615944686889619), (3197, 0.7615943118404214), (3198, 0.7615943529454847), (3199, 0.7615946331314403), (3200, 0.7615945277417704), (3201, 0.7615945224312983), (3202, 0.761594285108226), (3203, 0.7615952243723859), (3204, 0.7615951050764334), (3205, 0.7615945950669994), (3206, 0.7615961636323081), (3207, 0.7615946406708637), (3208, 0.7615941559557649), (3209, 0.7615946155062059), (3210, 0.7615943681251389), (3211, 0.7615943246504157), (3212, 0.7615945001588594), (3213, 0.7615943527183338), (3214, 0.7615945076891821), (3215, 0.7615943726187013), (3216, 0.7615942381397869), (3217, 0.7615945840426825), (3218, 0.7615946256530217), (3219, 0.7615947616258787), (3220, 0.7615945418609392), (3221, 0.7615942831757375), (3222, 0.7615945781729517), (3223, 0.7615947105017823), (3224, 0.7615945463781344), (3225, 0.761594250169964), (3226, 0.7615943335397124), (3227, 0.761594602118778), (3228, 0.7615942195821055), (3229, 0.7615947002185031), (3230, 0.7615944305754843), (3231, 0.7615944447692993), (3232, 0.7615946244185574), (3233, 0.7615944103032102), (3234, 0.7615950808960933), (3235, 0.7615943528962077), (3236, 0.7615943662882267), (3237, 0.7615947725926018), (3238, 0.7615944371671073), (3239, 0.7615944007842913), (3240, 0.7615946926980394), (3241, 0.7615942185908222), (3242, 0.7615946841260327), (3243, 0.7615945376803687), (3244, 0.7615945950401952), (3245, 0.7615946920235706), (3246, 0.7615947281697789), (3247, 0.7615943900827313), (3248, 0.7615942659383446), (3249, 0.7615947759068064), (3250, 0.7615950999950075), (3251, 0.7615947605334263), (3252, 0.7615943891074637), (3253, 0.7615943440112215), (3254, 0.7615941559557649), (3255, 0.7615943888219616), (3256, 0.7615949182676588), (3257, 0.7615945216904665), (3258, 0.7615950170195328), (3259, 0.761595281638819), (3260, 0.7615946874852397), (3261, 0.7615949977904471), (3262, 0.7615941559557649), (3263, 0.7615943454219734), (3264, 0.7615947987335965), (3265, 0.7615952022549316), (3266, 0.7615941559557649), (3267, 0.7615942686143278), (3268, 0.7615945670266924), (3269, 0.7615948126735077), (3270, 0.7615944643546891), (3271, 0.7615942941037328), (3272, 0.7616181974047761), (3273, 0.7615948623408382), (3274, 0.7615945835443635), (3275, 0.7615943879604352)]\n",
      "[(3272, 0.7616181974047761), (2953, 0.7615984829632282), (1673, 0.7615983538019573), (560, 0.7615974831554625), (2463, 0.7615971934675192), (1274, 0.7615970721260155), (55, 0.7615968763785089), (207, 0.7615968752907237), (3114, 0.7615967814948109), (2009, 0.7615967620346649), (2139, 0.7615966601670493), (1853, 0.7615966086923601), (2622, 0.7615965409048828), (1672, 0.7615964218640071), (347, 0.7615964034293956), (94, 0.7615963857714747), (1108, 0.7615963798361165), (2543, 0.7615963598664516), (954, 0.7615963170717139), (1779, 0.7615962750027644), (1946, 0.7615962429554788), (488, 0.7615962277923806), (3206, 0.7615961636323081), (1515, 0.7615961456243151), (224, 0.7615961284617259), (3089, 0.7615961187750793), (369, 0.761596087149287), (190, 0.761596055962472), (65, 0.7615960425175764), (2567, 0.7615960396133141), (348, 0.7615959976508475), (840, 0.7615959895966051), (2159, 0.7615959849853446), (251, 0.761595972629587), (2528, 0.761595949855776), (1989, 0.7615959496560427), (1118, 0.7615959405508701), (563, 0.7615959077101089), (2129, 0.761595871307743), (2237, 0.7615958652599045), (2637, 0.7615958571968573), (933, 0.7615958478312413), (2792, 0.761595840903738), (2911, 0.7615958202553419), (3069, 0.7615958148162492), (2594, 0.7615958040102179), (2377, 0.7615957732693043), (221, 0.7615957732270975), (810, 0.7615957571975276), (143, 0.7615957487153088), (555, 0.7615957319643545), (427, 0.7615957287509902), (638, 0.761595713243884), (2082, 0.7615956917457419), (2293, 0.7615956846777223), (2067, 0.7615956755266651), (2416, 0.7615956617989312), (2256, 0.7615956582355168), (2755, 0.761595651289309), (16, 0.761595644529789), (2989, 0.7615956381150325), (456, 0.7615955884460264), (1543, 0.7615955761670932), (3046, 0.761595540590854), (853, 0.7615955397557097), (2399, 0.7615955374758145), (1296, 0.7615955215493555), (2094, 0.7615955192269662), (1104, 0.7615955187237524), (2460, 0.7615955154685913), (372, 0.7615954878797604), (2536, 0.7615954871160712), (543, 0.7615954840689452), (1808, 0.7615954803692346), (3066, 0.7615954739245802), (3131, 0.761595471197831), (2636, 0.761595462719677), (2737, 0.7615954589194222), (1584, 0.761595458387011), (2929, 0.7615954581794024), (614, 0.7615954404402164), (1739, 0.7615954301207846), (1874, 0.7615954293994093), (1073, 0.7615954268110996), (2861, 0.7615954209566594), (2194, 0.7615954150833947), (729, 0.7615954078160119), (1464, 0.7615954054838556), (74, 0.7615954053692643), (1152, 0.7615954003546729), (2443, 0.761595391538141), (1091, 0.7615953875482481), (2026, 0.7615953792590215), (1981, 0.7615953759294818), (1117, 0.7615953746193426), (2292, 0.7615953742387889), (1429, 0.7615953683583878), (346, 0.7615953607026631), (1363, 0.7615953559150785), (948, 0.7615953538808515), (2254, 0.7615953513291172), (2777, 0.761595348966644), (2402, 0.7615953466406323), (1616, 0.7615953439245685), (477, 0.761595331897895), (548, 0.761595325417158), (616, 0.7615953089975976), (962, 0.7615953081573832), (1797, 0.7615952981690335), (1085, 0.7615952948884193), (2149, 0.7615952898818343), (1046, 0.7615952831110142), (3259, 0.761595281638819), (2351, 0.7615952815177321), (2681, 0.7615952795682975), (206, 0.7615952760765852), (1303, 0.761595275043473), (3093, 0.7615952714841758), (1514, 0.7615952666156616), (886, 0.7615952614329814), (1720, 0.7615952566189287), (2572, 0.7615952564460517), (2431, 0.7615952548939493), (1138, 0.7615952520014515), (653, 0.7615952508198973), (2625, 0.7615952485435687), (239, 0.7615952467712195), (1704, 0.7615952463438771), (3184, 0.7615952461129254), (779, 0.7615952449830534), (1875, 0.7615952441902553), (312, 0.7615952399840661), (1549, 0.7615952374047089), (1123, 0.7615952365355649), (2968, 0.7615952323548467), (651, 0.7615952302361897), (2649, 0.761595229788676), (822, 0.7615952297550279), (431, 0.7615952262894083), (3203, 0.7615952243723859), (2036, 0.7615952217328206), (439, 0.7615952200053282), (2964, 0.7615952065731275), (3265, 0.7615952022549316), (2591, 0.7615952014772194), (3163, 0.7615951985694267), (1407, 0.7615951984925639), (155, 0.7615951968213257), (183, 0.7615951893203207), (295, 0.7615951880123044), (2421, 0.761595182128476), (518, 0.761595181704025), (2215, 0.7615951797129534), (677, 0.761595179006296), (2433, 0.7615951720297307), (2168, 0.7615951659997937), (2961, 0.761595165572595), (738, 0.7615951599601064), (1647, 0.7615951588859325), (950, 0.761595153468317), (557, 0.7615951534432955), (546, 0.7615951471495234), (2250, 0.7615951468252663), (1940, 0.7615951428926478), (2828, 0.7615951416943753), (1695, 0.7615951411572395), (856, 0.761595137274514), (916, 0.7615951345425482), (2702, 0.7615951337056579), (1975, 0.7615951295107715), (1880, 0.7615951282312274), (2502, 0.7615951275820506), (1834, 0.7615951273543085), (1077, 0.7615951264878211), (2850, 0.7615951233083279), (2977, 0.7615951192474668), (2015, 0.761595118308297), (2876, 0.7615951181097135), (2341, 0.7615951176858727), (259, 0.761595116856506), (2917, 0.7615951161015102), (536, 0.7615951156150467), (2231, 0.7615951153585285), (2000, 0.7615951141687707), (1708, 0.761595113126743), (2380, 0.7615951121396096), (1983, 0.7615951112033439), (588, 0.7615951075115415), (760, 0.7615951070489532), (3204, 0.7615951050764334), (2525, 0.7615951045629902), (2778, 0.7615951037657047), (52, 0.7615951034531121), (3250, 0.7615950999950075), (2586, 0.7615950999233289), (286, 0.7615950990507334), (200, 0.7615950973966371), (141, 0.7615950953705931), (414, 0.7615950912430622), (1093, 0.7615950862388825), (3166, 0.7615950852217491), (2230, 0.7615950851762618), (2620, 0.7615950846180728), (2016, 0.7615950844103526), (3189, 0.761595083939526), (943, 0.7615950838189749), (1080, 0.7615950825482921), (34, 0.7615950814428047), (3234, 0.7615950808960933), (2504, 0.7615950800769627), (1537, 0.7615950793689803), (592, 0.7615950780533076), (1380, 0.7615950763412289), (1423, 0.7615950745218676), (2313, 0.7615950736882261), (2936, 0.761595069607685), (1026, 0.7615950663215992), (2427, 0.7615950648238186), (2310, 0.7615950640974958), (100, 0.7615950640370173), (2746, 0.7615950638775206), (2176, 0.7615950630686409), (1548, 0.7615950605645959), (1133, 0.7615950600805771), (1267, 0.761595059581994), (1166, 0.7615950594817251), (527, 0.7615950591731486), (1030, 0.7615950533827616), (2830, 0.76159505270413), (2255, 0.7615950482322871), (1785, 0.7615950478841242), (617, 0.7615950456425152), (2970, 0.7615950455484414), (3138, 0.7615950431389777), (2489, 0.7615950427145188), (667, 0.7615950422502049), (2734, 0.7615950406153996), (915, 0.7615950378720577), (2395, 0.7615950372967407), (1918, 0.7615950359468953), (864, 0.7615950357666256), (1408, 0.7615950350028236), (344, 0.7615950345045953), (255, 0.7615950295930327), (805, 0.7615950295512969), (278, 0.7615950280337367), (265, 0.7615950241298426), (1177, 0.761595022939137), (3136, 0.7615950212175608), (1216, 0.7615950193109233), (1891, 0.7615950192008232), (3258, 0.7615950170195328), (2941, 0.7615950169190343), (1817, 0.7615950149992482), (2385, 0.7615950147018924), (192, 0.7615950142677496), (62, 0.7615950118265319), (1905, 0.7615950107414555), (299, 0.7615950104473465), (3118, 0.7615950092836326), (2533, 0.761595006427955), (2346, 0.7615950053346603), (2418, 0.7615950043727464), (3170, 0.7615950040036086), (3026, 0.7615950017837404), (771, 0.7615950008919686), (680, 0.7615950004289501), (1620, 0.7615949979392926), (3261, 0.7615949977904471), (2051, 0.7615949964747133), (2815, 0.7615949962530592), (70, 0.761594995906231), (735, 0.7615949958885838), (2996, 0.7615949953609483), (513, 0.7615949945247222), (859, 0.7615949937754232), (2283, 0.7615949928941415), (2556, 0.761594990996148), (2671, 0.7615949899829478), (2801, 0.7615949882016868), (2548, 0.7615949864820659), (487, 0.7615949859542639), (1570, 0.7615949845311941), (1807, 0.761594981660018), (1516, 0.7615949809248432), (2901, 0.7615949791808253), (3042, 0.7615949774135126), (1872, 0.7615949768946632), (2656, 0.7615949756897952), (601, 0.7615949745903279), (809, 0.761594973876155), (2096, 0.7615949726138491), (3122, 0.761594968342164), (2744, 0.7615949669343021), (662, 0.7615949662375766), (535, 0.7615949653980771), (2184, 0.7615949646187009), (1733, 0.7615949632896528), (437, 0.7615949628965097), (2602, 0.7615949625696721), (1818, 0.7615949613477018), (1467, 0.7615949601634837), (692, 0.7615949595169288), (2909, 0.7615949557051198), (2287, 0.761594954763928), (2940, 0.7615949542456681), (362, 0.7615949542179408), (2645, 0.7615949526753591), (2303, 0.7615949525864751), (656, 0.7615949515516641), (1381, 0.7615949506424096), (159, 0.7615949498382191), (872, 0.7615949493170552), (841, 0.7615949474458527), (394, 0.7615949473265103), (1502, 0.7615949466751529), (1047, 0.7615949465871922), (836, 0.7615949461954036), (90, 0.7615949460946674), (2122, 0.7615949454726516), (599, 0.761594945205827), (3033, 0.7615949451866074), (737, 0.761594945151633), (1483, 0.7615949435991562), (390, 0.7615949420225496), (424, 0.7615949418161448), (709, 0.7615949404803127), (1923, 0.7615949404418412), (3154, 0.7615949400561918), (1281, 0.7615949383353181), (1005, 0.7615949360385937), (2728, 0.7615949358854702), (951, 0.7615949353757563), (1756, 0.7615949342162845), (2243, 0.7615949341587893), (3140, 0.7615949334873552), (1487, 0.7615949323933578), (1978, 0.7615949317071119), (1454, 0.7615949315133363), (1265, 0.7615949301416982), (969, 0.7615949283245107), (1658, 0.7615949274900803), (2731, 0.7615949259061672), (2388, 0.7615949256990983), (2983, 0.7615949247000068), (1392, 0.7615949214847153), (268, 0.7615949213511379), (1399, 0.7615949212278306), (968, 0.7615949191553701), (1237, 0.7615949185441636), (3256, 0.7615949182676588), (2709, 0.7615949180219164), (2056, 0.7615949179613363), (357, 0.7615949161693374), (2786, 0.7615949146315252), (1415, 0.7615949142431775), (708, 0.7615949141357135), (2875, 0.7615949122804725), (788, 0.7615949119829097), (2986, 0.7615949118112387), (1555, 0.7615949111788265), (1939, 0.761594910661235), (1731, 0.7615949102342155), (432, 0.7615949101479099), (1290, 0.7615949099375876), (1820, 0.7615949076029195), (1032, 0.761594906711939), (718, 0.7615949058670832), (2499, 0.7615949052912457), (1100, 0.7615949047278873), (2376, 0.761594904611405), (724, 0.7615949039055122), (1175, 0.761594903126866), (1081, 0.7615949027289588), (2585, 0.7615949022272795), (845, 0.7615949022127154), (2928, 0.7615949011755738), (2558, 0.7615949004147047), (2802, 0.76159489998721), (937, 0.7615948999493912), (1976, 0.7615948989959123), (3112, 0.7615948985939717), (1049, 0.7615948971596401), (551, 0.7615948968778765), (1600, 0.7615948964281447), (2172, 0.7615948960626946), (1675, 0.7615948958806305), (87, 0.7615948956198049), (152, 0.7615948955403582), (465, 0.7615948929067622), (2612, 0.761594892406255), (2887, 0.7615948924024092), (1843, 0.7615948923494189), (2448, 0.7615948889854094), (1860, 0.7615948885566208), (1171, 0.7615948876716649), (3145, 0.761594887272743), (2749, 0.7615948858995616), (333, 0.7615948855945043), (1804, 0.7615948847999106), (1335, 0.7615948821363872), (2078, 0.7615948818671683), (1746, 0.7615948811447509), (2027, 0.7615948808280963), (831, 0.7615948808085478), (2143, 0.7615948802442898), (1028, 0.761594879835226), (2534, 0.7615948794785515), (1341, 0.7615948787870621), (354, 0.7615948787537045), (2008, 0.7615948787077462), (1496, 0.7615948785889215), (2981, 0.7615948783672788), (1021, 0.7615948781654296), (1667, 0.7615948780986579), (1945, 0.7615948769959794), (1879, 0.7615948760465387), (538, 0.7615948759176535), (1725, 0.7615948757698374), (757, 0.7615948754037418), (2138, 0.7615948753337954), (2169, 0.7615948733337329), (672, 0.7615948731113439), (2872, 0.7615948706869727), (435, 0.7615948705799824), (2712, 0.761594870401753), (2436, 0.761594869544014), (2196, 0.7615948691841243), (1308, 0.7615948691288212), (929, 0.7615948658292487), (366, 0.7615948657342224), (1014, 0.7615948632537657), (1224, 0.7615948632493988), (475, 0.7615948628729021), (2582, 0.7615948625076978), (3273, 0.7615948623408382), (2455, 0.7615948619107971), (591, 0.7615948618988013), (1127, 0.7615948612815225), (2717, 0.7615948607222538), (1064, 0.7615948602531933), (274, 0.7615948601509192), (2114, 0.761594859219353), (1414, 0.7615948591750277), (1907, 0.7615948591595156), (1069, 0.7615948580584248), (117, 0.761594857838644), (430, 0.7615948571491348), (1088, 0.7615948567101206), (2190, 0.7615948566200607), (1884, 0.7615948557810339), (862, 0.7615948551701921), (2652, 0.7615948545147735), (1795, 0.7615948539362897), (1654, 0.7615948534389575), (2042, 0.7615948533626111), (2664, 0.7615948529278485), (1898, 0.761594852829217), (1713, 0.7615948521680093), (2890, 0.7615948520451178), (2473, 0.7615948519761445), (3099, 0.7615948510619546), (1505, 0.7615948507388162), (552, 0.7615948478711694), (619, 0.7615948475908043), (1559, 0.7615948469619769), (1819, 0.7615948455332608), (2619, 0.7615948447492417), (1665, 0.7615948444530982), (876, 0.7615948436585258), (2611, 0.7615948434814993), (1186, 0.7615948432965879), (256, 0.7615948430332343), (2119, 0.7615948427875121), (116, 0.7615948427480737), (2733, 0.7615948424758943), (1857, 0.7615948418728271), (2500, 0.7615948410224768), (2439, 0.7615948407255733), (2813, 0.7615948406822437), (2760, 0.7615948405401158), (2720, 0.7615948404292044), (1790, 0.7615948396173903), (2973, 0.7615948390266835), (2654, 0.761594838734828), (719, 0.7615948363541802), (1020, 0.7615948362081875), (233, 0.7615948360050516), (125, 0.7615948356173114), (1277, 0.7615948356044637), (37, 0.7615948344334819), (1489, 0.7615948330627469), (296, 0.76159483282629), (1794, 0.7615948324050927), (1811, 0.7615948314132305), (1435, 0.7615948308325737), (2411, 0.7615948304831317), (2891, 0.7615948299063916), (1513, 0.7615948298326085), (594, 0.7615948295753616), (1024, 0.7615948289154032), (3156, 0.7615948281820217), (2638, 0.7615948281163591), (3092, 0.7615948278394222), (1200, 0.7615948276261192), (2158, 0.7615948273929105), (3074, 0.7615948270578945), (2033, 0.7615948264717963), (1405, 0.7615948253582647), (2972, 0.7615948252378764), (1144, 0.7615948240955512), (2689, 0.7615948234781051), (1232, 0.7615948230983823), (1929, 0.761594823043121), (849, 0.7615948230226355), (691, 0.7615948222125781), (2311, 0.7615948218243743), (2282, 0.7615948216091959), (1601, 0.761594821356906), (1264, 0.7615948203393541), (2307, 0.761594820092498), (1882, 0.761594820009202), (1760, 0.7615948197071025), (759, 0.7615948190865255), (1478, 0.761594819028391), (2959, 0.7615948185317802), (1001, 0.761594818521471), (2023, 0.7615948182753085), (721, 0.7615948177682265), (838, 0.7615948177582641), (2029, 0.761594817745886), (1956, 0.7615948176155867), (1131, 0.7615948170476308), (3164, 0.7615948168611488), (2337, 0.7615948167711484), (3110, 0.7615948167700297), (1204, 0.7615948165779359), (85, 0.7615948164731935), (1355, 0.761594816031713), (1159, 0.7615948159710328), (3075, 0.7615948156714973), (2713, 0.7615948143270361), (3176, 0.761594813968397), (2345, 0.7615948129157791), (3269, 0.7615948126735077), (1058, 0.7615948120190272), (126, 0.7615948119032454), (1560, 0.7615948110000987), (932, 0.7615948104074725), (2527, 0.761594809459605), (2544, 0.7615948093677606), (1539, 0.7615948087792557), (1221, 0.7615948083288377), (2120, 0.761594807673878), (1292, 0.7615948067376483), (3117, 0.7615948063744175), (2118, 0.7615948059405667), (418, 0.7615948058655798), (843, 0.7615948056929375), (503, 0.7615948055399602), (1896, 0.7615948044716346), (2819, 0.7615948042047743), (2945, 0.7615948036177281), (2784, 0.7615948029817684), (922, 0.7615948029234152), (2137, 0.7615948021359153), (710, 0.7615948018094078), (1764, 0.7615948016197728), (1370, 0.7615948013087049), (416, 0.761594801168268), (2192, 0.7615948010902908), (2776, 0.7615948008059953), (3100, 0.7615948004316423), (2667, 0.7615947997316739), (3264, 0.7615947987335965), (350, 0.7615947984961323), (2704, 0.7615947983561082), (1196, 0.7615947982414342), (501, 0.7615947981212835), (2370, 0.7615947973440962), (893, 0.7615947964877613), (1729, 0.7615947964728556), (655, 0.7615947955924562), (2765, 0.7615947954327819), (1286, 0.7615947951203266), (269, 0.7615947949510037), (3030, 0.761594794709091), (2697, 0.7615947934933786), (1129, 0.761594793187124), (263, 0.7615947921668736), (1944, 0.7615947921164111), (1527, 0.761594791391841), (2965, 0.7615947911987841), (2276, 0.7615947909861369), (282, 0.7615947907222412), (83, 0.7615947904002385), (302, 0.7615947898154928), (1250, 0.7615947896750802), (2506, 0.7615947891144922), (1493, 0.7615947885817416), (3054, 0.76159478826008), (247, 0.7615947866709806), (336, 0.7615947858597735), (1193, 0.7615947857926165), (565, 0.7615947850902877), (1852, 0.7615947848250686), (3013, 0.7615947838770816), (529, 0.7615947837863495), (1413, 0.7615947835876828), (2715, 0.7615947835183673), (11, 0.7615947829626022), (341, 0.7615947829443297), (3142, 0.761594782466056), (2104, 0.7615947823529701), (896, 0.7615947821079625), (3078, 0.761594781662135), (2954, 0.7615947813382473), (2836, 0.7615947809455323), (2024, 0.7615947807696037), (2539, 0.7615947801024369), (686, 0.7615947798146624), (258, 0.7615947798098922), (2006, 0.7615947796083444), (986, 0.7615947794712399), (2106, 0.7615947783291304), (996, 0.761594778143045), (2408, 0.7615947778370991), (1501, 0.761594777529549), (2428, 0.7615947771234163), (2530, 0.7615947768823583), (2391, 0.7615947763130488), (3249, 0.7615947759068064), (1814, 0.7615947757325041), (2478, 0.761594774528335), (741, 0.7615947739973883), (2295, 0.7615947738063895), (3135, 0.761594772926635), (3237, 0.7615947725926018), (1842, 0.7615947725518322), (3191, 0.7615947719392938), (1146, 0.7615947718592317), (1614, 0.7615947716031667), (3041, 0.7615947711053352), (2910, 0.7615947710551143), (2010, 0.7615947703946867), (1551, 0.761594769614037), (285, 0.7615947694468558), (331, 0.7615947694430936), (1565, 0.7615947694170997), (1914, 0.7615947690581042), (474, 0.7615947682908931), (2562, 0.7615947673956773), (1105, 0.7615947673394798), (12, 0.7615947669319096), (193, 0.7615947656841318), (2790, 0.7615947655177868), (1622, 0.7615947652743602), (2253, 0.7615947647917708), (368, 0.7615947647292073), (648, 0.761594764587693), (1218, 0.7615947644215872), (926, 0.7615947641377405), (1531, 0.7615947630160731), (440, 0.7615947621784454), (2666, 0.7615947620405016), (3219, 0.7615947616258787), (696, 0.7615947614898122), (2083, 0.7615947614336145), (380, 0.761594761372991), (2142, 0.7615947613671412), (2785, 0.761594760758971), (3133, 0.7615947606356043), (3251, 0.7615947605334263), (1231, 0.7615947603578583), (1302, 0.7615947598464319), (2685, 0.7615947594625079), (1683, 0.7615947593936035), (1098, 0.7615947590493551), (576, 0.7615947589948786), (446, 0.761594758943841), (2690, 0.7615947582964915), (2643, 0.7615947573261499), (3180, 0.7615947570642664), (979, 0.7615947570322253), (570, 0.7615947562663393), (1901, 0.7615947562543119), (2563, 0.7615947560224647), (84, 0.761594755367523), (1311, 0.7615947552844746), (1106, 0.7615947551044654), (1861, 0.7615947545545564), (2498, 0.7615947533362747), (1590, 0.7615947523771147), (1387, 0.7615947522326743), (2939, 0.7615947521370661), (1481, 0.7615947521123583), (1124, 0.7615947519638853), (695, 0.7615947516810213), (1365, 0.761594751223152), (1406, 0.7615947509310481), (2806, 0.7615947508886186), (742, 0.7615947508104197), (561, 0.7615947497934394), (1574, 0.7615947497840124), (2927, 0.7615947494275747), (909, 0.7615947490622762), (13, 0.761594748746191), (2501, 0.7615947487110043), (1212, 0.7615947486356358), (2907, 0.7615947480534009), (1732, 0.7615947480216592), (1164, 0.7615947480189813), (1832, 0.7615947477878515), (149, 0.7615947467720751), (39, 0.761594746582577), (2710, 0.7615947457495416), (1034, 0.7615947455611114), (1890, 0.7615947441242809), (1712, 0.7615947439106578), (1525, 0.7615947438529502), (784, 0.7615947437096002), (2405, 0.7615947436694879), (2773, 0.7615947436064688), (2660, 0.7615947424548979), (1389, 0.7615947422966973), (1113, 0.7615947410223531), (1892, 0.7615947409802339), (1741, 0.7615947406356447), (2632, 0.761594740501993), (2549, 0.7615947400657959), (1401, 0.761594739916382), (1185, 0.7615947391770143), (1637, 0.7615947385249344), (904, 0.7615947368123852), (2732, 0.7615947367358794), (3039, 0.761594736140489), (1900, 0.7615947361218194), (3002, 0.7615947353598369), (1254, 0.7615947351304944), (1327, 0.7615947346999019), (2183, 0.7615947339992594), (972, 0.7615947339942348), (1268, 0.7615947321084089), (1942, 0.7615947319660878), (495, 0.7615947317099451), (1799, 0.7615947311356519), (234, 0.7615947310129397), (1894, 0.7615947308295291), (2818, 0.7615947305844672), (1767, 0.7615947303187652), (167, 0.76159473025317), (1325, 0.7615947299729687), (1223, 0.7615947298666482), (670, 0.7615947295996346), (382, 0.7615947291926786), (2444, 0.7615947284970852), (3246, 0.7615947281697789), (497, 0.7615947277443528), (2432, 0.7615947275373258), (3016, 0.761594727194656), (1275, 0.7615947269398556), (2248, 0.7615947267244909), (2651, 0.7615947266644592), (2520, 0.7615947266279461), (1206, 0.7615947258578375), (105, 0.7615947257570661), (797, 0.7615947252740884), (2334, 0.7615947252546622), (443, 0.761594724991981), (941, 0.7615947249354991), (410, 0.7615947244074369), (1545, 0.7615947242344339), (1957, 0.7615947232247269), (1445, 0.7615947227642115), (1243, 0.7615947210359278), (1970, 0.7615947210240498), (2162, 0.7615947210008915), (2384, 0.7615947199348102), (789, 0.761594719869649), (2820, 0.7615947196215032), (1615, 0.7615947190450308), (170, 0.7615947189482386), (147, 0.7615947187426347), (1427, 0.7615947184939046), (2111, 0.7615947183097476), (2826, 0.7615947177162715), (1686, 0.7615947169328272), (2258, 0.7615947165218575), (2350, 0.7615947162121781), (2382, 0.7615947151936007), (1179, 0.7615947147636043), (23, 0.7615947146439781), (2659, 0.7615947144765002), (1613, 0.7615947143319479), (2921, 0.761594713782932), (1331, 0.76159471376228), (1926, 0.7615947135579428), (107, 0.7615947134005745), (2841, 0.7615947132547212), (2422, 0.7615947132463229), (2857, 0.7615947129407084), (861, 0.7615947126215312), (2805, 0.7615947121600312), (525, 0.7615947121495708), (2124, 0.7615947116612723), (590, 0.7615947116272191), (569, 0.7615947113918387), (652, 0.7615947113477154), (2944, 0.7615947113067272), (373, 0.761594711284901), (3024, 0.7615947111772017), (597, 0.7615947111495981), (273, 0.761594710931159), (772, 0.7615947109184207), (3177, 0.7615947107622807), (3223, 0.7615947105017823), (765, 0.7615947103843346), (2234, 0.7615947102168461), (666, 0.7615947102002485), (975, 0.7615947098512829), (2990, 0.7615947096259937), (1670, 0.7615947092661219), (2646, 0.7615947091463124), (28, 0.7615947090319493), (1096, 0.7615947079364178), (1938, 0.7615947077222236), (1402, 0.7615947070484077), (306, 0.7615947070253007), (1444, 0.7615947068669224), (2678, 0.7615947066070725), (2999, 0.761594706468234), (2599, 0.761594706125742), (883, 0.7615947060296688), (2301, 0.7615947060160928), (1521, 0.7615947055947738), (769, 0.7615947051147098), (1234, 0.7615947044557532), (2574, 0.761594704342377), (839, 0.7615947043108424), (486, 0.7615947042258668), (846, 0.7615947037435142), (3146, 0.7615947035699216), (1692, 0.761594703543069), (1367, 0.7615947034902899), (2289, 0.7615947034745731), (374, 0.76159470319168), (745, 0.7615947029502185), (794, 0.7615947026217513), (106, 0.761594702233018), (1719, 0.7615947018380996), (1076, 0.7615947017275473), (3159, 0.7615947011524099), (467, 0.7615947008065553), (4, 0.761594700548365), (1472, 0.7615947003464096), (3229, 0.7615947002185031), (575, 0.7615947000256709), (2588, 0.7615946997366349), (3064, 0.761594699636216), (1864, 0.7615946994840846), (64, 0.7615946991666513), (931, 0.7615946988557237), (799, 0.7615946987300393), (93, 0.7615946981512371), (1213, 0.7615946978755193), (1886, 0.7615946976452801), (1763, 0.7615946972253007), (1004, 0.7615946967788061), (3053, 0.7615946961227245), (899, 0.7615946958547233), (1446, 0.7615946955631673), (481, 0.7615946942517198), (2721, 0.7615946938661591), (2155, 0.7615946937662805), (1844, 0.7615946931046611), (3240, 0.7615946926980394), (2328, 0.7615946925278523), (3152, 0.7615946925137174), (3245, 0.7615946920235706), (2278, 0.7615946914894975), (2369, 0.7615946912997141), (2570, 0.7615946910649529), (1777, 0.7615946909965892), (907, 0.7615946909797515), (2979, 0.7615946906036815), (507, 0.7615946905355806), (230, 0.7615946904601191), (1839, 0.7615946900214969), (54, 0.7615946896417043), (2550, 0.7615946892377621), (2252, 0.7615946887692906), (2084, 0.7615946884306779), (3183, 0.761594687876919), (3260, 0.7615946874852397), (1628, 0.7615946870491094), (2466, 0.7615946868969603), (175, 0.7615946867635235), (1619, 0.7615946864913782), (1953, 0.7615946860165225), (471, 0.7615946858915617), (2032, 0.7615946858643938), (2459, 0.7615946849781965), (1984, 0.7615946844542358), (1689, 0.7615946843445841), (3242, 0.7615946841260327), (1766, 0.761594683737341), (1645, 0.7615946833556806), (1631, 0.7615946828504372), (43, 0.7615946825300066), (2888, 0.7615946822167267), (156, 0.7615946820470554), (1495, 0.761594681609854), (770, 0.76159468157029), (1650, 0.7615946804196838), (640, 0.7615946801854186), (1378, 0.761594679992978), (491, 0.7615946798304876), (1595, 0.7615946787635023), (1709, 0.7615946780583109), (2975, 0.7615946778148467), (323, 0.7615946778100308), (1893, 0.7615946777395906), (2592, 0.7615946775048076), (1356, 0.7615946765293544), (3148, 0.7615946764739396), (2445, 0.7615946763780962), (281, 0.76159467590317), (1027, 0.7615946755976462), (1304, 0.7615946755862198), (1463, 0.7615946755290504), (534, 0.7615946746791227), (1109, 0.7615946745843173), (139, 0.7615946738192145), (681, 0.7615946731034581), (991, 0.7615946729431984), (1057, 0.7615946728764879), (2552, 0.7615946725617259), (714, 0.7615946723762119), (2762, 0.7615946721567859), (2470, 0.7615946718874234), (407, 0.7615946713219126), (1506, 0.7615946710068632), (1838, 0.7615946709828193), (3128, 0.7615946700706285), (956, 0.7615946699171848), (2201, 0.7615946697329444), (992, 0.7615946695010314), (2865, 0.7615946693860675), (2735, 0.7615946693338322), (1214, 0.7615946689156712), (44, 0.7615946688683228), (319, 0.7615946685666514), (1655, 0.7615946681023735), (2518, 0.7615946678882844), (2814, 0.7615946676009588), (310, 0.7615946672070615), (1345, 0.7615946666345061), (2403, 0.7615946665720864), (746, 0.7615946665394184), (800, 0.7615946663308291), (1951, 0.7615946660207704), (3001, 0.7615946657889352), (832, 0.7615946657466154), (3126, 0.7615946652949976), (3087, 0.7615946649251877), (422, 0.7615946645668915), (1087, 0.7615946641219569), (1256, 0.7615946638066962), (842, 0.7615946636895861), (3056, 0.7615946635453433), (1904, 0.7615946632173581), (468, 0.7615946631412482), (1580, 0.7615946630335494), (413, 0.7615946621612354), (1737, 0.7615946619576376), (2676, 0.7615946615226826), (248, 0.7615946606057146), (2456, 0.7615946599761845), (1974, 0.7615946598069493), (1126, 0.7615946597569632), (31, 0.7615946596085666), (1538, 0.7615946585710359), (2133, 0.7615946580955407), (2148, 0.7615946575762645), (1470, 0.7615946574246866), (942, 0.7615946573824919), (2955, 0.7615946573522305), (67, 0.761594657344475), (554, 0.7615946561135385), (1982, 0.7615946557309696), (1924, 0.7615946555927632), (1996, 0.7615946553269722), (528, 0.7615946550599948), (2597, 0.7615946549525288), (490, 0.761594654900911), (314, 0.7615946547905446), (863, 0.7615946547640051), (2319, 0.7615946546344148), (2761, 0.7615946544646541), (783, 0.7615946543225438), (1735, 0.7615946542866098), (1314, 0.7615946542193188), (214, 0.7615946539005145), (2547, 0.7615946536915046), (1815, 0.7615946535911762), (2180, 0.7615946535128528), (935, 0.7615946531100686), (977, 0.7615946530973792), (3061, 0.7615946528966375), (1149, 0.7615946526229568), (1477, 0.7615946525486846), (3034, 0.7615946517557337), (292, 0.7615946514965367), (1629, 0.761594651208608), (1116, 0.7615946512009545), (383, 0.7615946508834087), (3195, 0.7615946502361643), (1202, 0.7615946499794506), (1347, 0.7615946496408742), (661, 0.7615946495759081), (2128, 0.7615946495081307), (197, 0.7615946490494145), (517, 0.7615946487340197), (713, 0.7615946483327038), (3192, 0.7615946482838375), (3003, 0.7615946482289253), (1451, 0.7615946477280554), (2115, 0.7615946475979105), (1520, 0.7615946473410538), (2822, 0.7615946472186172), (2368, 0.7615946471391956), (1491, 0.7615946470271593), (2087, 0.7615946468399015), (452, 0.7615946464994426), (1099, 0.7615946460743027), (1022, 0.7615946452851666), (971, 0.7615946451619748), (2366, 0.7615946448288199), (237, 0.7615946447909481), (2655, 0.7615946447606602), (694, 0.7615946447535294), (404, 0.761594644752521), (2152, 0.7615946447468183), (923, 0.7615946447013868), (2390, 0.7615946445600552), (1362, 0.7615946440412803), (2512, 0.7615946439391396), (1530, 0.7615946435199052), (2154, 0.7615946432219143), (1758, 0.7615946427291274), (3127, 0.7615946424677056), (2031, 0.7615946422588654), (905, 0.7615946420773707), (2529, 0.7615946419466025), (2279, 0.7615946415008411), (124, 0.761594641367145), (241, 0.7615946413570489), (1168, 0.7615946413355632), (2883, 0.7615946410190754), (2984, 0.7615946406780305), (3207, 0.7615946406708637), (1966, 0.7615946405611025), (99, 0.7615946405466869), (1583, 0.7615946399252647), (957, 0.7615946398255977), (801, 0.7615946397007077), (1352, 0.7615946392231259), (2873, 0.7615946391906223), (877, 0.76159463882383), (2420, 0.7615946386441539), (2554, 0.7615946383190446), (1210, 0.76159463824098), (516, 0.7615946382024937), (2447, 0.7615946381344056), (1157, 0.7615946376886162), (2228, 0.7615946373856233), (2088, 0.7615946366827737), (731, 0.7615946361578714), (1368, 0.7615946361170894), (2046, 0.7615946356429675), (1433, 0.7615946351667002), (1585, 0.7615946350226379), (1805, 0.761594634914082), (2628, 0.7615946346159748), (2323, 0.7615946344481864), (2394, 0.7615946341340623), (2280, 0.7615946337428379), (246, 0.7615946333570455), (1664, 0.7615946331321342), (3199, 0.7615946331314403), (2002, 0.7615946329981041), (2488, 0.7615946326888536), (955, 0.7615946323540227), (2189, 0.7615946323334257), (2464, 0.7615946320081972), (2626, 0.7615946314361562), (1042, 0.7615946310970301), (1474, 0.761594631043735), (2434, 0.7615946306535682), (455, 0.7615946306314465), (2635, 0.7615946302058764), (2661, 0.7615946299410659), (102, 0.7615946299198887), (547, 0.7615946299122967), (2275, 0.761594629654534), (2171, 0.7615946295945168), (748, 0.7615946286100743), (2102, 0.7615946282723194), (2682, 0.7615946279881584), (3181, 0.7615946277830912), (1885, 0.7615946277586596), (1784, 0.7615946272543551), (726, 0.7615946267092517), (983, 0.7615946266516367), (3132, 0.761594626600993), (2426, 0.7615946264905848), (2232, 0.7615946263613899), (2229, 0.7615946257107498), (1484, 0.7615946256531414), (3218, 0.7615946256530217), (1107, 0.7615946255592319), (2610, 0.7615946254766612), (1025, 0.7615946249072054), (3232, 0.7615946244185574), (2457, 0.7615946240881978), (1771, 0.7615946239728709), (743, 0.7615946239109461), (1455, 0.7615946235753048), (1342, 0.7615946231276213), (1644, 0.7615946228518219), (1626, 0.7615946227664383), (1986, 0.7615946223462409), (1913, 0.7615946222698174), (2848, 0.7615946221656927), (2993, 0.7615946220211766), (892, 0.7615946219136251), (744, 0.7615946218558123), (2870, 0.7615946214685608), (964, 0.7615946208516581), (3171, 0.7615946203653678), (2669, 0.7615946202605981), (850, 0.7615946200211603), (1369, 0.7615946192206519), (2322, 0.7615946191638219), (2092, 0.7615946187547539), (2858, 0.7615946186949059), (637, 0.7615946185331963), (122, 0.7615946183872356), (2515, 0.7615946182891842), (433, 0.7615946182383145), (2475, 0.7615946181739214), (682, 0.7615946175565005), (1044, 0.7615946173916478), (660, 0.7615946173592677), (3060, 0.7615946169861801), (2086, 0.7615946169632422), (2217, 0.7615946163914511), (2474, 0.7615946163330624), (3134, 0.7615946161227383), (1991, 0.7615946161191982), (2714, 0.76159461608615), (3209, 0.7615946155062059), (1375, 0.7615946153881611), (162, 0.7615946150170689), (1602, 0.7615946141498074), (2207, 0.7615946139603019), (1958, 0.7615946135660284), (1509, 0.7615946135455933), (818, 0.761594613461052), (985, 0.7615946132912074), (1135, 0.7615946131704736), (2021, 0.761594613164983), (349, 0.761594613124005), (1211, 0.7615946130956138), (2095, 0.761594613051498), (2545, 0.7615946129386865), (2608, 0.7615946126859813), (1023, 0.761594612635074), (2173, 0.7615946124484518), (3032, 0.7615946122645851), (2240, 0.7615946121428452), (2101, 0.7615946118012376), (878, 0.7615946115867401), (2398, 0.7615946115214516), (1691, 0.7615946114261891), (1412, 0.7615946107322523), (2225, 0.7615946106133307), (582, 0.7615946105704765), (3141, 0.7615946105452767), (2491, 0.7615946104914053), (654, 0.7615946104879439), (2401, 0.7615946103149134), (1253, 0.7615946099417846), (2262, 0.7615946096954883), (3037, 0.7615946095422611), (127, 0.7615946093291007), (2821, 0.761594609264423), (2291, 0.761594609262885), (1329, 0.7615946092437973), (3155, 0.7615946089188348), (2044, 0.7615946088665274), (820, 0.7615946088470916), (1888, 0.7615946088315113), (1980, 0.7615946086437131), (1783, 0.7615946080955166), (2100, 0.7615946079706577), (375, 0.7615946078199329), (458, 0.7615946078067793), (3086, 0.7615946071009927), (88, 0.7615946067329699), (2348, 0.7615946066044459), (1033, 0.761594606169206), (1173, 0.7615946061046331), (1634, 0.7615946056222135), (1787, 0.7615946055185658), (2692, 0.7615946052685638), (2517, 0.7615946049202037), (1270, 0.7615946048982302), (1993, 0.7615946048192256), (795, 0.7615946045427835), (406, 0.7615946043052225), (2226, 0.7615946041233425), (1934, 0.7615946039306665), (1928, 0.7615946038058119), (2223, 0.7615946036418451), (2175, 0.7615946027704737), (3227, 0.761594602118778), (530, 0.7615946019497779), (1431, 0.7615946012096869), (305, 0.7615946011923778), (2985, 0.7615946003871866), (1931, 0.7615946002955849), (1897, 0.7615946001519092), (806, 0.7615946000346561), (7, 0.7615946000145005), (1947, 0.7615945996386404), (1305, 0.7615945991387375), (2386, 0.7615945990435309), (816, 0.761594598736935), (753, 0.761594598704124), (2065, 0.7615945984137964), (903, 0.761594598319914), (2630, 0.7615945982341898), (2414, 0.7615945981016559), (1338, 0.7615945980963118), (2854, 0.7615945980688799), (1796, 0.7615945977929215), (2296, 0.7615945976757583), (2244, 0.7615945976095704), (2299, 0.7615945973745406), (340, 0.7615945973616358), (908, 0.761594597355558), (1240, 0.7615945969163281), (3094, 0.7615945967926439), (1276, 0.7615945966356695), (636, 0.7615945966201745), (2679, 0.761594596537422), (2089, 0.7615945965015233), (2884, 0.76159459621469), (119, 0.7615945960543316), (1371, 0.7615945958773794), (1130, 0.7615945951256995), (3205, 0.7615945950669994), (3244, 0.7615945950401952), (448, 0.7615945948456795), (2677, 0.7615945943993288), (2218, 0.7615945943645489), (2663, 0.7615945942529844), (1688, 0.7615945941516596), (1269, 0.761594594125723), (3006, 0.7615945940489632), (63, 0.7615945939002498), (173, 0.7615945938786532), (869, 0.7615945938499881), (1189, 0.7615945937909279), (1203, 0.7615945937628567), (1279, 0.761594593622055), (2835, 0.7615945936026597), (622, 0.7615945933053245), (532, 0.7615945932753827), (476, 0.7615945932675616), (2284, 0.7615945929579074), (1072, 0.7615945928137715), (549, 0.76159459252023), (2213, 0.7615945924685178), (2153, 0.7615945921643632), (1988, 0.7615945908589795), (290, 0.7615945897607929), (2381, 0.7615945891199905), (2061, 0.7615945889545501), (3150, 0.7615945886367997), (1912, 0.7615945885647997), (2934, 0.7615945884391324), (2952, 0.7615945881512167), (2326, 0.7615945879076318), (1782, 0.7615945876578606), (153, 0.761594587555161), (1160, 0.761594587508682), (80, 0.761594587104296), (2788, 0.7615945868578301), (2132, 0.761594586775592), (2193, 0.7615945867080949), (1029, 0.7615945865284934), (19, 0.7615945861661553), (2316, 0.7615945858407406), (2886, 0.7615945855817893), (61, 0.7615945852975017), (953, 0.7615945852397827), (2561, 0.7615945852339181), (2352, 0.7615945847767012), (300, 0.7615945845212697), (42, 0.7615945842507982), (2794, 0.7615945840571714), (3217, 0.7615945840426825), (337, 0.7615945839122769), (2312, 0.7615945838799019), (111, 0.76159458377969), (3274, 0.7615945835443635), (2239, 0.761594583519069), (2510, 0.7615945832747544), (1845, 0.7615945831806947), (2109, 0.761594583180409), (434, 0.7615945831712003), (3103, 0.761594583083771), (1386, 0.7615945830294952), (2022, 0.7615945826664072), (2467, 0.7615945825715099), (2166, 0.7615945825697734), (1158, 0.7615945822642805), (2837, 0.7615945822263303), (3147, 0.7615945818065863), (1324, 0.7615945809696474), (3036, 0.7615945807894986), (690, 0.7615945806539542), (2211, 0.7615945802617333), (3153, 0.7615945800000142), (1717, 0.7615945799479072), (2881, 0.7615945797456731), (1621, 0.7615945793559838), (984, 0.7615945788267009), (284, 0.7615945784723142), (1510, 0.7615945783639394), (2048, 0.7615945782294566), (3222, 0.7615945781729517), (2181, 0.7615945779599029), (2271, 0.7615945779250645), (201, 0.761594577821725), (3090, 0.761594577403811), (1581, 0.7615945772830657), (2743, 0.7615945772453598), (1977, 0.7615945770650031), (266, 0.7615945768793212), (3015, 0.7615945766879891), (1639, 0.7615945765647177), (740, 0.7615945763642339), (2560, 0.7615945762647672), (2991, 0.761594576030566), (1111, 0.7615945756382627), (1798, 0.7615945756203241), (1954, 0.7615945753967848), (46, 0.7615945752909662), (3097, 0.7615945752707948), (1053, 0.7615945751765956), (994, 0.7615945751071707), (584, 0.761594574662753), (596, 0.7615945746173642), (814, 0.7615945737938199), (2145, 0.7615945737599158), (1998, 0.7615945736450016), (2590, 0.7615945736188949), (2259, 0.7615945735617586), (1680, 0.7615945729946019), (865, 0.7615945728711275), (2425, 0.7615945727319671), (2769, 0.7615945726243587), (910, 0.761594572539979), (1430, 0.7615945724384209), (671, 0.7615945722010276), (629, 0.7615945721291363), (185, 0.7615945720947926), (1456, 0.7615945718357847), (3115, 0.7615945718160226), (1534, 0.7615945715491974), (2980, 0.7615945715290814), (1694, 0.7615945711039108), (1906, 0.7615945710058272), (606, 0.7615945708753799), (1707, 0.7615945704786087), (1503, 0.76159457019333), (1236, 0.7615945698718726), (867, 0.7615945698254696), (1007, 0.7615945687716651), (711, 0.761594568771572), (3035, 0.76159456866778), (97, 0.7615945685982173), (253, 0.7615945680179761), (782, 0.7615945679099891), (1536, 0.7615945677233671), (958, 0.7615945672709648), (3268, 0.7615945670266924), (1041, 0.7615945669633977), (2461, 0.7615945669374093), (3190, 0.7615945668788882), (2564, 0.7615945668680214), (1343, 0.7615945659370749), (1306, 0.7615945658430763), (5, 0.7615945657923853), (2855, 0.7615945655219978), (3125, 0.7615945652459539), (1209, 0.7615945647532039), (2542, 0.7615945647062823), (2030, 0.7615945646263402), (1964, 0.7615945645083776), (702, 0.7615945642365709), (2842, 0.7615945640548569), (1863, 0.7615945640355618), (2038, 0.7615945637760668), (1488, 0.7615945637543045), (811, 0.7615945636181811), (1878, 0.7615945631389212), (751, 0.761594563048176), (720, 0.7615945629995476), (2963, 0.7615945628971292), (1247, 0.761594562702782), (891, 0.7615945626676943), (1492, 0.7615945625897512), (48, 0.7615945625296532), (18, 0.7615945622793554), (358, 0.7615945622337286), (1039, 0.7615945622209709), (1554, 0.7615945614207165), (707, 0.7615945611547998), (1646, 0.7615945610590101), (25, 0.7615945608928678), (3121, 0.7615945607919403), (1687, 0.7615945607759321), (1137, 0.761594560752172), (1698, 0.7615945607439425), (2097, 0.7615945606932906), (2025, 0.7615945606458658), (1062, 0.7615945603944975), (59, 0.7615945599273424), (1920, 0.7615945598098127), (400, 0.7615945595719784), (2212, 0.7615945591994092), (2631, 0.7615945589378215), (632, 0.7615945577805048), (512, 0.7615945576643102), (267, 0.7615945576191562), (1419, 0.761594557471737), (2662, 0.7615945572793579), (1744, 0.761594557266313), (2338, 0.7615945569547501), (395, 0.7615945568481929), (593, 0.7615945568204405), (604, 0.7615945566082518), (2103, 0.7615945557000492), (309, 0.7615945556396286), (1816, 0.7615945554410584), (169, 0.7615945551166459), (2832, 0.7615945548855607), (2816, 0.7615945548029444), (1391, 0.7615945543638499), (68, 0.7615945541051836), (45, 0.761594554035607), (113, 0.761594553724387), (2621, 0.7615945533175964), (2069, 0.7615945530355646), (1911, 0.7615945530195447), (1813, 0.7615945529564107), (3029, 0.761594552834196), (2367, 0.7615945527645928), (1428, 0.7615945527103422), (2205, 0.7615945526229411), (1949, 0.7615945522820771), (69, 0.7615945517495739), (823, 0.7615945516547484), (1442, 0.7615945507443243), (2140, 0.7615945507084299), (1482, 0.761594550402974), (515, 0.7615945503513354), (2995, 0.7615945503487936), (412, 0.7615945502010684), (2497, 0.7615945495519377), (2879, 0.7615945492765283), (1685, 0.7615945489259844), (791, 0.7615945486072707), (2997, 0.7615945485843185), (1161, 0.7615945485143654), (1541, 0.7615945480143935), (539, 0.7615945478966863), (1656, 0.7615945478764266), (550, 0.7615945478479016), (1518, 0.7615945476910313), (1425, 0.761594547619622), (1031, 0.7615945475259939), (634, 0.7615945473411025), (408, 0.7615945468144145), (2673, 0.7615945465545094), (1229, 0.7615945464297118), (1354, 0.7615945464200667), (3224, 0.7615945463781344), (1668, 0.7615945462710997), (249, 0.7615945461894603), (620, 0.7615945456774564), (3179, 0.7615945447444978), (1778, 0.7615945446967604), (228, 0.7615945446821795), (938, 0.7615945446700638), (1471, 0.7615945443362562), (2144, 0.7615945443300582), (1722, 0.7615945441176524), (1301, 0.761594543926507), (775, 0.7615945437787073), (2151, 0.7615945434457232), (1765, 0.7615945434221914), (436, 0.7615945429322523), (2774, 0.7615945428859819), (2245, 0.7615945427995195), (1374, 0.7615945426715699), (184, 0.7615945425731699), (261, 0.7615945423940651), (1948, 0.7615945422658813), (2509, 0.7615945420231468), (3220, 0.7615945418609392), (2482, 0.7615945418472831), (918, 0.7615945416869117), (2871, 0.7615945413798534), (3165, 0.7615945413618433), (2906, 0.7615945413284751), (3173, 0.7615945410820741), (2882, 0.7615945408271158), (181, 0.7615945407532937), (2317, 0.7615945400275423), (2076, 0.7615945400168489), (1533, 0.7615945394562604), (2160, 0.7615945391261114), (2918, 0.7615945389834943), (186, 0.7615945387743763), (262, 0.7615945383872654), (2085, 0.761594537978328), (1258, 0.7615945379197767), (3243, 0.7615945376803687), (2107, 0.7615945373085332), (1187, 0.7615945372370214), (1010, 0.7615945368617478), (2238, 0.7615945368172712), (379, 0.7615945368167082), (1141, 0.7615945367743624), (947, 0.7615945366071243), (1312, 0.7615945363950619), (2576, 0.7615945363693095), (2112, 0.761594536366501), (2935, 0.7615945359362545), (874, 0.7615945358736773), (2365, 0.761594535710112), (2164, 0.7615945356945253), (2943, 0.7615945352605208), (798, 0.7615945352279181), (2589, 0.7615945351858273), (2916, 0.7615945348788347), (2540, 0.7615945348147657), (2705, 0.7615945337696223), (226, 0.7615945332390941), (2437, 0.7615945332075752), (1051, 0.7615945331555687), (1280, 0.7615945330244073), (3088, 0.7615945330160275), (1826, 0.7615945328656849), (974, 0.7615945326919034), (934, 0.7615945324268399), (1199, 0.7615945320497172), (1562, 0.7615945319692989), (171, 0.7615945319447716), (2568, 0.7615945318055233), (2573, 0.7615945308278897), (1271, 0.7615945305411832), (2047, 0.7615945304563579), (1334, 0.7615945302707533), (676, 0.7615945298970471), (98, 0.7615945298288669), (1238, 0.7615945298230817), (1828, 0.7615945297786423), (1576, 0.7615945295467947), (109, 0.7615945292169206), (2693, 0.761594529186051), (1909, 0.7615945291837268), (2028, 0.7615945290818003), (2397, 0.7615945290368851), (318, 0.7615945290070902), (1990, 0.7615945290035058), (1866, 0.7615945289816523), (2817, 0.7615945288230604), (1421, 0.7615945288041401), (2803, 0.7615945287237877), (1749, 0.7615945287058171), (1245, 0.761594528227784), (1710, 0.7615945281747153), (1330, 0.7615945278828885), (3200, 0.7615945277417704), (1702, 0.7615945276448053), (2753, 0.7615945274675225), (502, 0.7615945274208122), (3028, 0.7615945274143403), (101, 0.7615945272199587), (313, 0.7615945271360413), (264, 0.7615945271094458), (1284, 0.7615945270631455), (1061, 0.7615945270569331), (1012, 0.7615945265505608), (2920, 0.7615945260063446), (1769, 0.761594525877822), (3137, 0.7615945256056269), (2722, 0.7615945252269731), (976, 0.7615945251048419), (1921, 0.7615945249259682), (3139, 0.7615945248917393), (1486, 0.7615945248296582), (2074, 0.7615945244711183), (27, 0.7615945243421826), (2263, 0.7615945239018418), (2396, 0.7615945238773675), (2001, 0.7615945237219769), (2208, 0.761594523718889), (1682, 0.7615945235962178), (1755, 0.7615945233693755), (195, 0.7615945230151081), (1151, 0.7615945227188619), (199, 0.7615945225141652), (3201, 0.7615945224312983), (2400, 0.7615945222819333), (1060, 0.7615945218523836), (3257, 0.7615945216904665), (297, 0.7615945216675046), (837, 0.7615945215284033), (3096, 0.7615945210631924), (2931, 0.7615945208813567), (2812, 0.7615945205464686), (2091, 0.7615945200525885), (2668, 0.7615945199324228), (2469, 0.7615945198396361), (1475, 0.7615945197993981), (1169, 0.7615945197170253), (2971, 0.7615945196629833), (1436, 0.7615945194540672), (1563, 0.761594519415236), (2593, 0.761594519161922), (960, 0.7615945186628262), (1319, 0.7615945183969965), (322, 0.7615945183473665), (3095, 0.7615945181908822), (1473, 0.7615945180457782), (2932, 0.7615945180012413), (1648, 0.7615945179408891), (130, 0.7615945179126616), (429, 0.7615945178682969), (764, 0.7615945177902512), (3065, 0.7615945174631853), (3020, 0.7615945173490711), (2840, 0.7615945169542063), (924, 0.761594516626726), (511, 0.7615945165847452), (989, 0.7615945164216932), (1372, 0.7615945160805836), (451, 0.7615945157183632), (1197, 0.7615945154844621), (2141, 0.761594515214016), (2272, 0.7615945145795889), (1831, 0.7615945145095184), (1148, 0.7615945144502358), (1728, 0.7615945142734704), (2315, 0.7615945140323993), (1933, 0.761594513910607), (2344, 0.7615945135939898), (1696, 0.7615945135036547), (3162, 0.7615945134903401), (1678, 0.761594513198151), (1195, 0.7615945131722657), (793, 0.7615945130298049), (3194, 0.7615945129418745), (587, 0.7615945127857116), (2969, 0.7615945127723982), (2658, 0.7615945127313912), (1003, 0.7615945127044651), (2838, 0.7615945126254112), (1862, 0.7615945124147168), (376, 0.7615945124059469), (3079, 0.761594512288988), (2606, 0.7615945122350145), (3009, 0.7615945119334999), (1420, 0.7615945118620057), (1348, 0.7615945116295847), (1636, 0.7615945115309002), (2653, 0.7615945115261233), (1517, 0.7615945113419113), (848, 0.7615945110811626), (2492, 0.7615945109946495), (231, 0.7615945108743533), (3182, 0.7615945107358556), (1191, 0.7615945106512079), (308, 0.7615945106437758), (79, 0.761594510234106), (2683, 0.7615945102196893), (219, 0.7615945101185178), (1927, 0.7615945101056223), (1225, 0.7615945098723683), (10, 0.7615945098571912), (3186, 0.7615945095298616), (2513, 0.7615945094624834), (673, 0.7615945092304643), (1504, 0.7615945089298585), (1344, 0.7615945085012502), (1552, 0.7615945084345713), (3048, 0.7615945082427038), (208, 0.7615945081748279), (828, 0.7615945080732712), (1589, 0.7615945077037632), (397, 0.761594507697735), (3214, 0.7615945076891821), (1353, 0.7615945076611468), (965, 0.7615945070970944), (2233, 0.7615945067790043), (32, 0.7615945064834124), (1714, 0.7615945064407921), (329, 0.7615945062203409), (1553, 0.761594506060487), (717, 0.7615945060186027), (496, 0.7615945058803976), (1854, 0.761594505214274), (990, 0.7615945050223826), (2007, 0.7615945048243561), (3151, 0.7615945047809648), (3052, 0.7615945046328734), (3021, 0.7615945045611703), (2987, 0.7615945042249965), (450, 0.761594503813477), (2072, 0.7615945037185196), (2353, 0.7615945035563935), (2845, 0.7615945031171878), (2796, 0.7615945026858768), (1103, 0.7615945026320827), (509, 0.7615945025964969), (138, 0.7615945025956994), (428, 0.7615945022743252), (89, 0.7615945016423715), (2251, 0.7615945016246453), (568, 0.7615945011774806), (3038, 0.7615945009021716), (1242, 0.7615945008654544), (774, 0.7615945007876181), (2354, 0.7615945007490907), (1849, 0.7615945005383603), (1768, 0.7615945002035489), (3055, 0.7615945002007712), (3212, 0.7615945001588594), (29, 0.7615945000855285), (2852, 0.7615944998365223), (643, 0.7615944997229863), (1357, 0.7615944996307253), (1143, 0.7615944994240808), (1569, 0.7615944992893688), (2203, 0.7615944992247783), (3076, 0.7615944989812289), (2522, 0.7615944987644787), (1205, 0.7615944982098574), (3119, 0.7615944980707935), (2894, 0.7615944980637417), (2825, 0.7615944980453951), (2, 0.7615944980079399), (1490, 0.7615944979809537), (1079, 0.761594497822284), (2834, 0.7615944977190103), (1458, 0.7615944974998655), (1313, 0.7615944972877161), (252, 0.7615944970398291), (1285, 0.7615944969073674), (2383, 0.7615944968771715), (121, 0.761594496381512), (571, 0.7615944961778142), (2013, 0.7615944961589682), (1701, 0.7615944961377972), (2541, 0.7615944961139915), (1638, 0.7615944957959058), (215, 0.7615944953178071), (866, 0.7615944952016774), (2105, 0.7615944951402336), (498, 0.7615944948842488), (2647, 0.7615944947685411), (1084, 0.7615944946781004), (325, 0.761594494641212), (1802, 0.7615944946120796), (449, 0.761594494283522), (2306, 0.7615944942030022), (2532, 0.7615944941495482), (2005, 0.7615944937127003), (47, 0.7615944936875434), (2224, 0.761594493623843), (1465, 0.7615944930781787), (1390, 0.7615944930725941), (2274, 0.7615944928961924), (2641, 0.7615944927466339), (851, 0.7615944927447419), (2584, 0.761594492222081), (2695, 0.7615944920842687), (657, 0.7615944915925527), (2948, 0.7615944914316023), (1772, 0.7615944914170896), (2982, 0.7615944912493748), (1652, 0.7615944910649317), (3120, 0.7615944907875968), (844, 0.7615944905774447), (371, 0.7615944903568419), (1936, 0.7615944902313883), (1417, 0.7615944901818132), (2644, 0.7615944900406896), (1883, 0.761594488745686), (2779, 0.7615944884100848), (66, 0.7615944883775159), (2783, 0.7615944882380211), (2730, 0.7615944882311803), (1908, 0.7615944881332746), (229, 0.7615944877790664), (585, 0.7615944870533997), (621, 0.7615944869924218), (112, 0.7615944868218814), (2441, 0.7615944866300297), (176, 0.7615944865432984), (2429, 0.7615944864910319), (2856, 0.7615944864222617), (2135, 0.7615944862309348), (2053, 0.7615944860645418), (1761, 0.7615944860314643), (1485, 0.7615944860301869), (1806, 0.7615944857898275), (2198, 0.7615944855828094), (564, 0.7615944854953183), (747, 0.7615944851824609), (1952, 0.7615944848272949), (2246, 0.7615944841608344), (131, 0.7615944840381644), (2633, 0.7615944836380832), (2182, 0.76159448346308), (1597, 0.7615944833789403), (2127, 0.7615944833401296), (288, 0.7615944832394557), (595, 0.7615944831741954), (1856, 0.7615944829654938), (364, 0.761594482671513), (1869, 0.7615944823051066), (927, 0.7615944818909621), (1979, 0.7615944818867175), (2055, 0.7615944816973578), (1309, 0.761594481680173), (378, 0.7615944813865688), (2071, 0.7615944813094098), (635, 0.7615944810674649), (1752, 0.7615944810156544), (204, 0.7615944809699874), (578, 0.7615944809243207), (1383, 0.7615944808222983), (405, 0.7615944807726439), (689, 0.7615944807645071), (650, 0.7615944798704173), (1679, 0.7615944796591961), (674, 0.7615944796245723), (1858, 0.7615944795930283), (389, 0.7615944795478158), (2766, 0.7615944791520127), (2373, 0.7615944790213903), (1895, 0.7615944787536068), (2719, 0.7615944786443253), (1902, 0.7615944786159339), (1830, 0.7615944784294281), (2767, 0.7615944782135373), (385, 0.7615944781382343), (2915, 0.761594477956969), (2389, 0.7615944779137089), (2583, 0.7615944777767683), (2791, 0.7615944773428078), (163, 0.7615944772385184), (1320, 0.7615944770467382), (1448, 0.7615944770103978), (2037, 0.7615944769432268), (1450, 0.7615944769403591), (1278, 0.7615944765564095), (2686, 0.7615944763418633), (519, 0.7615944762404875), (1846, 0.761594476187109), (2603, 0.7615944761449924), (1008, 0.7615944761331808), (398, 0.7615944759200013), (154, 0.7615944755163069), (1963, 0.7615944747739936), (2304, 0.7615944742214086), (1410, 0.7615944742039085), (2146, 0.7615944738655713), (1178, 0.761594473523619), (1821, 0.7615944733583446), (2925, 0.7615944733059018), (2357, 0.7615944732928125), (1547, 0.7615944732900926), (1825, 0.7615944729466727), (441, 0.7615944727492118), (2012, 0.7615944725641504), (936, 0.7615944724221066), (1426, 0.7615944723471174), (1660, 0.7615944718319017), (1661, 0.7615944713550533), (1812, 0.7615944712138372), (9, 0.7615944710041125), (1605, 0.7615944709624831), (553, 0.7615944708717923), (2804, 0.7615944708434422), (1439, 0.7615944705347548), (223, 0.7615944705127202), (2484, 0.7615944703627058), (2004, 0.7615944701850261), (860, 0.7615944701786919), (1156, 0.761594470174337), (1063, 0.7615944701172842), (2752, 0.7615944700062166), (826, 0.7615944699813321), (1192, 0.7615944699380172), (1102, 0.76159446950375), (2081, 0.7615944694345551), (3196, 0.7615944686889619), (1711, 0.7615944679657618), (2073, 0.761594467945123), (1736, 0.7615944677155485), (2503, 0.7615944676841058), (2077, 0.7615944675448234), (1288, 0.7615944675376207), (792, 0.7615944668648177), (1437, 0.7615944666732206), (627, 0.7615944666714166), (939, 0.7615944666144243), (3101, 0.7615944665870227), (1643, 0.7615944659066975), (1217, 0.7615944656619864), (1310, 0.7615944654535836), (3172, 0.7615944652658799), (1017, 0.7615944652358534), (1997, 0.7615944648722774), (3129, 0.7615944647039277), (3270, 0.7615944643546891), (524, 0.7615944641699024), (2707, 0.761594464031696), (914, 0.7615944639716922), (485, 0.7615944638077641), (2453, 0.7615944635872205), (2321, 0.7615944635019595), (1480, 0.7615944632033469), (2780, 0.7615944631955655), (3174, 0.7615944626951148), (1140, 0.761594462542463), (600, 0.7615944623732831), (287, 0.7615944620315467), (1453, 0.7615944618824876), (1577, 0.7615944614827078), (687, 0.7615944613379197), (3160, 0.761594461306074), (1326, 0.7615944612189418), (2495, 0.7615944611805998), (3, 0.761594461091149), (1610, 0.7615944609037041), (2440, 0.7615944608881973), (1261, 0.7615944608644207), (727, 0.761594460802871), (2853, 0.7615944604413415), (307, 0.7615944604073168), (2523, 0.7615944604007019), (1119, 0.7615944601715364), (2356, 0.7615944601517618), (835, 0.7615944600240397), (1780, 0.7615944598711045), (2167, 0.7615944598298066), (2332, 0.7615944598231545), (2736, 0.7615944595697932), (188, 0.7615944592171756), (2290, 0.7615944591759733), (71, 0.7615944590161225), (2763, 0.7615944589623731), (1681, 0.7615944589167496), (1037, 0.7615944589105107), (1617, 0.7615944587974302), (1649, 0.7615944587123743), (53, 0.7615944586783263), (2795, 0.7615944583687903), (2123, 0.7615944582529562), (641, 0.761594458104266), (2904, 0.7615944581014187), (417, 0.7615944578256136), (2793, 0.7615944577730136), (3187, 0.7615944575418561), (445, 0.7615944574087641), (1358, 0.7615944569358339), (2080, 0.7615944568655509), (2578, 0.761594456797671), (1139, 0.7615944567013705), (1824, 0.7615944566966761), (2329, 0.7615944563286212), (628, 0.7615944559262497), (3158, 0.7615944558094145), (2750, 0.761594455492202), (1059, 0.761594455268886), (1400, 0.761594455215818), (2070, 0.7615944551885747), (1095, 0.7615944550026845), (118, 0.761594454979346), (2404, 0.7615944549631359), (1608, 0.7615944548354316), (3157, 0.761594454449535), (982, 0.7615944542389994), (730, 0.7615944537420591), (203, 0.7615944531597277), (2829, 0.7615944529839942), (2161, 0.7615944522113618), (2751, 0.7615944520931744), (2672, 0.7615944519538445), (225, 0.7615944515176389), (1582, 0.7615944514405449), (605, 0.7615944513125897), (898, 0.7615944512579522), (2846, 0.7615944512448752), (1850, 0.7615944499730074), (2613, 0.7615944498376584), (607, 0.7615944498335523), (3175, 0.7615944485941859), (1379, 0.7615944485027761), (1094, 0.7615944484362822), (700, 0.7615944484319974), (1642, 0.761594448302492), (857, 0.7615944477535227), (438, 0.7615944477183074), (335, 0.7615944477134441), (537, 0.7615944476576901), (999, 0.7615944474077839), (2511, 0.7615944471711779), (2409, 0.7615944469756498), (2267, 0.7615944468666623), (1873, 0.761594446839744), (51, 0.7615944465412893), (1083, 0.7615944464646534), (1775, 0.761594446156324), (2799, 0.7615944461543269), (26, 0.7615944459056273), (1965, 0.7615944458881382), (911, 0.761594445826104), (1578, 0.7615944457534665), (647, 0.7615944457449055), (1346, 0.7615944456503496), (944, 0.7615944453049464), (271, 0.7615944452073014), (833, 0.7615944451094747), (906, 0.7615944449961392), (2535, 0.7615944448920408), (1070, 0.7615944448696851), (244, 0.7615944448304576), (3231, 0.7615944447692993), (1674, 0.761594444594978), (1922, 0.7615944441571041), (609, 0.7615944440802432), (1718, 0.7615944438040084), (1943, 0.7615944438023102), (675, 0.7615944437993883), (663, 0.761594443136855), (1416, 0.7615944429625879), (615, 0.7615944429380779), (144, 0.7615944429009246), (1627, 0.7615944425349213), (521, 0.7615944423865759), (1840, 0.7615944418088554), (2754, 0.7615944417469404), (2913, 0.7615944416278384), (589, 0.7615944415092921), (2811, 0.7615944414444058), (1609, 0.761594441425018), (577, 0.761594441401371), (754, 0.7615944412908007), (1633, 0.7615944411752111), (2487, 0.7615944410489078), (148, 0.7615944409537136), (191, 0.7615944407434954), (1671, 0.761594440521886), (1339, 0.7615944404687198), (2375, 0.7615944391072684), (1788, 0.7615944390666258), (2604, 0.7615944384429583), (2349, 0.7615944382749681), (703, 0.761594438109477), (1336, 0.7615944379489648), (1457, 0.7615944378574229), (415, 0.7615944377261761), (1315, 0.7615944375473467), (1190, 0.7615944374260244), (3238, 0.7615944371671073), (2324, 0.761594436833232), (2902, 0.7615944363907556), (966, 0.7615944356977575), (2579, 0.7615944356499711), (2537, 0.761594435637302), (558, 0.7615944354987363), (3022, 0.761594434643863), (734, 0.7615944345366575), (1065, 0.761594434120849), (1690, 0.7615944339136368), (2596, 0.7615944337336695), (2600, 0.7615944337299477), (2723, 0.761594433608621), (1662, 0.7615944335744101), (1810, 0.7615944334948876), (142, 0.7615944332694603), (1677, 0.7615944331276536), (2041, 0.7615944329829207), (1167, 0.7615944329520429), (882, 0.7615944328554327), (1973, 0.7615944322009752), (2187, 0.7615944319754666), (2333, 0.7615944318765879), (2209, 0.7615944317081103), (1350, 0.7615944315705132), (749, 0.7615944315616341), (3105, 0.7615944314939962), (2787, 0.7615944313789392), (209, 0.761594431340537), (361, 0.7615944310489142), (2131, 0.7615944308625126), (303, 0.7615944306953611), (3230, 0.7615944305754843), (108, 0.7615944305516403), (3108, 0.7615944305307261), (2360, 0.7615944304701814), (232, 0.7615944302804227), (1054, 0.7615944301832678), (1112, 0.7615944298169693), (925, 0.7615944297995721), (706, 0.7615944296408017), (1373, 0.7615944295975354), (78, 0.7615944294233894), (345, 0.7615944292795431), (351, 0.7615944290015687), (2546, 0.7615944289442265), (2764, 0.7615944288578367), (1165, 0.7615944287539546), (1985, 0.7615944285623204), (2156, 0.7615944284467915), (279, 0.7615944281689105), (2294, 0.7615944281253009), (624, 0.7615944281092548), (2634, 0.7615944279309943), (803, 0.7615944275098376), (1318, 0.7615944273042325), (103, 0.7615944272630599), (1876, 0.7615944267236985), (2206, 0.7615944265655958), (483, 0.7615944262081984), (2359, 0.7615944261700309), (1556, 0.7615944257855438), (352, 0.7615944257026593), (1917, 0.761594425687589), (324, 0.7615944252911968), (1959, 0.7615944250767774), (464, 0.7615944248807953), (581, 0.7615944248791998), (81, 0.7615944241268029), (2768, 0.761594424093426), (1115, 0.7615944238450739), (1239, 0.7615944233755244), (2045, 0.7615944233235342), (2387, 0.7615944229280708), (821, 0.7615944227486355), (2868, 0.7615944226266016), (3067, 0.7615944226117595), (817, 0.7615944222562534), (1298, 0.7615944222447268), (1791, 0.7615944222153148), (293, 0.761594421723459), (157, 0.7615944216926626), (1587, 0.7615944216740183), (298, 0.7615944214279455), (194, 0.761594421101186), (453, 0.7615944209492935), (3077, 0.7615944209386635), (469, 0.7615944209025602), (482, 0.7615944205249086), (317, 0.7615944204791694), (187, 0.7615944204046063), (870, 0.7615944203010349), (2912, 0.7615944199154372), (813, 0.7615944198318139), (2851, 0.7615944194214452), (356, 0.761594419081549), (343, 0.761594418971762), (82, 0.7615944189603538), (2521, 0.7615944181616813), (3130, 0.761594417858167), (1592, 0.7615944178169685), (1050, 0.7615944174343261), (2062, 0.761594417331021), (1716, 0.7615944169704221), (678, 0.7615944168322907), (2775, 0.7615944166474506), (1251, 0.7615944165768914), (1006, 0.7615944165712216), (1950, 0.7615944163042973), (377, 0.7615944159131819), (2657, 0.7615944158616067), (612, 0.7615944157019117), (238, 0.761594415556249), (2781, 0.7615944155297496), (2698, 0.7615944154454612), (1424, 0.7615944149103402), (1142, 0.7615944146487104), (2862, 0.7615944145769252), (1564, 0.7615944145765611), (92, 0.761594414513359), (2962, 0.7615944144629823), (1865, 0.7615944144137707), (1440, 0.7615944142808921), (2623, 0.7615944142356246), (1676, 0.7615944141037362), (2297, 0.7615944139765534), (1561, 0.7615944138192686), (2471, 0.7615944136801533), (96, 0.7615944136665348), (205, 0.7615944136547996), (945, 0.7615944135039799), (1272, 0.7615944133483041), (75, 0.7615944131998229), (2508, 0.7615944128520589), (1035, 0.7615944111491334), (887, 0.7615944109364172), (140, 0.7615944107635587), (776, 0.7615944105976036), (1297, 0.7615944104579554), (1659, 0.7615944104530343), (1754, 0.7615944103882861), (1364, 0.7615944103492895), (3233, 0.7615944103032102), (2605, 0.7615944097409475), (683, 0.7615944096919597), (3011, 0.7615944092297188), (520, 0.7615944091442524), (1120, 0.7615944088906874), (342, 0.7615944088653815), (2227, 0.7615944085259346), (3113, 0.7615944085108415), (2859, 0.7615944081196652), (1789, 0.7615944080634413), (684, 0.761594408040456), (1770, 0.7615944078143505), (2718, 0.7615944074193973), (2300, 0.7615944068808241), (151, 0.7615944067182923), (2374, 0.7615944065480058), (478, 0.7615944061058673), (540, 0.7615944058784834), (1397, 0.7615944058761033), (1432, 0.7615944056192634), (2099, 0.7615944050909734), (603, 0.7615944047964284), (1349, 0.7615944045597752), (1468, 0.7615944044287711), (1230, 0.7615944036164743), (2361, 0.761594403421511), (1992, 0.7615944030729422), (339, 0.7615944027898318), (3023, 0.7615944026372624), (1781, 0.7615944026260826), (980, 0.7615944025985969), (559, 0.7615944025277379), (1684, 0.7615944022766311), (3000, 0.7615944022592244), (767, 0.7615944022478991), (86, 0.7615944020192064), (852, 0.7615944020107559), (679, 0.7615944017447038), (73, 0.7615944016731045), (2343, 0.7615944013790293), (1, 0.7615944012876541), (2618, 0.7615944009030433), (2302, 0.7615944008578988), (3239, 0.7615944007842913), (3049, 0.7615944007659808), (1078, 0.761594400688879), (1532, 0.7615944006391075), (2708, 0.7615944000332041), (970, 0.7615943999263137), (460, 0.7615943996177188), (1011, 0.7615943995360247), (3070, 0.7615943994916994), (1235, 0.7615943994809513), (161, 0.7615943991435136), (1586, 0.7615943987456564), (1606, 0.7615943985741114), (1793, 0.7615943985394444), (283, 0.7615943984875425), (1499, 0.7615943981259131), (2011, 0.761594398057931), (2914, 0.7615943978904525), (1300, 0.7615943975055486), (763, 0.7615943973942718), (830, 0.7615943971711154), (2108, 0.7615943970210022), (1529, 0.7615943969147867), (2423, 0.761594396801653), (824, 0.7615943967264716), (236, 0.7615943965621232), (1418, 0.7615943959451572), (3072, 0.7615943958796835), (160, 0.7615943957455965), (1612, 0.7615943957257313), (762, 0.7615943957116089), (1226, 0.7615943956852349), (1019, 0.7615943956734041), (2615, 0.7615943953436402), (1121, 0.7615943952884461), (2899, 0.7615943951438136), (1512, 0.7615943951246449), (834, 0.7615943950251134), (2494, 0.7615943949689516), (1994, 0.7615943948728929), (1641, 0.7615943944978109), (3062, 0.7615943944957863), (1750, 0.761594394334333), (2117, 0.7615943943162897), (1101, 0.7615943942944342), (3084, 0.7615943942228168), (2895, 0.7615943942093883), (2947, 0.7615943941222927), (1198, 0.7615943941132927), (2759, 0.761594394098216), (17, 0.7615943939732779), (2538, 0.761594393891148), (2553, 0.7615943936739991), (2696, 0.7615943935835047), (2060, 0.7615943934773002), (1591, 0.7615943934739628), (1759, 0.761594393344598), (242, 0.76159439326392), (1868, 0.7615943932626045), (1398, 0.7615943932553209), (132, 0.7615943931578724), (1715, 0.761594392133859), (40, 0.7615943920737202), (396, 0.7615943920172238), (2435, 0.7615943919755714), (2188, 0.7615943919029338), (812, 0.7615943914004738), (291, 0.7615943913649268), (959, 0.7615943913243366), (2938, 0.7615943913009326), (494, 0.7615943911707694), (196, 0.7615943911569235), (2483, 0.7615943910239704), (1153, 0.761594390694205), (2288, 0.7615943906671919), (1753, 0.7615943906477258), (211, 0.7615943905655381), (1594, 0.7615943903249784), (2566, 0.7615943902983058), (3247, 0.7615943900827313), (2496, 0.7615943899979793), (1915, 0.7615943899689025), (1459, 0.761594389812057), (2701, 0.7615943893161428), (2833, 0.7615943891845013), (3252, 0.7615943891074637), (2126, 0.7615943889985701), (3058, 0.7615943889789605), (1800, 0.7615943888369692), (3255, 0.7615943888219616), (715, 0.7615943887518514), (533, 0.7615943886739013), (2034, 0.7615943882628465), (20, 0.761594388208148), (1132, 0.7615943880592828), (3275, 0.7615943879604352), (500, 0.7615943879488014), (1969, 0.7615943878868279), (586, 0.7615943878838505), (2331, 0.7615943874028945), (1222, 0.7615943870396198), (179, 0.7615943864612217), (1215, 0.7615943863009766), (900, 0.7615943862555828), (2937, 0.7615943861388272), (1452, 0.7615943860893386), (77, 0.76159438557343), (1889, 0.7615943854812869), (1071, 0.7615943852192286), (1337, 0.7615943851975016), (3051, 0.7615943851719552), (781, 0.7615943850248523), (829, 0.7615943848721305), (3012, 0.7615943847989253), (1163, 0.7615943847118641), (1366, 0.7615943845317882), (272, 0.761594384084534), (3005, 0.7615943840601626), (2507, 0.7615943837656183), (1469, 0.7615943836582298), (732, 0.7615943835830055), (1154, 0.7615943834867275), (420, 0.7615943834332648), (1283, 0.7615943832878116), (1494, 0.7615943830913273), (1395, 0.7615943830217812), (2896, 0.7615943828655932), (2740, 0.761594382102821), (2442, 0.7615943820976899), (768, 0.7615943820631638), (1630, 0.7615943818721183), (697, 0.7615943818550897), (135, 0.7615943816893611), (598, 0.7615943811586902), (2587, 0.7615943807990988), (276, 0.7615943806899825), (574, 0.7615943803866041), (168, 0.7615943802753271), (1742, 0.7615943801460869), (2978, 0.7615943799964783), (240, 0.7615943795437922), (1294, 0.7615943794619044), (2178, 0.7615943793693339), (2014, 0.7615943793372623), (542, 0.7615943790315531), (2609, 0.7615943790156062), (1575, 0.761594378996681), (2789, 0.7615943788541071), (808, 0.7615943786744712), (2595, 0.7615943781520812), (1182, 0.7615943778688874), (365, 0.7615943776377859), (280, 0.7615943775782648), (1607, 0.7615943768335076), (1180, 0.7615943768174948), (2458, 0.7615943768025755), (327, 0.7615943767830686), (129, 0.7615943760567868), (2688, 0.7615943759266215), (2216, 0.7615943757861502), (1460, 0.7615943749103962), (3044, 0.7615943748197749), (750, 0.7615943745048281), (277, 0.7615943735463155), (3018, 0.761594373236786), (49, 0.7615943731621844), (1194, 0.7615943730125003), (2163, 0.7615943726535326), (3215, 0.7615943726187013), (973, 0.7615943725237067), (1438, 0.7615943724855101), (1705, 0.761594372319637), (646, 0.761594372020231), (1259, 0.7615943719050692), (399, 0.7615943717306163), (1870, 0.7615943712036128), (3057, 0.7615943712034023), (756, 0.7615943710423058), (611, 0.7615943708998958), (1089, 0.7615943700727617), (608, 0.7615943698650638), (210, 0.7615943697315164), (659, 0.7615943697100208), (631, 0.7615943695901096), (1579, 0.7615943693982238), (2379, 0.7615943690733432), (2372, 0.7615943688901146), (2261, 0.761594368709716), (2147, 0.7615943682737967), (2992, 0.7615943682517694), (1972, 0.7615943682072299), (3210, 0.7615943681251389), (669, 0.7615943679738526), (133, 0.7615943677498326), (1322, 0.7615943670676575), (1000, 0.7615943669540436), (2807, 0.7615943669112407), (2134, 0.7615943667708095), (802, 0.7615943666870612), (1792, 0.7615943664802275), (3236, 0.7615943662882267), (993, 0.7615943660400115), (2726, 0.7615943657310591), (8, 0.7615943656596972), (1550, 0.761594365604979), (1476, 0.7615943655510153), (411, 0.7615943655056278), (2325, 0.7615943653007857), (3043, 0.7615943651844289), (2017, 0.7615943650577106), (1774, 0.7615943648498341), (875, 0.7615943647530252), (2358, 0.7615943644442178), (1971, 0.7615943644329625), (289, 0.7615943644090584), (146, 0.7615943642804157), (2716, 0.761594364123755), (884, 0.7615943640516928), (1635, 0.7615943636224891), (1244, 0.7615943630550307), (367, 0.7615943625751291), (2066, 0.7615943625600221), (338, 0.7615943623938681), (2847, 0.7615943623290288), (2831, 0.7615943622609574), (1572, 0.7615943622174357), (2003, 0.7615943621322657), (2898, 0.7615943616794741), (2867, 0.7615943611229361), (2110, 0.761594360960836), (401, 0.7615943605246763), (1666, 0.7615943604467142), (981, 0.7615943601546606), (3017, 0.761594359651746), (1067, 0.7615943591762951), (2843, 0.7615943591306187), (212, 0.7615943590291545), (2674, 0.7615943590215676), (625, 0.7615943589496339), (2285, 0.7615943585869108), (254, 0.761594358546538), (2465, 0.7615943583511777), (1404, 0.7615943582983118), (150, 0.7615943582296749), (2236, 0.7615943581928126), (1571, 0.761594357885033), (2874, 0.7615943577372242), (294, 0.7615943577301905), (2125, 0.7615943576808867), (1248, 0.7615943572719411), (260, 0.761594356987252), (1360, 0.7615943569010539), (2079, 0.7615943567793828), (359, 0.7615943567108971), (807, 0.7615943566827339), (2900, 0.7615943558188074), (1773, 0.7615943553717143), (777, 0.7615943552202299), (2247, 0.7615943548944926), (311, 0.7615943547707047), (403, 0.7615943545913145), (2481, 0.761594354441482), (3167, 0.7615943544329262), (967, 0.7615943542416832), (1568, 0.7615943542284298), (2179, 0.761594354135688), (1147, 0.7615943540929309), (2035, 0.7615943539728686), (166, 0.7615943539621781), (1393, 0.7615943537103205), (3198, 0.7615943529454847), (1048, 0.7615943529319377), (3235, 0.7615943528962077), (1036, 0.7615943528613336), (3213, 0.7615943527183338), (1359, 0.7615943521506789), (50, 0.7615943518505122), (2598, 0.7615943515904647), (104, 0.7615943514757921), (1567, 0.7615943512103939), (472, 0.7615943511301968), (1935, 0.761594351047768), (3109, 0.7615943509311626), (2908, 0.7615943506491294), (1145, 0.7615943503438771), (2050, 0.7615943502757068), (3045, 0.7615943502293759), (2340, 0.761594350192271), (2019, 0.7615943500860981), (1181, 0.7615943500827466), (1523, 0.761594349864445), (881, 0.7615943496302133), (363, 0.7615943494489513), (1632, 0.761594349247981), (328, 0.7615943487971478), (722, 0.7615943485059137), (2942, 0.7615943483271389), (177, 0.7615943483003429), (2219, 0.7615943482432477), (332, 0.7615943481205256), (1045, 0.761594348022945), (1351, 0.7615943479474193), (216, 0.7615943463124195), (1588, 0.7615943460884849), (2892, 0.7615943459111313), (2150, 0.76159434575234), (2268, 0.7615943456983763), (1394, 0.7615943454650749), (3263, 0.7615943454219734), (2809, 0.7615943451458979), (2214, 0.761594345056009), (198, 0.7615943448207398), (1925, 0.7615943447795006), (1625, 0.7615943445561849), (2885, 0.761594344423951), (613, 0.7615943444091678), (402, 0.7615943441713228), (3253, 0.7615943440112215), (1266, 0.7615943438841182), (2165, 0.7615943438493984), (24, 0.7615943438330481), (454, 0.7615943433934765), (2462, 0.7615943433917838), (1738, 0.761594343355514), (930, 0.7615943431413869), (2195, 0.7615943430907405), (894, 0.7615943430330046), (3149, 0.761594342207315), (275, 0.7615943420528013), (2905, 0.7615943419140913), (2877, 0.7615943416041193), (2451, 0.7615943412789319), (2186, 0.7615943410949392), (949, 0.7615943409058713), (3102, 0.7615943407882589), (1449, 0.7615943407501559), (716, 0.7615943406554743), (880, 0.7615943399959163), (1255, 0.7615943390941899), (761, 0.7615943390219858), (2988, 0.761594338921208), (1786, 0.7615943384228667), (2665, 0.7615943378791263), (2052, 0.7615943367847391), (227, 0.7615943366924166), (995, 0.7615943365892797), (245, 0.7615943363228564), (1170, 0.7615943360263409), (1937, 0.7615943359157356), (2170, 0.7615943358900845), (315, 0.7615943358632787), (2075, 0.7615943354104133), (531, 0.7615943351340893), (1823, 0.7615943349605444), (2581, 0.7615943349126737), (1697, 0.7615943344643842), (2640, 0.7615943343374729), (2675, 0.7615943339219442), (3226, 0.7615943335397124), (180, 0.7615943320683295), (2616, 0.7615943318830771), (123, 0.7615943316170333), (2601, 0.761594330213033), (2565, 0.7615943298933303), (1855, 0.7615943297512214), (1723, 0.7615943297133595), (1176, 0.7615943295258862), (1757, 0.7615943291542009), (2040, 0.7615943290857826), (1125, 0.7615943290206566), (506, 0.7615943290190845), (780, 0.7615943287165627), (2407, 0.7615943286227327), (15, 0.7615943281059172), (786, 0.761594328100138), (3144, 0.7615943280891202), (178, 0.7615943270093288), (919, 0.7615943270018778), (2849, 0.7615943268853922), (766, 0.7615943267878377), (3047, 0.7615943266292444), (353, 0.7615943263307628), (1841, 0.7615943262214877), (1497, 0.7615943261824072), (1498, 0.7615943260343958), (2454, 0.7615943259730205), (1669, 0.7615943256840678), (1941, 0.761594325525839), (3211, 0.7615943246504157), (463, 0.7615943240321073), (3080, 0.7615943237352509), (2221, 0.7615943234535583), (2700, 0.7615943231769912), (2058, 0.7615943228027796), (1624, 0.7615943226489823), (1328, 0.761594322475702), (1114, 0.7615943224300394), (3111, 0.7615943223734647), (2923, 0.7615943222051166), (3124, 0.7615943219438327), (2748, 0.7615943214132768), (1377, 0.7615943213626286), (2926, 0.7615943213609316), (128, 0.7615943207160673), (1162, 0.7615943206929686), (1382, 0.7615943203946289), (391, 0.7615943200975502), (270, 0.7615943198103067), (773, 0.7615943195877479), (2782, 0.7615943194910336), (2479, 0.7615943191597283), (2020, 0.7615943189309136), (172, 0.7615943186364187), (2446, 0.7615943184250376), (2242, 0.7615943182250435), (2269, 0.7615943169241168), (3007, 0.7615943168559092), (388, 0.7615943166334506), (1657, 0.7615943165488892), (2994, 0.7615943159343276), (2958, 0.761594315470941), (1511, 0.7615943152107264), (2893, 0.761594314953367), (492, 0.7615943149373452), (2725, 0.7615943144426548), (480, 0.7615943142396364), (2342, 0.7615943137153284), (1411, 0.7615943135439494), (1323, 0.7615943130383822), (1183, 0.761594312984405), (321, 0.7615943129374166), (868, 0.7615943129285777), (2336, 0.7615943126566689), (2956, 0.7615943124902087), (91, 0.7615943122141435), (3197, 0.7615943118404214), (3010, 0.7615943117326147), (725, 0.761594311576951), (2364, 0.7615943115345274), (1734, 0.7615943113743856), (1835, 0.7615943113118788), (664, 0.7615943111895566), (2771, 0.7615943111148918), (2430, 0.7615943105121753), (1623, 0.7615943103514627), (1519, 0.7615943101124322), (2824, 0.761594310008362), (2557, 0.7615943093171804), (978, 0.7615943092075241), (1968, 0.7615943087771668), (145, 0.7615943085288518), (2960, 0.7615943083677169), (2903, 0.7615943081572689), (2264, 0.7615943081430653), (2266, 0.7615943081045287), (1316, 0.7615943076216699), (545, 0.7615943076086175), (2823, 0.7615943072916207), (827, 0.761594307095527), (158, 0.761594307053213), (633, 0.7615943069388156), (1932, 0.7615943068992574), (2485, 0.7615943067102922), (1848, 0.7615943066196228), (2043, 0.7615943064765847), (165, 0.7615943063468926), (1307, 0.7615943063446503), (1593, 0.7615943060055066), (2265, 0.761594305882614), (1422, 0.7615943058357327), (2844, 0.7615943056767975), (2335, 0.7615943054920635), (1321, 0.761594305489968), (755, 0.7615943054713469), (2950, 0.7615943054410019), (573, 0.761594305242725), (1291, 0.7615943049605982), (2880, 0.7615943045889727), (381, 0.7615943044716038), (1544, 0.7615943041298308), (1241, 0.7615943039236687), (2642, 0.7615943036657511), (1295, 0.7615943035899696), (2747, 0.7615943029994078), (1881, 0.7615943022401566), (2551, 0.7615943017268938), (6, 0.7615943016298923), (1822, 0.7615943016075479), (804, 0.7615943015865216), (2480, 0.7615943012020465), (889, 0.7615943007765534), (1540, 0.7615943007536259), (2363, 0.761594300514826), (1557, 0.7615943003869687), (222, 0.7615943003823822), (1462, 0.7615942997335403), (704, 0.7615942989977371), (2093, 0.7615942988448173), (461, 0.7615942978268853), (897, 0.7615942973851522), (526, 0.7615942972776526), (1208, 0.761594296284906), (1747, 0.7615942955408037), (952, 0.7615942949511795), (854, 0.7615942947740627), (1043, 0.7615942945798921), (1110, 0.7615942944698118), (2039, 0.7615942942975023), (665, 0.7615942942319095), (3271, 0.7615942941037328), (2098, 0.7615942937669639), (2741, 0.7615942935879122), (2629, 0.7615942931863731), (2866, 0.7615942930483653), (1573, 0.7615942930400543), (2555, 0.7615942927214868), (913, 0.7615942922704649), (1015, 0.7615942921675963), (1528, 0.761594292094119), (3081, 0.7615942918774143), (334, 0.7615942916374664), (1332, 0.7615942912699731), (2298, 0.7615942907073274), (2797, 0.7615942906468016), (819, 0.7615942906139411), (21, 0.7615942905010443), (2810, 0.7615942898440284), (639, 0.7615942896116437), (2680, 0.7615942891869175), (1263, 0.7615942886928143), (825, 0.7615942886424258), (693, 0.7615942883622449), (1293, 0.7615942882302467), (2202, 0.7615942881613375), (2417, 0.7615942873747701), (3082, 0.7615942871656294), (444, 0.761594286867439), (1385, 0.7615942867989145), (3027, 0.7615942867354517), (2869, 0.7615942860397351), (736, 0.7615942856165846), (1447, 0.7615942854954388), (1075, 0.7615942851972087), (3202, 0.761594285108226), (1603, 0.7615942843918388), (847, 0.7615942842581997), (901, 0.7615942842538104), (213, 0.7615942836122025), (1396, 0.7615942835818212), (579, 0.7615942835785238), (3098, 0.7615942833387876), (2639, 0.7615942832870806), (3221, 0.7615942831757375), (2235, 0.7615942829060296), (1443, 0.7615942829057487), (2113, 0.7615942828265335), (2800, 0.7615942824578565), (2724, 0.7615942818990427), (3083, 0.7615942816377983), (2699, 0.7615942814228067), (1558, 0.7615942813335548), (2347, 0.7615942812584464), (2130, 0.7615942809082329), (2090, 0.7615942807896499), (920, 0.7615942805353166), (499, 0.7615942804342386), (2064, 0.7615942798608959), (2684, 0.7615942797642195), (1227, 0.7615942797110964), (522, 0.7615942796846256), (2362, 0.7615942796218186), (1960, 0.7615942795099937), (1068, 0.7615942788041156), (2185, 0.7615942781499899), (855, 0.7615942779821481), (987, 0.7615942779637617), (2627, 0.7615942776382482), (2419, 0.7615942774019604), (1847, 0.7615942773065076), (393, 0.7615942767459054), (3104, 0.7615942766702668), (1207, 0.7615942764016372), (164, 0.7615942763640353), (1961, 0.7615942762983746), (2157, 0.76159427530302), (2308, 0.7615942741865457), (2438, 0.7615942741432687), (1851, 0.7615942740725881), (2392, 0.7615942739996915), (1233, 0.7615942738958603), (2772, 0.7615942728954526), (2933, 0.7615942728338374), (2703, 0.7615942726843664), (2468, 0.7615942725657342), (562, 0.7615942724462466), (1403, 0.7615942723328911), (998, 0.7615942723038871), (1434, 0.7615942719961474), (1526, 0.7615942719757998), (2257, 0.7615942711701134), (1090, 0.7615942709401543), (217, 0.7615942709280061), (35, 0.7615942708652101), (2314, 0.7615942707948382), (510, 0.761594270642362), (940, 0.7615942700160148), (3059, 0.7615942700087657), (2277, 0.7615942697246628), (1136, 0.7615942694290109), (2415, 0.7615942691159133), (1776, 0.7615942687946905), (1508, 0.7615942686533791), (3267, 0.7615942686143278), (316, 0.7615942680552946), (1038, 0.7615942678307056), (815, 0.7615942677884309), (3161, 0.7615942672534088), (2449, 0.7615942667865283), (1745, 0.7615942663260966), (250, 0.7615942662528093), (3248, 0.7615942659383446), (2486, 0.7615942659248107), (1700, 0.7615942658857493), (997, 0.7615942647376867), (493, 0.7615942647372378), (2281, 0.7615942642005922), (1748, 0.7615942633729771), (38, 0.7615942633627681), (1803, 0.7615942632213493), (257, 0.7615942632206467), (0, 0.7615942631812533), (384, 0.7615942631409955), (2320, 0.7615942629953145), (136, 0.7615942629605505), (2204, 0.7615942624674145), (688, 0.7615942619896111), (2059, 0.7615942609960097), (2476, 0.7615942608936763), (556, 0.761594260313156), (1262, 0.7615942602368044), (2174, 0.7615942597967869), (2327, 0.761594259342909), (961, 0.7615942593185537), (1333, 0.7615942591570589), (1287, 0.7615942591321099), (1052, 0.7615942589615761), (2197, 0.7615942585273056), (630, 0.7615942581404667), (566, 0.761594257019222), (508, 0.761594256605953), (2220, 0.7615942565619609), (2624, 0.7615942559574914), (2210, 0.761594255950538), (1056, 0.761594255405704), (1340, 0.7615942551126771), (1987, 0.7615942550258309), (602, 0.7615942549225942), (2452, 0.7615942546281455), (2575, 0.7615942545900714), (1903, 0.7615942539626988), (946, 0.7615942537248452), (2571, 0.7615942535877908), (505, 0.7615942535751548), (2742, 0.7615942535103011), (218, 0.7615942532759581), (174, 0.7615942528465847), (1995, 0.7615942523166603), (2922, 0.7615942517295946), (2199, 0.7615942516967827), (2393, 0.7615942511486771), (2526, 0.7615942511407798), (514, 0.7615942507818556), (387, 0.7615942505891574), (2897, 0.7615942503141833), (3225, 0.761594250169964), (2531, 0.76159424956186), (1097, 0.7615942482268492), (1599, 0.7615942477260331), (57, 0.7615942469807061), (2200, 0.7615942466834968), (3073, 0.7615942464555021), (3107, 0.7615942461350584), (202, 0.7615942460066689), (2758, 0.7615942456679231), (2739, 0.7615942451294855), (2860, 0.7615942450444765), (3188, 0.7615942449604474), (1128, 0.7615942449167779), (890, 0.7615942441969611), (1916, 0.7615942435827812), (220, 0.7615942432976133), (626, 0.761594243150026), (2018, 0.7615942429700195), (1155, 0.7615942429467575), (3068, 0.7615942426922789), (2919, 0.7615942419438948), (2648, 0.761594241132457), (2063, 0.7615942409497585), (1466, 0.7615942408413012), (1836, 0.761594240651859), (645, 0.761594240593058), (1040, 0.761594240462188), (885, 0.7615942403723867), (2808, 0.7615942402600194), (3019, 0.7615942402133562), (1172, 0.7615942393596966), (1524, 0.7615942392409316), (928, 0.761594239210691), (320, 0.7615942391791962), (2878, 0.7615942388941928), (1384, 0.7615942384698853), (3216, 0.7615942381397869), (1801, 0.7615942378399148), (2798, 0.7615942378362504), (3185, 0.7615942368769506), (758, 0.761594236846876), (409, 0.7615942367721363), (360, 0.7615942364352876), (921, 0.7615942363334187), (2770, 0.7615942363315793), (1740, 0.7615942360630201), (3008, 0.7615942358859673), (3014, 0.7615942358534844), (3106, 0.7615942358123723), (2412, 0.7615942356184505), (3063, 0.7615942355716816), (36, 0.7615942355145152), (1220, 0.7615942352620546), (963, 0.7615942349949075), (3025, 0.7615942348719721), (785, 0.7615942346854012), (1930, 0.7615942346776452), (1507, 0.7615942333878747), (76, 0.7615942327797712), (120, 0.7615942326144369), (1703, 0.7615942326103121), (2889, 0.761594232579733), (479, 0.7615942321245811), (134, 0.761594231943356), (778, 0.7615942317498707), (1184, 0.7615942317140425), (1252, 0.7615942308839787), (466, 0.7615942301847598), (1829, 0.7615942301830508), (2738, 0.7615942300670939), (3116, 0.7615942298815122), (330, 0.7615942288415904), (1082, 0.7615942286240887), (2729, 0.7615942280932031), (1122, 0.7615942280413505), (658, 0.7615942279478896), (1257, 0.761594227890852), (2727, 0.7615942274596255), (523, 0.7615942272207283), (114, 0.7615942271534887), (1899, 0.7615942269696236), (1721, 0.7615942267580345), (189, 0.761594225803645), (1461, 0.7615942254242902), (110, 0.7615942249407678), (701, 0.7615942245806039), (1726, 0.7615942240296478), (58, 0.7615942239239651), (370, 0.7615942232947247), (1009, 0.7615942231932971), (326, 0.7615942230773372), (1604, 0.7615942229031625), (137, 0.7615942227600656), (421, 0.7615942221870721), (1018, 0.7615942219928065), (1706, 0.761594221748072), (895, 0.7615942215890945), (484, 0.7615942212362183), (2524, 0.7615942209636147), (668, 0.7615942209439893), (470, 0.7615942208326016), (1962, 0.7615942207935851), (739, 0.7615942202577975), (1730, 0.7615942201809555), (3228, 0.7615942195821055), (3040, 0.7615942194947074), (2949, 0.7615942194445158), (1967, 0.7615942190850751), (2068, 0.7615942190229628), (1699, 0.7615942186503836), (580, 0.7615942186221675), (3241, 0.7615942185908222), (567, 0.7615942184372405), (544, 0.7615942178146472), (728, 0.7615942175089366), (2706, 0.7615942171001491), (3071, 0.7615942168792627), (3123, 0.7615942168391763), (386, 0.7615942165358268), (1910, 0.7615942162132817), (504, 0.7615942161118144), (60, 0.7615942153133172), (2687, 0.7615942151171766), (30, 0.7615942141118752), (912, 0.7615942140726552), (2406, 0.7615942140263313), (644, 0.7615942136697769), (2054, 0.7615942134643283), (2756, 0.7615942133708238), (2617, 0.7615942133407061), (1887, 0.7615942132977738), (2493, 0.7615942124381352), (1289, 0.7615942118292616), (3168, 0.7615942116956227), (72, 0.7615942112599299), (1174, 0.7615942099479364), (1409, 0.7615942098698987), (1150, 0.7615942093846428), (419, 0.7615942093350144), (733, 0.7615942090745168), (447, 0.7615942090722955), (1246, 0.7615942089948875), (2946, 0.761594208760161), (649, 0.7615942087136731), (1611, 0.7615942082169223), (1134, 0.7615942081561474), (1376, 0.761594207987268), (1724, 0.7615942079282085), (1727, 0.7615942077989878), (423, 0.7615942077544218), (2355, 0.7615942077237616), (623, 0.7615942077066576), (583, 0.7615942069936245), (1002, 0.761594206975206), (871, 0.7615942069202786), (115, 0.7615942068016632), (489, 0.7615942065311365), (2177, 0.7615942063404197), (1479, 0.7615942056947018), (1066, 0.76159420551108), (1086, 0.7615942053560366), (2998, 0.7615942050514788), (2191, 0.7615942049607737), (2116, 0.7615942042395485), (2413, 0.761594203981721), (888, 0.7615942028436546), (1877, 0.7615942025908634), (2424, 0.7615942017926444), (698, 0.7615942017595059), (2309, 0.7615942013618521), (1013, 0.7615942007477912), (2827, 0.7615942005320502), (2650, 0.7615941996615991), (1299, 0.7615941985912551), (2569, 0.7615941980774962), (2450, 0.7615941970628134), (902, 0.7615941886350088), (14, 0.7615941559557649), (22, 0.7615941559557649), (33, 0.7615941559557649), (41, 0.7615941559557649), (56, 0.7615941559557649), (95, 0.7615941559557649), (182, 0.7615941559557649), (235, 0.7615941559557649), (243, 0.7615941559557649), (301, 0.7615941559557649), (304, 0.7615941559557649), (355, 0.7615941559557649), (392, 0.7615941559557649), (425, 0.7615941559557649), (426, 0.7615941559557649), (442, 0.7615941559557649), (457, 0.7615941559557649), (459, 0.7615941559557649), (462, 0.7615941559557649), (473, 0.7615941559557649), (541, 0.7615941559557649), (572, 0.7615941559557649), (610, 0.7615941559557649), (618, 0.7615941559557649), (642, 0.7615941559557649), (685, 0.7615941559557649), (699, 0.7615941559557649), (705, 0.7615941559557649), (712, 0.7615941559557649), (723, 0.7615941559557649), (752, 0.7615941559557649), (787, 0.7615941559557649), (790, 0.7615941559557649), (796, 0.7615941559557649), (858, 0.7615941559557649), (873, 0.7615941559557649), (879, 0.7615941559557649), (917, 0.7615941559557649), (988, 0.7615941559557649), (1016, 0.7615941559557649), (1055, 0.7615941559557649), (1074, 0.7615941559557649), (1092, 0.7615941559557649), (1188, 0.7615941559557649), (1201, 0.7615941559557649), (1219, 0.7615941559557649), (1228, 0.7615941559557649), (1249, 0.7615941559557649), (1260, 0.7615941559557649), (1273, 0.7615941559557649), (1282, 0.7615941559557649), (1317, 0.7615941559557649), (1361, 0.7615941559557649), (1388, 0.7615941559557649), (1441, 0.7615941559557649), (1500, 0.7615941559557649), (1522, 0.7615941559557649), (1535, 0.7615941559557649), (1542, 0.7615941559557649), (1546, 0.7615941559557649), (1566, 0.7615941559557649), (1596, 0.7615941559557649), (1598, 0.7615941559557649), (1618, 0.7615941559557649), (1640, 0.7615941559557649), (1651, 0.7615941559557649), (1653, 0.7615941559557649), (1663, 0.7615941559557649), (1693, 0.7615941559557649), (1743, 0.7615941559557649), (1751, 0.7615941559557649), (1762, 0.7615941559557649), (1809, 0.7615941559557649), (1827, 0.7615941559557649), (1833, 0.7615941559557649), (1837, 0.7615941559557649), (1859, 0.7615941559557649), (1867, 0.7615941559557649), (1871, 0.7615941559557649), (1919, 0.7615941559557649), (1955, 0.7615941559557649), (1999, 0.7615941559557649), (2049, 0.7615941559557649), (2057, 0.7615941559557649), (2121, 0.7615941559557649), (2136, 0.7615941559557649), (2222, 0.7615941559557649), (2241, 0.7615941559557649), (2249, 0.7615941559557649), (2260, 0.7615941559557649), (2270, 0.7615941559557649), (2273, 0.7615941559557649), (2286, 0.7615941559557649), (2305, 0.7615941559557649), (2318, 0.7615941559557649), (2330, 0.7615941559557649), (2339, 0.7615941559557649), (2371, 0.7615941559557649), (2378, 0.7615941559557649), (2410, 0.7615941559557649), (2472, 0.7615941559557649), (2477, 0.7615941559557649), (2490, 0.7615941559557649), (2505, 0.7615941559557649), (2514, 0.7615941559557649), (2516, 0.7615941559557649), (2519, 0.7615941559557649), (2559, 0.7615941559557649), (2577, 0.7615941559557649), (2580, 0.7615941559557649), (2607, 0.7615941559557649), (2614, 0.7615941559557649), (2670, 0.7615941559557649), (2691, 0.7615941559557649), (2694, 0.7615941559557649), (2711, 0.7615941559557649), (2745, 0.7615941559557649), (2757, 0.7615941559557649), (2839, 0.7615941559557649), (2863, 0.7615941559557649), (2864, 0.7615941559557649), (2924, 0.7615941559557649), (2930, 0.7615941559557649), (2951, 0.7615941559557649), (2957, 0.7615941559557649), (2966, 0.7615941559557649), (2967, 0.7615941559557649), (2974, 0.7615941559557649), (2976, 0.7615941559557649), (3004, 0.7615941559557649), (3031, 0.7615941559557649), (3050, 0.7615941559557649), (3085, 0.7615941559557649), (3091, 0.7615941559557649), (3143, 0.7615941559557649), (3169, 0.7615941559557649), (3178, 0.7615941559557649), (3193, 0.7615941559557649), (3208, 0.7615941559557649), (3254, 0.7615941559557649), (3262, 0.7615941559557649), (3266, 0.7615941559557649)]\n"
     ]
    }
   ],
   "source": [
    "indices = pd.Series(movies_cleaned.index, index=movies_cleaned['original_title']).drop_duplicates()\n",
    "print(indices)\n",
    "\n",
    "title = 'Newlyweds'\n",
    "if title in indices:\n",
    "    idx = indices[title]\n",
    "    if idx < sig.shape[0]:\n",
    "        print(sig[idx])\n",
    "        sim_scores = list(enumerate(sig[idx]))\n",
    "        print(sim_scores)\n",
    "        sorted_scores = sorted(sim_scores, key=lambda x: x[1], reverse=True)\n",
    "        print(sorted_scores)\n",
    "    else:\n",
    "        print(f\"Index {idx} is out of bounds for sig matrix.\")\n",
    "else:\n",
    "    print(f\"Title '{title}' not found in indices.\")"
   ]
  },
  {
   "cell_type": "code",
   "execution_count": 47,
   "id": "e8f4ba45",
   "metadata": {},
   "outputs": [],
   "source": [
    "def give_recomendations(title, sig=sig):\n",
    "    # Get the index corresponding to original_title\n",
    "    idx = indices[title]\n",
    "\n",
    "    # Get the pairwsie similarity scores\n",
    "    sig_scores = list(enumerate(sig[idx]))\n",
    "\n",
    "    # Sort the movies\n",
    "    sig_scores = sorted(sig_scores, key=lambda x: x[1], reverse=True)\n",
    "\n",
    "    # Scores of the 10 most similar movies\n",
    "    sig_scores = sig_scores[1:11]\n",
    "\n",
    "    # Movie indices\n",
    "    movie_indices = [i[0] for i in sig_scores]\n",
    "\n",
    "    # Top 10 most similar movies\n",
    "    return movies_cleaned['original_title'].iloc[movie_indices]"
   ]
  },
  {
   "cell_type": "code",
   "execution_count": 81,
   "id": "e3087b0f",
   "metadata": {
    "scrolled": true
   },
   "outputs": [
    {
     "ename": "KeyError",
     "evalue": "'Avatar'",
     "output_type": "error",
     "traceback": [
      "\u001b[1;31m---------------------------------------------------------------------------\u001b[0m",
      "\u001b[1;31mKeyError\u001b[0m                                  Traceback (most recent call last)",
      "\u001b[1;32m~\\anaconda3\\lib\\site-packages\\pandas\\core\\indexes\\base.py\u001b[0m in \u001b[0;36mget_loc\u001b[1;34m(self, key, method, tolerance)\u001b[0m\n\u001b[0;32m   3628\u001b[0m             \u001b[1;32mtry\u001b[0m\u001b[1;33m:\u001b[0m\u001b[1;33m\u001b[0m\u001b[1;33m\u001b[0m\u001b[0m\n\u001b[1;32m-> 3629\u001b[1;33m                 \u001b[1;32mreturn\u001b[0m \u001b[0mself\u001b[0m\u001b[1;33m.\u001b[0m\u001b[0m_engine\u001b[0m\u001b[1;33m.\u001b[0m\u001b[0mget_loc\u001b[0m\u001b[1;33m(\u001b[0m\u001b[0mcasted_key\u001b[0m\u001b[1;33m)\u001b[0m\u001b[1;33m\u001b[0m\u001b[1;33m\u001b[0m\u001b[0m\n\u001b[0m\u001b[0;32m   3630\u001b[0m             \u001b[1;32mexcept\u001b[0m \u001b[0mKeyError\u001b[0m \u001b[1;32mas\u001b[0m \u001b[0merr\u001b[0m\u001b[1;33m:\u001b[0m\u001b[1;33m\u001b[0m\u001b[1;33m\u001b[0m\u001b[0m\n",
      "\u001b[1;32m~\\anaconda3\\lib\\site-packages\\pandas\\_libs\\index.pyx\u001b[0m in \u001b[0;36mpandas._libs.index.IndexEngine.get_loc\u001b[1;34m()\u001b[0m\n",
      "\u001b[1;32m~\\anaconda3\\lib\\site-packages\\pandas\\_libs\\index.pyx\u001b[0m in \u001b[0;36mpandas._libs.index.IndexEngine.get_loc\u001b[1;34m()\u001b[0m\n",
      "\u001b[1;32m~\\anaconda3\\lib\\site-packages\\pandas\\_libs\\index.pyx\u001b[0m in \u001b[0;36mpandas._libs.index.IndexEngine._get_loc_duplicates\u001b[1;34m()\u001b[0m\n",
      "\u001b[1;32m~\\anaconda3\\lib\\site-packages\\pandas\\_libs\\index.pyx\u001b[0m in \u001b[0;36mpandas._libs.index.IndexEngine._maybe_get_bool_indexer\u001b[1;34m()\u001b[0m\n",
      "\u001b[1;32m~\\anaconda3\\lib\\site-packages\\pandas\\_libs\\index.pyx\u001b[0m in \u001b[0;36mpandas._libs.index._unpack_bool_indexer\u001b[1;34m()\u001b[0m\n",
      "\u001b[1;31mKeyError\u001b[0m: 'Avatar'",
      "\nThe above exception was the direct cause of the following exception:\n",
      "\u001b[1;31mKeyError\u001b[0m                                  Traceback (most recent call last)",
      "\u001b[1;32m~\\AppData\\Local\\Temp\\ipykernel_30288\\2576350680.py\u001b[0m in \u001b[0;36m<module>\u001b[1;34m\u001b[0m\n\u001b[1;32m----> 1\u001b[1;33m \u001b[0mprint\u001b[0m\u001b[1;33m(\u001b[0m\u001b[0mgive_recomendations\u001b[0m\u001b[1;33m(\u001b[0m\u001b[1;34m'Avatar'\u001b[0m\u001b[1;33m)\u001b[0m\u001b[1;33m)\u001b[0m\u001b[1;33m\u001b[0m\u001b[1;33m\u001b[0m\u001b[0m\n\u001b[0m",
      "\u001b[1;32m~\\AppData\\Local\\Temp\\ipykernel_30288\\1652600621.py\u001b[0m in \u001b[0;36mgive_recomendations\u001b[1;34m(title, sig)\u001b[0m\n\u001b[0;32m      1\u001b[0m \u001b[1;32mdef\u001b[0m \u001b[0mgive_recomendations\u001b[0m\u001b[1;33m(\u001b[0m\u001b[0mtitle\u001b[0m\u001b[1;33m,\u001b[0m \u001b[0msig\u001b[0m\u001b[1;33m=\u001b[0m\u001b[0msig\u001b[0m\u001b[1;33m)\u001b[0m\u001b[1;33m:\u001b[0m\u001b[1;33m\u001b[0m\u001b[1;33m\u001b[0m\u001b[0m\n\u001b[0;32m      2\u001b[0m     \u001b[1;31m# Get the index corresponding to original_title\u001b[0m\u001b[1;33m\u001b[0m\u001b[1;33m\u001b[0m\u001b[0m\n\u001b[1;32m----> 3\u001b[1;33m     \u001b[0midx\u001b[0m \u001b[1;33m=\u001b[0m \u001b[0mindices\u001b[0m\u001b[1;33m[\u001b[0m\u001b[0mtitle\u001b[0m\u001b[1;33m]\u001b[0m\u001b[1;33m\u001b[0m\u001b[1;33m\u001b[0m\u001b[0m\n\u001b[0m\u001b[0;32m      4\u001b[0m \u001b[1;33m\u001b[0m\u001b[0m\n\u001b[0;32m      5\u001b[0m     \u001b[1;31m# Get the pairwsie similarity scores\u001b[0m\u001b[1;33m\u001b[0m\u001b[1;33m\u001b[0m\u001b[0m\n",
      "\u001b[1;32m~\\anaconda3\\lib\\site-packages\\pandas\\core\\series.py\u001b[0m in \u001b[0;36m__getitem__\u001b[1;34m(self, key)\u001b[0m\n\u001b[0;32m    956\u001b[0m \u001b[1;33m\u001b[0m\u001b[0m\n\u001b[0;32m    957\u001b[0m         \u001b[1;32melif\u001b[0m \u001b[0mkey_is_scalar\u001b[0m\u001b[1;33m:\u001b[0m\u001b[1;33m\u001b[0m\u001b[1;33m\u001b[0m\u001b[0m\n\u001b[1;32m--> 958\u001b[1;33m             \u001b[1;32mreturn\u001b[0m \u001b[0mself\u001b[0m\u001b[1;33m.\u001b[0m\u001b[0m_get_value\u001b[0m\u001b[1;33m(\u001b[0m\u001b[0mkey\u001b[0m\u001b[1;33m)\u001b[0m\u001b[1;33m\u001b[0m\u001b[1;33m\u001b[0m\u001b[0m\n\u001b[0m\u001b[0;32m    959\u001b[0m \u001b[1;33m\u001b[0m\u001b[0m\n\u001b[0;32m    960\u001b[0m         \u001b[1;32mif\u001b[0m \u001b[0mis_hashable\u001b[0m\u001b[1;33m(\u001b[0m\u001b[0mkey\u001b[0m\u001b[1;33m)\u001b[0m\u001b[1;33m:\u001b[0m\u001b[1;33m\u001b[0m\u001b[1;33m\u001b[0m\u001b[0m\n",
      "\u001b[1;32m~\\anaconda3\\lib\\site-packages\\pandas\\core\\series.py\u001b[0m in \u001b[0;36m_get_value\u001b[1;34m(self, label, takeable)\u001b[0m\n\u001b[0;32m   1067\u001b[0m \u001b[1;33m\u001b[0m\u001b[0m\n\u001b[0;32m   1068\u001b[0m         \u001b[1;31m# Similar to Index.get_value, but we do not fall back to positional\u001b[0m\u001b[1;33m\u001b[0m\u001b[1;33m\u001b[0m\u001b[0m\n\u001b[1;32m-> 1069\u001b[1;33m         \u001b[0mloc\u001b[0m \u001b[1;33m=\u001b[0m \u001b[0mself\u001b[0m\u001b[1;33m.\u001b[0m\u001b[0mindex\u001b[0m\u001b[1;33m.\u001b[0m\u001b[0mget_loc\u001b[0m\u001b[1;33m(\u001b[0m\u001b[0mlabel\u001b[0m\u001b[1;33m)\u001b[0m\u001b[1;33m\u001b[0m\u001b[1;33m\u001b[0m\u001b[0m\n\u001b[0m\u001b[0;32m   1070\u001b[0m         \u001b[1;32mreturn\u001b[0m \u001b[0mself\u001b[0m\u001b[1;33m.\u001b[0m\u001b[0mindex\u001b[0m\u001b[1;33m.\u001b[0m\u001b[0m_get_values_for_loc\u001b[0m\u001b[1;33m(\u001b[0m\u001b[0mself\u001b[0m\u001b[1;33m,\u001b[0m \u001b[0mloc\u001b[0m\u001b[1;33m,\u001b[0m \u001b[0mlabel\u001b[0m\u001b[1;33m)\u001b[0m\u001b[1;33m\u001b[0m\u001b[1;33m\u001b[0m\u001b[0m\n\u001b[0;32m   1071\u001b[0m \u001b[1;33m\u001b[0m\u001b[0m\n",
      "\u001b[1;32m~\\anaconda3\\lib\\site-packages\\pandas\\core\\indexes\\base.py\u001b[0m in \u001b[0;36mget_loc\u001b[1;34m(self, key, method, tolerance)\u001b[0m\n\u001b[0;32m   3629\u001b[0m                 \u001b[1;32mreturn\u001b[0m \u001b[0mself\u001b[0m\u001b[1;33m.\u001b[0m\u001b[0m_engine\u001b[0m\u001b[1;33m.\u001b[0m\u001b[0mget_loc\u001b[0m\u001b[1;33m(\u001b[0m\u001b[0mcasted_key\u001b[0m\u001b[1;33m)\u001b[0m\u001b[1;33m\u001b[0m\u001b[1;33m\u001b[0m\u001b[0m\n\u001b[0;32m   3630\u001b[0m             \u001b[1;32mexcept\u001b[0m \u001b[0mKeyError\u001b[0m \u001b[1;32mas\u001b[0m \u001b[0merr\u001b[0m\u001b[1;33m:\u001b[0m\u001b[1;33m\u001b[0m\u001b[1;33m\u001b[0m\u001b[0m\n\u001b[1;32m-> 3631\u001b[1;33m                 \u001b[1;32mraise\u001b[0m \u001b[0mKeyError\u001b[0m\u001b[1;33m(\u001b[0m\u001b[0mkey\u001b[0m\u001b[1;33m)\u001b[0m \u001b[1;32mfrom\u001b[0m \u001b[0merr\u001b[0m\u001b[1;33m\u001b[0m\u001b[1;33m\u001b[0m\u001b[0m\n\u001b[0m\u001b[0;32m   3632\u001b[0m             \u001b[1;32mexcept\u001b[0m \u001b[0mTypeError\u001b[0m\u001b[1;33m:\u001b[0m\u001b[1;33m\u001b[0m\u001b[1;33m\u001b[0m\u001b[0m\n\u001b[0;32m   3633\u001b[0m                 \u001b[1;31m# If we have a listlike key, _check_indexing_error will raise\u001b[0m\u001b[1;33m\u001b[0m\u001b[1;33m\u001b[0m\u001b[0m\n",
      "\u001b[1;31mKeyError\u001b[0m: 'Avatar'"
     ]
    }
   ],
   "source": [
    "print(give_recomendations('Avatar'))"
   ]
  },
  {
   "cell_type": "code",
   "execution_count": 84,
   "id": "8962e9a3",
   "metadata": {},
   "outputs": [],
   "source": [
    "from sklearn.metrics.pairwise import cosine_similarity"
   ]
  },
  {
   "cell_type": "code",
   "execution_count": 85,
   "id": "9eb90bd6",
   "metadata": {},
   "outputs": [],
   "source": [
    "# Compute similarity matrix\n",
    "cosine_sim = cosine_similarity(tfv_matrix, tfv_matrix)"
   ]
  },
  {
   "cell_type": "code",
   "execution_count": 86,
   "id": "737ee1f8",
   "metadata": {},
   "outputs": [
    {
     "name": "stdout",
     "output_type": "stream",
     "text": [
      "1598                                Drag Me to Hell\n",
      "2038                                  Summer of Sam\n",
      "2536                                The Deer Hunter\n",
      "451                                    The Haunting\n",
      "3115    An Alan Smithee Film: Burn, Hollywood, Burn\n",
      "1635                        The Replacement Killers\n",
      "630                                 What Women Want\n",
      "703                                Two Weeks Notice\n",
      "258                                    The Smurfs 2\n",
      "1846          Anchorman: The Legend of Ron Burgundy\n",
      "Name: original_title, dtype: object\n"
     ]
    }
   ],
   "source": [
    "def get_recommendations(title, cosine_sim=cosine_sim):\n",
    "    # Get the index of the movie\n",
    "    idx = movies.index[movies['original_title'] == title].tolist()[0]\n",
    "    \n",
    "    # Get similarity scores for the movie\n",
    "    sim_scores = list(enumerate(cosine_sim[idx]))\n",
    "    \n",
    "    # Sort movies based on similarity scores\n",
    "    sim_scores = sorted(sim_scores, key=lambda x: x[1], reverse=True)\n",
    "    \n",
    "    # Get the indices of the top 10 most similar movies\n",
    "    sim_scores = sim_scores[1:11]\n",
    "    movie_indices = [i[0] for i in sim_scores]\n",
    "    \n",
    "    # Return the top 10 most similar movies\n",
    "    return movies['original_title'].iloc[movie_indices]\n",
    "\n",
    "# Test the function\n",
    "print(get_recommendations('Avatar'))"
   ]
  },
  {
   "cell_type": "markdown",
   "id": "2ed3f395",
   "metadata": {},
   "source": [
    "Summary\n",
    "\n",
    "> Data Preparation: Clean and format your data for analysis.\n",
    "\n",
    "> Recommendation Approaches: Understand and implement different recommendation techniques.\n",
    "\n",
    "> Model Training and Evaluation: Build, test, and refine your recommendation models."
   ]
  },
  {
   "cell_type": "code",
   "execution_count": null,
   "id": "090f2005",
   "metadata": {},
   "outputs": [],
   "source": []
  },
  {
   "cell_type": "code",
   "execution_count": null,
   "id": "18dbadb6",
   "metadata": {},
   "outputs": [],
   "source": []
  },
  {
   "cell_type": "code",
   "execution_count": null,
   "id": "67f9f205",
   "metadata": {},
   "outputs": [],
   "source": []
  },
  {
   "cell_type": "code",
   "execution_count": null,
   "id": "aa377cfa",
   "metadata": {},
   "outputs": [],
   "source": []
  },
  {
   "cell_type": "code",
   "execution_count": null,
   "id": "93be5613",
   "metadata": {},
   "outputs": [],
   "source": []
  },
  {
   "cell_type": "code",
   "execution_count": null,
   "id": "e7fe194c",
   "metadata": {},
   "outputs": [],
   "source": []
  },
  {
   "cell_type": "code",
   "execution_count": null,
   "id": "5ae50d35",
   "metadata": {},
   "outputs": [],
   "source": []
  },
  {
   "cell_type": "code",
   "execution_count": null,
   "id": "1cfb50d9",
   "metadata": {},
   "outputs": [],
   "source": []
  },
  {
   "cell_type": "code",
   "execution_count": null,
   "id": "a53a69bb",
   "metadata": {},
   "outputs": [],
   "source": []
  },
  {
   "cell_type": "code",
   "execution_count": null,
   "id": "036fbb88",
   "metadata": {},
   "outputs": [],
   "source": []
  },
  {
   "cell_type": "code",
   "execution_count": null,
   "id": "07294834",
   "metadata": {},
   "outputs": [],
   "source": []
  },
  {
   "cell_type": "code",
   "execution_count": null,
   "id": "f4d72014",
   "metadata": {},
   "outputs": [],
   "source": []
  },
  {
   "cell_type": "code",
   "execution_count": null,
   "id": "04a652c8",
   "metadata": {},
   "outputs": [],
   "source": []
  },
  {
   "cell_type": "code",
   "execution_count": null,
   "id": "42183877",
   "metadata": {},
   "outputs": [],
   "source": []
  },
  {
   "cell_type": "code",
   "execution_count": null,
   "id": "502bd4ec",
   "metadata": {},
   "outputs": [],
   "source": []
  },
  {
   "cell_type": "code",
   "execution_count": null,
   "id": "16744638",
   "metadata": {},
   "outputs": [],
   "source": []
  },
  {
   "cell_type": "code",
   "execution_count": null,
   "id": "43d685df",
   "metadata": {},
   "outputs": [],
   "source": []
  },
  {
   "cell_type": "code",
   "execution_count": null,
   "id": "7f380d5e",
   "metadata": {},
   "outputs": [],
   "source": []
  },
  {
   "cell_type": "code",
   "execution_count": null,
   "id": "f5a5b438",
   "metadata": {},
   "outputs": [],
   "source": []
  },
  {
   "cell_type": "code",
   "execution_count": null,
   "id": "9d458692",
   "metadata": {},
   "outputs": [],
   "source": []
  },
  {
   "cell_type": "code",
   "execution_count": null,
   "id": "61fe3db9",
   "metadata": {},
   "outputs": [],
   "source": []
  },
  {
   "cell_type": "code",
   "execution_count": null,
   "id": "c0141ef8",
   "metadata": {},
   "outputs": [],
   "source": []
  },
  {
   "cell_type": "code",
   "execution_count": null,
   "id": "1b1bd503",
   "metadata": {},
   "outputs": [],
   "source": []
  },
  {
   "cell_type": "code",
   "execution_count": null,
   "id": "45690701",
   "metadata": {},
   "outputs": [],
   "source": []
  }
 ],
 "metadata": {
  "kernelspec": {
   "display_name": "Python 3 (ipykernel)",
   "language": "python",
   "name": "python3"
  },
  "language_info": {
   "codemirror_mode": {
    "name": "ipython",
    "version": 3
   },
   "file_extension": ".py",
   "mimetype": "text/x-python",
   "name": "python",
   "nbconvert_exporter": "python",
   "pygments_lexer": "ipython3",
   "version": "3.9.13"
  }
 },
 "nbformat": 4,
 "nbformat_minor": 5
}
